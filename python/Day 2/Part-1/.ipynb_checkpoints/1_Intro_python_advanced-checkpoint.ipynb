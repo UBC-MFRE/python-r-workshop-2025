{
 "cells": [
  {
   "cell_type": "markdown",
   "metadata": {},
   "source": [
    "# Introduction in Python\n",
    "\n",
    "Python is a high-level, interpreted, interactive and object-oriented scripting language. Python is designed to be highly readable. It uses English keywords frequently where as other languages use punctuation, and it has fewer syntactical constructions than other languages.\n",
    "\n",
    "Now that you have gone through the basics of computer programming, let's dive deeper into Python and the the ways in which we can do things pythonically.\n",
    "\n",
    "## Table of Contents\n",
    "\n",
    "1. [Object Oriented Programming](#object-oriented-programming)\n",
    "2. [Pythonics](#pythonics)\n",
    "3. [Data Handling](#data-handling)\n",
    "4. [Machine Learning](#machine-learning)\n",
    "5. [Visualization](#visualization)\n",
    "6. [Application Programming Interface](#application-programming-interface)\n",
    "7. [Python Environments](#python-environments)\n",
    "8. [Code Segmentation](#code-segmentation)\n",
    "9. [Useful Plugins](#useful-plugins)\n",
    "10. [Markdown](#markdown)\n"
   ]
  },
  {
   "cell_type": "markdown",
   "metadata": {},
   "source": [
    "## Object Oriented Programming\n",
    "\n",
    "Object-oriented programming (OOP) is a programming paradigm based on the concept of \"objects\", which can contain data, in the form of fields (often known as attributes or properties), and code, in the form of procedures (often known as methods). For example, a car is an object which has certain properties such as color, model, and certain methods such as drive, stop, and so on.\n",
    "\n",
    "### Classes and Objects\n",
    "\n",
    "A class is a blueprint for the object. We can think of class as a sketch (prototype) of a house. It contains all the details about the floors, doors, windows etc. Based on these descriptions we build the house. House is the object. When we create an object of a class, we are creating an instance of the class. This process is known as instantiation."
   ]
  },
  {
   "cell_type": "code",
   "execution_count": 108,
   "metadata": {},
   "outputs": [
    {
     "name": "stdout",
     "output_type": "stream",
     "text": [
      "My dog's name is Willie.\n",
      "My dog is 6 years old.\n",
      "Willie is now sitting.\n",
      "Willie rolled over!\n"
     ]
    }
   ],
   "source": [
    "# Create a class \n",
    "\n",
    "class Dog:\n",
    "    def __init__(self, name, age):\n",
    "        self.name = name\n",
    "        self.age = age\n",
    "    def sit(self):\n",
    "        print(f\"{self.name} is now sitting.\")\n",
    "    def roll_over(self):\n",
    "        print(f\"{self.name} rolled over!\")\n",
    "\n",
    "my_dog = Dog('Willie', 6)\n",
    "print(f\"My dog's name is {my_dog.name}.\")\n",
    "print(f\"My dog is {my_dog.age} years old.\")\n",
    "\n",
    "my_dog.sit()\n",
    "my_dog.roll_over()"
   ]
  },
  {
   "cell_type": "markdown",
   "metadata": {},
   "source": [
    "### Important Concepts\n",
    "\n",
    "1. Inheritance\n",
    "    - Inheritance is a way of creating a new class for using details of an existing class without modifying it. The newly formed class is a derived class (or child class). Similarly, the existing class is a base class (or parent class). \n",
    "2. Encapsulation\n",
    "    - Encapsulation is an another mechanism to restrict direct access to some of the object's components. Encapsulation is implemented by using access specifiers. An access specifier defines the scope and visibility of a class member.\n",
    "3. Polymorphism\n",
    "    - Polymorphism is an ability (in OOP) to use a common interface for multiple forms (data types). It allows objects of different classes to be treated as objects of a common superclass.\n",
    "4. Abstraction\n",
    "    - Abstraction is the concept of object-oriented programming that \"shows\" only essential attributes and \"hides\" unnecessary information. The main purpose of abstraction is hiding the unnecessary details from the users."
   ]
  },
  {
   "cell_type": "code",
   "execution_count": 109,
   "metadata": {},
   "outputs": [
    {
     "name": "stdout",
     "output_type": "stream",
     "text": [
      "Willie is now searching.\n",
      "updating software\n",
      "driving\n",
      "Parrot can fly\n",
      "Penguin can't fly\n"
     ]
    }
   ],
   "source": [
    "# Example of inheritance\n",
    "\n",
    "class SARDog(Dog):\n",
    "    def __init__(self, name, age):\n",
    "        super().__init__(name, age)\n",
    "    def search(self):\n",
    "        print(f\"{self.name} is now searching.\")\n",
    "\n",
    "my_dog = SARDog('Willie', 6)\n",
    "\n",
    "my_dog.search()\n",
    "\n",
    "# Example of encapsulation\n",
    "\n",
    "class Car:\n",
    "    def __init__(self):\n",
    "        self.__updateSoftware()\n",
    "    def drive(self):\n",
    "        print('driving')\n",
    "    def __updateSoftware(self):\n",
    "        print('updating software')\n",
    "\n",
    "redcar = Car()\n",
    "redcar.drive()\n",
    "#redcar.__updateSoftware()  # not accesible from object\n",
    "\n",
    "# Example of polymorphism\n",
    "\n",
    "class Parrot:\n",
    "    def fly(self):\n",
    "        print(\"Parrot can fly\")\n",
    "    def swim(self):\n",
    "        print(\"Parrot can't swim\")\n",
    "\n",
    "class Penguin:\n",
    "    def fly(self):\n",
    "        print(\"Penguin can't fly\")\n",
    "    def swim(self):\n",
    "        print(\"Penguin can swim\")\n",
    "\n",
    "def flying_test(bird):\n",
    "    bird.fly()\n",
    "\n",
    "blu = Parrot()\n",
    "peggy = Penguin()\n",
    "\n",
    "flying_test(blu)\n",
    "flying_test(peggy)"
   ]
  },
  {
   "cell_type": "markdown",
   "metadata": {},
   "source": [
    "### Benefits of Object Oriented Programming\n",
    "\n",
    "1. **Modularity for easier troubleshooting**\n",
    "    - Something has gone wrong, and you have no idea where to look. Is the problem in the Widget, or is it the Wodget? If objects are well defined, you can more easily narrow down the problem to a particular object.\n",
    "2. **Reuse of code through inheritance**\n",
    "    - If an object already exists (perhaps written by someone else in your company), you can use that object in your program. And, if you have an object that almost does what you want but just needs a little extra functionality, you can create a new object based on the existing object.\n",
    "3. **Flexibility through polymorphism**\n",
    "    - If you have a bunch of objects that are all of the same class, but you want to iterate over them and call a particular method for each, polymorphism allows you to treat objects of different classes the same way if they contain a particular method.\n",
    "4. **Interface Descriptions**\n",
    "    - Objects can be described by the interfaces they support. If an object says it supports a particular interface, it means that the object has certain methods and properties. If an object says it supports a particular interface, it means that the object has certain methods and properties.\n",
    "\n",
    "Object Oriented Programming is a very important concept in Python. It is the foundation of many libraries and frameworks in Python. In order to better understand the concept of Object Oriented Programming, you can refer to the following resources:\n",
    "\n",
    "1. [Real Python](https://realpython.com/python3-object-oriented-programming/)\n",
    "2. [Geeks for Geeks](https://www.geeksforgeeks.org/object-oriented-programming-in-python-set-1-class-and-its-members/)\n",
    "3. [Programiz](https://www.programiz.com/python-programming/object-oriented-programming)  "
   ]
  },
  {
   "cell_type": "markdown",
   "metadata": {},
   "source": [
    "## Pythonics\n",
    "\n",
    "To clarify, Pythonics is a word I made up. But people often refer to best practices when writting code in Python as Pythonic. Python is a very versatile language. It is known for its simplicity and readability. There are certain ways in which we can write code in Python which are more efficient and readable. There are also certain attributes of Python which make it unique, which changes the way we write code in Python. \n",
    "\n",
    "### The Zen of Python\n",
    "\n",
    "The Zen of Python is a collection of 19 software principles that influences the design of Python Programming Language. It is written by Tim Peters. The Zen of Python is a collection of aphorisms that capture the guiding principles of Python's design. "
   ]
  },
  {
   "cell_type": "code",
   "execution_count": 110,
   "metadata": {},
   "outputs": [],
   "source": [
    "import this"
   ]
  },
  {
   "cell_type": "markdown",
   "metadata": {},
   "source": [
    "### Try and Except\n",
    "\n",
    "In Python, we can use try and except blocks to handle exceptions. This is a more efficient way of handling exceptions than using if-else blocks. "
   ]
  },
  {
   "cell_type": "code",
   "execution_count": 111,
   "metadata": {},
   "outputs": [
    {
     "name": "stdout",
     "output_type": "stream",
     "text": [
      "15\n"
     ]
    }
   ],
   "source": [
    "# Add all numbers in a list\n",
    "\n",
    "mis_list = ['teh', 'smae', 'htis', 'wrod']\n",
    "int_list = [1, 2, 3, 4, 5]\n",
    "g_list = ['apple', 'banana', 'cherry', 'date', 'elderberry']\n",
    "combo_list = mis_list + int_list + g_list\n",
    "\n",
    "def cum_sum(list):\n",
    "    sum = 0\n",
    "    for i in list:\n",
    "        try:\n",
    "            sum += i\n",
    "        except:\n",
    "            continue\n",
    "    return sum\n",
    "\n",
    "print(cum_sum(combo_list))"
   ]
  },
  {
   "cell_type": "markdown",
   "metadata": {},
   "source": [
    "### Value Swapping and Multiple Assignment\n",
    "\n",
    "In Python, we can swap the values of two variables without using a temporary variable. We can also assign multiple values to multiple variables in a single line."
   ]
  },
  {
   "cell_type": "code",
   "execution_count": 112,
   "metadata": {},
   "outputs": [
    {
     "name": "stdout",
     "output_type": "stream",
     "text": [
      "apple\n"
     ]
    }
   ],
   "source": [
    "fruits = ['apple', 'banana', 'cherry']\n",
    "f1, f2, f3 = fruits\n",
    "\n",
    "print(f1)"
   ]
  },
  {
   "cell_type": "markdown",
   "metadata": {},
   "source": [
    "### Passing Multiple Arguments\n",
    "\n",
    "In Python, we can pass multiple arguments to a function using the *args and **kwargs syntax. These will be unpacked into a tuple and a dictionary respectively. This also allows you to easily merge two dictionaries or lists. If you try to merge two lists by putting both variables in the list, it will create a list of lists, which is not what you want."
   ]
  },
  {
   "cell_type": "code",
   "execution_count": 113,
   "metadata": {},
   "outputs": [
    {
     "name": "stdout",
     "output_type": "stream",
     "text": [
      "[(1, 2), (3, 4), (5, 6), (1, 2), (3, 4), (5, 6)]\n",
      "[[(1, 2), (3, 4), (5, 6)], [(1, 2), (3, 4), (5, 6)]]\n",
      "{'a': 1, 'b': 2, 'c': 3, 'd': 4}\n"
     ]
    }
   ],
   "source": [
    "# Create a list of tuples\n",
    "\n",
    "list1 = [(1, 2), (3, 4), (5, 6)]\n",
    "list2 = [(1, 2), (3, 4), (5, 6)]\n",
    "long_list = [*list1, *list2]\n",
    "incorrect_list = [list1, list2]\n",
    "\n",
    "print(long_list)\n",
    "print(incorrect_list)\n",
    "\n",
    "# Create a list of dictionaries\n",
    "\n",
    "dict1 = {'a': 1, 'b': 2}\n",
    "dict2 = {'c': 3, 'd': 4}\n",
    "long_dict = {**dict1, **dict2}\n",
    "\n",
    "print(long_dict)"
   ]
  },
  {
   "cell_type": "markdown",
   "metadata": {},
   "source": [
    "### Comprehension\n",
    "\n",
    "List comprihension is a concise way to loop through all elements of a list and apply a function to them. The same effect can be achieved using a for loop, but list comprehension is more efficient and readable. \n",
    "\n",
    "Lambda functions are small anonymous functions. They can have any number of arguments but only one expression. They are used when you need a small function that you will only use once. While list comprehensions and lambda functions are very useful to clean up your code, they can also make your code less readable. So don't force their usage if it makes your code less readable."
   ]
  },
  {
   "cell_type": "code",
   "execution_count": 114,
   "metadata": {},
   "outputs": [
    {
     "name": "stdout",
     "output_type": "stream",
     "text": [
      "[1, 4, 9, 16, 25]\n",
      "[1, 4, 9, 16, 25]\n",
      "{'a': 1, 'b': 4, 'c': 9, 'd': 16}\n",
      "10\n"
     ]
    }
   ],
   "source": [
    "# Example of list comprehension\n",
    "\n",
    "list1 = [1, 2, 3, 4, 5]\n",
    "list2 = [x**2 for x in list1]\n",
    "result = []\n",
    "for x in list1:\n",
    "    result.append(x**2)\n",
    "\n",
    "print(list2)\n",
    "print(result) # Same result\n",
    "\n",
    "# Example of dictionary comprehension\n",
    "\n",
    "dict1 = {'a': 1, 'b': 2, 'c': 3, 'd': 4}\n",
    "dict2 = {k:v**2 for (k, v) in dict1.items()}\n",
    "print(dict2)\n",
    "\n",
    "# Example of an anonymous function\n",
    "\n",
    "double = lambda x: x * 2\n",
    "print(double(5))"
   ]
  },
  {
   "cell_type": "markdown",
   "metadata": {},
   "source": [
    "### Underscores in Python\n",
    "\n",
    "In Python, there is more than one way of using underscores. Each of these has a different meaning. \n",
    "\n",
    "1. Single Underscore\n",
    "    - A single underscore is used to indicate a private variable, method or class. It is a convention and does not actually make the variable private.\n",
    "2. Double Underscore\n",
    "    - A double underscore prefix causes the Python interpreter to rewrite the attribute name in order to avoid naming conflicts in subclasses. This is also called name mangling.\n",
    "3. Double Underscore and Double Underscore\n",
    "    - If a name starts and ends with double underscores, it is considered a magic method. "
   ]
  },
  {
   "cell_type": "code",
   "execution_count": 115,
   "metadata": {},
   "outputs": [
    {
     "name": "stdout",
     "output_type": "stream",
     "text": [
      "100000\n"
     ]
    }
   ],
   "source": [
    "class House:\n",
    "    def __init__(self, price):\n",
    "        self.price = price\n",
    "\n",
    "h1 = House(100000)\n",
    "h2 = House(150000)\n",
    "\n",
    "print(h1.price)"
   ]
  },
  {
   "cell_type": "markdown",
   "metadata": {},
   "source": [
    "### A Note on Indentation\n",
    "\n",
    "In Python, indentation is not just a matter of style or readability, it's a matter of syntax. Python uses indentation to define blocks of code. For example, the code within a function, loop, if statement, or class must be indented.\n",
    "\n",
    "Here is an example:"
   ]
  },
  {
   "cell_type": "code",
   "execution_count": 116,
   "metadata": {},
   "outputs": [],
   "source": [
    "def greet(name):\n",
    "    print(f\"Hello, {name}!\")"
   ]
  },
  {
   "cell_type": "markdown",
   "metadata": {},
   "source": [
    "In this example, the `print` statement is indented to show that it's part of the `greet` function. If it wasn't indented, Python would raise a `IndentationError`.\n",
    "\n",
    "Python doesn't require a specific number of spaces for indentation, but the number of spaces must be consistent throughout your code. The official Python style guide (PEP 8) recommends using 4 spaces for each level of indentation.\n",
    "\n",
    "In many other programming languages, such as C++, Java, and JavaScript, indentation is used to improve readability, but it's not part of the syntax. These languages use braces `{}` to define blocks of code, and semicolons `;` to separate statements.\n",
    "\n",
    "Here's an example in JavaScript:\n",
    "\n",
    "```javascript\n",
    "function greet(name) {\n",
    "    console.log(`Hello, ${name}!`);\n",
    "}\n",
    "```\n",
    "\n",
    "In this example, the `console.log` statement is indented to show that it's part of the `greet` function, but it would still work if it wasn't indented. The braces `{}` show where the function starts and ends.\n",
    "\n",
    "Indentation in Python is a syntactic requirement and an integral part of the language. It enforces a clean and consistent coding style. In contrast, in many other languages, indentation is optional and used for readability. This difference makes Python unique and contributes to its reputation for readability and ease of learning."
   ]
  },
  {
   "cell_type": "markdown",
   "metadata": {},
   "source": [
    "## Data Handling\n",
    "\n",
    "Data handling is an important aspect of programming. In Python, we can handle data in many ways. We can use lists, tuples, dictionaries, sets, and many other data structures to store and manipulate data. We can also use libraries such as NumPy, Pandas, and Matplotlib to handle data more efficiently.\n",
    "\n",
    "### Built in Data Structures\n",
    "\n",
    "1. Lists\n",
    "    - A list is a collection which is ordered and changeable. In Python lists are written with square brackets.\n",
    "2. Tuples\n",
    "    - A tuple is a collection which is ordered and unchangeable. In Python tuples are written with round brackets.\n",
    "3. Sets\n",
    "    - A set is a collection which is unordered and unindexed. In Python sets are written with curly brackets.\n",
    "4. Dictionaries\n",
    "    - A dictionary is a collection which is unordered, changeable and indexed. In Python dictionaries are written with curly brackets, and they have keys and values.\n",
    "\n",
    "In my personal experience, you're going to be using lists and dictionaries the most. Lists are used to store multiple items in a single variable. Dictionaries are used to store key-value pairs.\n",
    "\n",
    "You would use a list when you have a collection of items that you want to keep in order. For example, you might use a list to store the names of all the students in a class. You would use a dictionary when you have a collection of items that you want to access by a unique key. For example, you might use a dictionary to store the email addresses of all the students in a class, with the student names as the keys.\n",
    "\n",
    "You can nest lists and dictionaries inside each other to create more complex data structures. For example, you might use a list of dictionaries to store information about a collection of students, with each dictionary representing a student. You can similarly nest lists within dictionaries and lists within lists and dictionaries within dictionaries.\n",
    "\n",
    "You may be tempted to always use dictionaries as they are more flexible than lists, but remember that lists are more efficient for storing ordered collections of items. As a rule of thumb, use lists when you need to keep items in order, and use dictionaries when you need to access items by a unique key.\n",
    "\n",
    "One reason you may want to use a list over a dictionary is if you need to access items by their index. Lists are ordered collections, so you can access items by their index. Dictionaries are unordered collections, so you can't access items by their index.\n",
    "\n",
    "One way you can use a dictionary to store items in order is to use a dictionary with integer keys. For example, you could use a dictionary with integer keys to store the names of all the students in a class, with the student names as the values and the student IDs as the keys. This way, you can access the student names by their student IDs. This way you can take advantage of the flexibility of dictionaries while still keeping items in order to enable indexing. Let's take a look at how this may be implemented:"
   ]
  },
  {
   "cell_type": "code",
   "execution_count": 117,
   "metadata": {},
   "outputs": [
    {
     "name": "stdout",
     "output_type": "stream",
     "text": [
      "[{'name': 'John', 'age': 15, 'gender': 'M'}, {'name': 'Mary', 'age': 16, 'gender': 'F'}, {'name': 'Mike', 'age': 17, 'gender': 'M'}, {'name': 'Jane', 'age': 18, 'gender': 'F'}]\n",
      "First student: {'name': 'Jane', 'age': 18, 'gender': 'F', 'student_number': 1}\n",
      "Male student above 16: {'name': 'Mike', 'age': 17, 'gender': 'M', 'student_number': 4}\n",
      "First two students: [{'name': 'Jane', 'age': 18, 'gender': 'F', 'student_number': 1}, {'name': 'John', 'age': 15, 'gender': 'M', 'student_number': 2}]\n"
     ]
    }
   ],
   "source": [
    "# List of student names, ages, and gender\n",
    "students = ['John', 'Mary', 'Mike', 'Jane']\n",
    "ages = [15, 16, 17, 18]\n",
    "gender = ['M', 'F', 'M', 'F']\n",
    "\n",
    "# Create a dictionary of students\n",
    "student_list = [{'name': student, 'age': age, 'gender': gen} for student, age, gen in zip(students, ages, gender)]\n",
    "print(student_list)\n",
    "\n",
    "# Order by name in ascending order\n",
    "student_list.sort(key=lambda x: x['name'])\n",
    "\n",
    "# Assign a student number based on the order of the list\n",
    "for i, student in enumerate(student_list):\n",
    "    student['student_number'] = i + 1\n",
    "\n",
    "print(f\"First student: {student_list[0]}\")\n",
    "\n",
    "# Print all male students who are above 16 years old\n",
    "for student in student_list:\n",
    "    if student['gender'] == 'M' and student['age'] > 16:\n",
    "        print(f\"Male student above 16: {student}\")\n",
    "\n",
    "# Slice the list to get the first two students\n",
    "first_two_students = student_list[:2]\n",
    "print(f\"First two students: {first_two_students}\")"
   ]
  },
  {
   "cell_type": "markdown",
   "metadata": {},
   "source": [
    "### NumPy\n",
    "\n",
    "NumPy is a library for the Python programming language, adding support for large, multi-dimensional arrays and matrices, along with a large collection of high-level mathematical functions to operate on these arrays. Like all data structures in Python, NumPy arrays are zero-indexed, meaning that the first element is at index 0, the second element is at index 1, and so on.\n",
    "\n",
    "You can also combine NumPy arrays with other NumPy arrays, or with Python lists, tuples, or dictionaries. This can be useful if you need to combine data from different sources, or if you need to perform operations on multiple arrays at once.\n",
    "\n",
    "Aside from when you need to perform matrix operations, you may also want to use NumPy arrays when you need to perform operations on large datasets. NumPy arrays are more efficient than Python lists for performing operations on large datasets, because NumPy arrays are implemented in C, which is a faster language than Python.\n",
    "\n",
    "When trying to perform mathmatical operations on elements in a list, you would have to loop through each element in the list and perform the operation on each element. This can be slow for large datasets. NumPy arrays allow you to perform operations on all elements in the array at once, which is much faster than looping through each element."
   ]
  },
  {
   "cell_type": "code",
   "execution_count": 118,
   "metadata": {},
   "outputs": [
    {
     "name": "stdout",
     "output_type": "stream",
     "text": [
      "[1, 2, 3, 4, 5, 1, 2, 3, 4, 5, 1, 2, 3, 4, 5, 1, 2, 3, 4, 5, 1, 2, 3, 4, 5, 1, 2, 3, 4, 5, 1, 2, 3, 4, 5, 1, 2, 3, 4, 5, 1, 2, 3, 4, 5, 1, 2, 3, 4, 5]\n",
      "Time taken to multiply each element in a list by 2: 0.25002074241638184\n",
      "Time taken to multiply each element in a numpy array by 2: 0.016370058059692383\n"
     ]
    },
    {
     "name": "stdout",
     "output_type": "stream",
     "text": [
      "Time taken to multiply each element in a list by 2: 0.25002074241638184\n",
      "Time taken to multiply each element in a numpy array by 2: 0.016370058059692383\n"
     ]
    }
   ],
   "source": [
    "# What happens when you try to apply a mathmatical operator directly to a list\n",
    "list1 = [1, 2, 3, 4, 5]\n",
    "list1 = list1 * 10\n",
    "print(list1)\n",
    "\n",
    "# Comparison between numpy and python lists\n",
    "import numpy as np\n",
    "import time\n",
    "\n",
    "# Create a list of 10 million elements\n",
    "list1 = list(range(10000000))\n",
    "list2 = list(range(10000000))\n",
    "\n",
    "# Create a numpy array of 10 million elements\n",
    "array1 = np.array(list1)\n",
    "array2 = np.array(list2)\n",
    "\n",
    "# Multiply each element in the list by 2\n",
    "start = time.time()\n",
    "list1 = [x * 2 for x in list1]\n",
    "end = time.time()\n",
    "print(f\"Time taken to multiply each element in a list by 2: {end - start}\")\n",
    "\n",
    "# Multiply each element in the numpy array by 2\n",
    "start = time.time()\n",
    "array1 = array1 * 2\n",
    "end = time.time()\n",
    "print(f\"Time taken to multiply each element in a numpy array by 2: {end - start}\")"
   ]
  },
  {
   "cell_type": "markdown",
   "metadata": {},
   "source": [
    "At risk of turning this into a math camp, here's just a quick reminder matrix multiplication. When you multiply two matrices, the number of columns in the first matrix must be equal to the number of rows in the second matrix. The resulting matrix will have the same number of rows as the first matrix and the same number of columns as the second matrix. The elements of the resulting matrix are calculated by taking the dot product of the corresponding rows and columns of the two matrices. This is reffered to as the dot product.\n",
    "\n",
    "There are two ways you can multiply matrices in NumPy. You can use the `np.dot()` function, or you can use the `@` operator. The `np.dot()` function is more flexible, as it allows you to multiply arrays of different shapes. The `@` operator is more concise, as it allows you to multiply arrays with a single character. \n",
    "\n",
    "If you want to multiply two matrices element-wise, you can use the `*` operator. This will multiply the corresponding elements of the two matrices. This is different from matrix multiplication, which multiplies the corresponding rows and columns of the two matrices. \n",
    "\n",
    "You can also apply exponentiation to a NumPy array using the `**` operator. This will raise each element of the array to the power of the exponent. This can also be done with the `np.power()` function.\n",
    "\n",
    "In order to perform a cholesky decomposition on a matrix, you can use the `np.linalg.cholesky()` function. This will return the lower triangular matrix of the cholesky decomposition. If teh matrix is not positive definite, the function will raise a `LinAlgError`.\n",
    "\n",
    "You can also apply a function to each element of a NumPy array using the `np.vectorize()` function. This will return a new array with the same shape as the original array, where each element is the result of applying the function to the corresponding element of the original array. This can be useful if you need to apply a function to each element of an array, but the function is not vectorized. This will be equivalent to using a for loop to apply the function to each element of the array."
   ]
  },
  {
   "cell_type": "code",
   "execution_count": 119,
   "metadata": {},
   "outputs": [
    {
     "name": "stdout",
     "output_type": "stream",
     "text": [
      "130\n",
      "[ 6 14 24 36 50]\n",
      "[ 1  4  9 16 25]\n",
      "[ 1  4  9 16 25]\n"
     ]
    }
   ],
   "source": [
    "array1 = np.array([1, 2, 3, 4, 5])\n",
    "array2 = np.array([6, 7, 8, 9, 10])\n",
    "\n",
    "# Dot product of two arrays\n",
    "dot_product = np.dot(array1, array2)\n",
    "print(dot_product)\n",
    "\n",
    "# Element wise multiplication of two arrays\n",
    "element_wise = array1 * array2\n",
    "print(element_wise)\n",
    "\n",
    "# Exponential of each element in the array\n",
    "exponential = np.power(array1, 2)\n",
    "print(exponential)\n",
    "\n",
    "# Apply a function to each element in the array\n",
    "def func(x):\n",
    "    return x**2\n",
    "\n",
    "result = np.vectorize(func)(array1)\n",
    "print(result)"
   ]
  },
  {
   "cell_type": "markdown",
   "metadata": {},
   "source": [
    "### Pandas\n",
    "\n",
    "Pandas is a fast, powerful, flexible and easy to use open source data analysis and data manipulation library built on top of the Python programming language. It is used in a variety of fields, including data analysis, data visualization, and machine learning. Pandas is built on top of NumPy, so it is compatible with NumPy arrays.\n",
    "\n",
    "Pandas provides two main data structures for working with data: Series and DataFrame. A Series is a one-dimensional array-like object that can hold any data type. A DataFrame is a two-dimensional tabular data structure that can hold multiple Series objects. You can think of a DataFrame as a table, where each row is a Series and each column is a column in the table.\n",
    "\n",
    "You can create a Series object by passing a list, tuple, or dictionary to the Series constructor. You can create a DataFrame object by passing a dictionary of Series objects to the DataFrame constructor. You can also create a DataFrame object by passing a list of dictionaries to the DataFrame constructor. This will create a DataFrame where each dictionary is a row in the table.\n",
    "\n",
    "You can access elements in a Series object by passing an index to the Series object. You can access elements in a DataFrame object by passing a column name to the DataFrame object. You can also access elements in a DataFrame object by passing a row index and a column name to the DataFrame object. You can also access elements in a DataFrame object by passing a row index to the DataFrame object. This will return a Series object containing the row at the specified index.\n",
    "\n",
    "I won't be able to cover all the functionality of Pandas in this introduction, but I will cover some of the most important features. You can use the `head()` method to view the first few rows of a DataFrame. You can use the `tail()` method to view the last few rows of a DataFrame. You can use the `info()` method to view information about a DataFrame, including the data types of each column and the number of non-null values in each column. You can use the `describe()` method to view summary statistics about a DataFrame, including the mean, standard deviation, minimum, maximum, and quartiles of each column.\n",
    "\n",
    "You can read up on the documentation for Pandas [here](https://pandas.pydata.org/docs/)."
   ]
  },
  {
   "cell_type": "code",
   "execution_count": 120,
   "metadata": {},
   "outputs": [
    {
     "name": "stdout",
     "output_type": "stream",
     "text": [
      "<class 'pandas.core.frame.DataFrame'>\n",
      "RangeIndex: 1000 entries, 0 to 999\n",
      "Data columns (total 2 columns):\n",
      " #   Column  Non-Null Count  Dtype  \n",
      "---  ------  --------------  -----  \n",
      " 0   A       1000 non-null   float64\n",
      " 1   B       1000 non-null   float64\n",
      "dtypes: float64(2)\n",
      "memory usage: 15.8 KB\n"
     ]
    },
    {
     "data": {
      "text/html": [
       "<div>\n",
       "<style scoped>\n",
       "    .dataframe tbody tr th:only-of-type {\n",
       "        vertical-align: middle;\n",
       "    }\n",
       "\n",
       "    .dataframe tbody tr th {\n",
       "        vertical-align: top;\n",
       "    }\n",
       "\n",
       "    .dataframe thead th {\n",
       "        text-align: right;\n",
       "    }\n",
       "</style>\n",
       "<table border=\"1\" class=\"dataframe\">\n",
       "  <thead>\n",
       "    <tr style=\"text-align: right;\">\n",
       "      <th></th>\n",
       "      <th>A</th>\n",
       "      <th>B</th>\n",
       "    </tr>\n",
       "  </thead>\n",
       "  <tbody>\n",
       "    <tr>\n",
       "      <th>count</th>\n",
       "      <td>1000.000000</td>\n",
       "      <td>1000.000000</td>\n",
       "    </tr>\n",
       "    <tr>\n",
       "      <th>mean</th>\n",
       "      <td>-0.016097</td>\n",
       "      <td>-0.065176</td>\n",
       "    </tr>\n",
       "    <tr>\n",
       "      <th>std</th>\n",
       "      <td>0.960789</td>\n",
       "      <td>0.991133</td>\n",
       "    </tr>\n",
       "    <tr>\n",
       "      <th>min</th>\n",
       "      <td>-3.236430</td>\n",
       "      <td>-3.370415</td>\n",
       "    </tr>\n",
       "    <tr>\n",
       "      <th>25%</th>\n",
       "      <td>-0.682249</td>\n",
       "      <td>-0.713249</td>\n",
       "    </tr>\n",
       "    <tr>\n",
       "      <th>50%</th>\n",
       "      <td>-0.011206</td>\n",
       "      <td>-0.084829</td>\n",
       "    </tr>\n",
       "    <tr>\n",
       "      <th>75%</th>\n",
       "      <td>0.627133</td>\n",
       "      <td>0.593196</td>\n",
       "    </tr>\n",
       "    <tr>\n",
       "      <th>max</th>\n",
       "      <td>3.052212</td>\n",
       "      <td>3.102873</td>\n",
       "    </tr>\n",
       "  </tbody>\n",
       "</table>\n",
       "</div>"
      ],
      "text/plain": [
       "                 A            B\n",
       "count  1000.000000  1000.000000\n",
       "mean     -0.016097    -0.065176\n",
       "std       0.960789     0.991133\n",
       "min      -3.236430    -3.370415\n",
       "25%      -0.682249    -0.713249\n",
       "50%      -0.011206    -0.084829\n",
       "75%       0.627133     0.593196\n",
       "max       3.052212     3.102873"
      ]
     },
     "execution_count": 120,
     "metadata": {},
     "output_type": "execute_result"
    }
   ],
   "source": [
    "import pandas as pd\n",
    "import random\n",
    "\n",
    "# Generate some random normal data \n",
    "data = {'A': [random.normalvariate(0, 1) for _ in range(1000)], 'B': [random.normalvariate(0, 1) for _ in range(1000)]}\n",
    "\n",
    "# Create a pandas dataframe\n",
    "df = pd.DataFrame(data)\n",
    "\n",
    "# Print the first 5 rows of the dataframe\n",
    "df.head()\n",
    "\n",
    "# Print the last 5 rows of the dataframe\n",
    "df.tail()\n",
    "\n",
    "df.info()\n",
    "df.describe()\n"
   ]
  },
  {
   "cell_type": "markdown",
   "metadata": {},
   "source": [
    "Indexing and slicing in Pandas is a bit different from NumPy. In NumPy, you can use integer indices to access elements in an array. In Pandas, you can use column names to access elements in a DataFrame. You can also use row indices to access rows in a DataFrame. You can use the `loc[]` method to access rows by label, and the `iloc[]` method to access rows by integer index. You can use the `loc[]` method to access columns by label, and the `iloc[]` method to access columns by integer index.\n",
    "\n",
    "Indexing is unavoidable in the dataframe I gave you, but in general you should avoid using integer indices to access elements in a DataFrame. This is because integer indices can be ambiguous, especially if the DataFrame has been sorted or filtered. It is better to use column names to access elements in a DataFrame, as this is more explicit and less error-prone.\n",
    "\n",
    "But let's say you are given a dataframe with well defined columns and rows, you can access elements by either using the `loc[]` method or by directly accessing the element using the column name and row index. You can also apply functions to each element in a DataFrame using the `apply()` method. "
   ]
  },
  {
   "cell_type": "code",
   "execution_count": 121,
   "metadata": {},
   "outputs": [
    {
     "data": {
      "text/plain": [
       "{1.0: [2], 2.0: [4]}"
      ]
     },
     "execution_count": 121,
     "metadata": {},
     "output_type": "execute_result"
    }
   ],
   "source": [
    "# Let's reuse the student list from earlier\n",
    "student_df = pd.DataFrame(student_list)\n",
    "\n",
    "# Set the index of the dataframe to the student number\n",
    "student_df.set_index('student_number', inplace=True)\n",
    "student_df.head()\n",
    "\n",
    "# For students with an even student number, count the number of vowels in their name\n",
    "def count_vowels(name):\n",
    "    vowels = 'aeiou'\n",
    "    return sum([1 for char in name if char.lower() in vowels])\n",
    "\n",
    "student_df.loc[student_df.index % 2 == 0, 'vowel_count'] = student_df.loc[student_df.index % 2 == 0, 'name'].apply(count_vowels)\n",
    "student_df.head()\n",
    "\n",
    "# Group the students by number of vowels in their name\n",
    "grouped = student_df.groupby('vowel_count')\n",
    "grouped.groups"
   ]
  },
  {
   "cell_type": "markdown",
   "metadata": {},
   "source": [
    "There may be times when you might want to join two DataFrames together. You can use the `merge()` method to join two DataFrames together. You can specify the columns to join on using the `on` parameter. You can also specify the type of join using the `how` parameter. You can use the `concat()` function to concatenate two DataFrames together. You can specify the axis to concatenate along using the `axis` parameter. You can also specify the type of join using the `join` parameter."
   ]
  },
  {
   "cell_type": "code",
   "execution_count": 122,
   "metadata": {},
   "outputs": [
    {
     "data": {
      "text/html": [
       "<div>\n",
       "<style scoped>\n",
       "    .dataframe tbody tr th:only-of-type {\n",
       "        vertical-align: middle;\n",
       "    }\n",
       "\n",
       "    .dataframe tbody tr th {\n",
       "        vertical-align: top;\n",
       "    }\n",
       "\n",
       "    .dataframe thead th {\n",
       "        text-align: right;\n",
       "    }\n",
       "</style>\n",
       "<table border=\"1\" class=\"dataframe\">\n",
       "  <thead>\n",
       "    <tr style=\"text-align: right;\">\n",
       "      <th></th>\n",
       "      <th>A</th>\n",
       "      <th>B</th>\n",
       "      <th>A</th>\n",
       "      <th>C</th>\n",
       "    </tr>\n",
       "  </thead>\n",
       "  <tbody>\n",
       "    <tr>\n",
       "      <th>0</th>\n",
       "      <td>1</td>\n",
       "      <td>4</td>\n",
       "      <td>1</td>\n",
       "      <td>7</td>\n",
       "    </tr>\n",
       "    <tr>\n",
       "      <th>1</th>\n",
       "      <td>2</td>\n",
       "      <td>5</td>\n",
       "      <td>2</td>\n",
       "      <td>8</td>\n",
       "    </tr>\n",
       "    <tr>\n",
       "      <th>2</th>\n",
       "      <td>3</td>\n",
       "      <td>6</td>\n",
       "      <td>3</td>\n",
       "      <td>9</td>\n",
       "    </tr>\n",
       "  </tbody>\n",
       "</table>\n",
       "</div>"
      ],
      "text/plain": [
       "   A  B  A  C\n",
       "0  1  4  1  7\n",
       "1  2  5  2  8\n",
       "2  3  6  3  9"
      ]
     },
     "execution_count": 122,
     "metadata": {},
     "output_type": "execute_result"
    }
   ],
   "source": [
    "# Define two dataframes with a common column\n",
    "df1 = pd.DataFrame({'A': [1, 2, 3], 'B': [4, 5, 6]})\n",
    "df2 = pd.DataFrame({'A': [1, 2, 3], 'C': [7, 8, 9]})\n",
    "\n",
    "\n",
    "# Merge the two dataframes on the common column\n",
    "df3 = pd.merge(df1, df2, on='A')\n",
    "df3\n",
    "\n",
    "# Concatenate the two dataframes\n",
    "df4 = pd.concat([df1, df2], axis=1)\n",
    "df4"
   ]
  },
  {
   "cell_type": "markdown",
   "metadata": {},
   "source": [
    "Reshaping data is a common task in data analysis. You can use the `pivot()` method to pivot a DataFrame. You can specify the columns to pivot on using the `index` parameter. You can also specify the columns to pivot on using the `columns` parameter. You can use the `melt()` method to melt a DataFrame. You can specify the columns to melt using the `id_vars` parameter. You can also specify the columns to melt using the `value_vars` parameter."
   ]
  },
  {
   "cell_type": "code",
   "execution_count": 123,
   "metadata": {},
   "outputs": [
    {
     "data": {
      "text/html": [
       "<div>\n",
       "<style scoped>\n",
       "    .dataframe tbody tr th:only-of-type {\n",
       "        vertical-align: middle;\n",
       "    }\n",
       "\n",
       "    .dataframe tbody tr th {\n",
       "        vertical-align: top;\n",
       "    }\n",
       "\n",
       "    .dataframe thead th {\n",
       "        text-align: right;\n",
       "    }\n",
       "</style>\n",
       "<table border=\"1\" class=\"dataframe\">\n",
       "  <thead>\n",
       "    <tr style=\"text-align: right;\">\n",
       "      <th>variable</th>\n",
       "      <th>B</th>\n",
       "      <th>C</th>\n",
       "    </tr>\n",
       "    <tr>\n",
       "      <th>A</th>\n",
       "      <th></th>\n",
       "      <th></th>\n",
       "    </tr>\n",
       "  </thead>\n",
       "  <tbody>\n",
       "    <tr>\n",
       "      <th>1</th>\n",
       "      <td>5</td>\n",
       "      <td>9</td>\n",
       "    </tr>\n",
       "    <tr>\n",
       "      <th>2</th>\n",
       "      <td>6</td>\n",
       "      <td>10</td>\n",
       "    </tr>\n",
       "    <tr>\n",
       "      <th>3</th>\n",
       "      <td>7</td>\n",
       "      <td>11</td>\n",
       "    </tr>\n",
       "    <tr>\n",
       "      <th>4</th>\n",
       "      <td>8</td>\n",
       "      <td>12</td>\n",
       "    </tr>\n",
       "  </tbody>\n",
       "</table>\n",
       "</div>"
      ],
      "text/plain": [
       "variable  B   C\n",
       "A              \n",
       "1         5   9\n",
       "2         6  10\n",
       "3         7  11\n",
       "4         8  12"
      ]
     },
     "execution_count": 123,
     "metadata": {},
     "output_type": "execute_result"
    }
   ],
   "source": [
    "# Create dataframe to reshape\n",
    "data = {'A': [1, 2, 3, 4], 'B': [5, 6, 7, 8], 'C': [9, 10, 11, 12]}\n",
    "df = pd.DataFrame(data)\n",
    "\n",
    "# Melt the dataframe\n",
    "df_melted = pd.melt(df, id_vars=['A'], value_vars=['B', 'C'], var_name='variable', value_name='value')\n",
    "df_melted\n",
    "\n",
    "# Pivot the dataframe\n",
    "df_pivot = df_melted.pivot(index='A', columns='variable', values='value')\n",
    "df_pivot"
   ]
  },
  {
   "cell_type": "markdown",
   "metadata": {},
   "source": [
    "How you deal with missing data is an important part of data analysis. You can use the `dropna()` method to drop rows with missing values. You can specify the axis to drop along using the `axis` parameter. You can also specify the how parameter to drop rows with missing values in all columns. You can use the `fillna()` method to fill missing values with a specified value. You can specify the value to fill missing values with using the `value` parameter. You can also specify the method to fill missing values with using the `method` parameter.\n",
    "\n",
    "In general, you should avoid using the `dropna()` method to drop rows with missing values, as this can lead to data loss. It is better to use the `fillna()` method to fill missing values with a specified value, as this is more explicit and less error-prone."
   ]
  },
  {
   "cell_type": "code",
   "execution_count": 124,
   "metadata": {},
   "outputs": [
    {
     "data": {
      "text/html": [
       "<div>\n",
       "<style scoped>\n",
       "    .dataframe tbody tr th:only-of-type {\n",
       "        vertical-align: middle;\n",
       "    }\n",
       "\n",
       "    .dataframe tbody tr th {\n",
       "        vertical-align: top;\n",
       "    }\n",
       "\n",
       "    .dataframe thead th {\n",
       "        text-align: right;\n",
       "    }\n",
       "</style>\n",
       "<table border=\"1\" class=\"dataframe\">\n",
       "  <thead>\n",
       "    <tr style=\"text-align: right;\">\n",
       "      <th></th>\n",
       "      <th>A</th>\n",
       "      <th>B</th>\n",
       "      <th>C</th>\n",
       "    </tr>\n",
       "  </thead>\n",
       "  <tbody>\n",
       "    <tr>\n",
       "      <th>0</th>\n",
       "      <td>1</td>\n",
       "      <td>5</td>\n",
       "      <td>9</td>\n",
       "    </tr>\n",
       "    <tr>\n",
       "      <th>1</th>\n",
       "      <td>2</td>\n",
       "      <td>6</td>\n",
       "      <td>10</td>\n",
       "    </tr>\n",
       "    <tr>\n",
       "      <th>2</th>\n",
       "      <td>3</td>\n",
       "      <td>7</td>\n",
       "      <td>11</td>\n",
       "    </tr>\n",
       "    <tr>\n",
       "      <th>3</th>\n",
       "      <td>4</td>\n",
       "      <td>8</td>\n",
       "      <td>12</td>\n",
       "    </tr>\n",
       "  </tbody>\n",
       "</table>\n",
       "</div>"
      ],
      "text/plain": [
       "   A  B   C\n",
       "0  1  5   9\n",
       "1  2  6  10\n",
       "2  3  7  11\n",
       "3  4  8  12"
      ]
     },
     "execution_count": 124,
     "metadata": {},
     "output_type": "execute_result"
    }
   ],
   "source": [
    "# Create a dataframe with missing values\n",
    "data = {'A': [1, 2, 3, 4], 'B': [5, 6, None, 8], 'C': [9, 10, 11, 12]}\n",
    "df = pd.DataFrame(data)\n",
    "\n",
    "# Fill missing values with the mean of the column\n",
    "df.fillna(df.mean(), inplace=True)\n",
    "df\n",
    "\n",
    "# Drop rows with missing values\n",
    "df.dropna(inplace=True)\n",
    "df\n",
    "\n",
    "# Create a dataframe with duplicate rows\n",
    "data = {'A': [1, 2, 3, 4, 1], 'B': [5, 6, 7, 8, 5], 'C': [9, 10, 11, 12, 9]}\n",
    "df = pd.DataFrame(data)\n",
    "\n",
    "# Drop duplicate rows\n",
    "df.drop_duplicates(inplace=True)\n",
    "df"
   ]
  },
  {
   "cell_type": "markdown",
   "metadata": {},
   "source": [
    "### File I/O\n",
    "\n",
    "In Python, you can read and write data to and from files using the built-in `open()` function. You can use the `open()` function to open a file in read mode, write mode, or append mode. You can also use the `open()` function to open a file in binary mode, text mode, or universal newline mode. You can use the `read()` method to read the entire contents of a file, the `readline()` method to read a single line from a file, and the `readlines()` method to read all lines from a file into a list.\n",
    "\n",
    "You can use the `write()` method to write data to a file, the `writelines()` method to write a list of lines to a file, and the `flush()` method to flush the write buffer to the file. You can use the `close()` method to close a file. You can also use the `with` statement to open a file and automatically close it when you are done with it.\n",
    "\n",
    "But I suspect most of you will mainly deal with CSV files. You can read and write CSV files in Python using the built-in `csv` module. You can use the `csv.reader()` function to read a CSV file, and the `csv.writer()` function to write a CSV file. You can also use the `DictReader` and `DictWriter` classes to read and write CSV files as dictionaries. You can even directly read a CSV file into a Pandas DataFrame using the `pd.read_csv()` function.\n",
    "\n",
    "To output a DataFrame to a CSV file, you can use the `to_csv()` method. You can specify the file path, the delimiter, and other options using the `to_csv()` method. You can also output a DataFrame to an Excel file using the `to_excel()` method. You can specify the file path, the sheet name, and other options using the `to_excel()` method.\n",
    "\n",
    "If most of you choose to stick with Visual Studio Code, you can use the built-in file explorer to navigate to the file you want to open and you can install extensions to better visualize the data in the file. "
   ]
  },
  {
   "cell_type": "code",
   "execution_count": 125,
   "metadata": {},
   "outputs": [
    {
     "data": {
      "text/html": [
       "<div>\n",
       "<style scoped>\n",
       "    .dataframe tbody tr th:only-of-type {\n",
       "        vertical-align: middle;\n",
       "    }\n",
       "\n",
       "    .dataframe tbody tr th {\n",
       "        vertical-align: top;\n",
       "    }\n",
       "\n",
       "    .dataframe thead th {\n",
       "        text-align: right;\n",
       "    }\n",
       "</style>\n",
       "<table border=\"1\" class=\"dataframe\">\n",
       "  <thead>\n",
       "    <tr style=\"text-align: right;\">\n",
       "      <th></th>\n",
       "      <th>A</th>\n",
       "      <th>B</th>\n",
       "    </tr>\n",
       "  </thead>\n",
       "  <tbody>\n",
       "    <tr>\n",
       "      <th>0</th>\n",
       "      <td>1.466562</td>\n",
       "      <td>-0.827942</td>\n",
       "    </tr>\n",
       "    <tr>\n",
       "      <th>1</th>\n",
       "      <td>-0.348798</td>\n",
       "      <td>1.965577</td>\n",
       "    </tr>\n",
       "    <tr>\n",
       "      <th>2</th>\n",
       "      <td>1.212117</td>\n",
       "      <td>0.768392</td>\n",
       "    </tr>\n",
       "    <tr>\n",
       "      <th>3</th>\n",
       "      <td>-1.030791</td>\n",
       "      <td>-1.327860</td>\n",
       "    </tr>\n",
       "    <tr>\n",
       "      <th>4</th>\n",
       "      <td>-0.119483</td>\n",
       "      <td>0.742211</td>\n",
       "    </tr>\n",
       "  </tbody>\n",
       "</table>\n",
       "</div>"
      ],
      "text/plain": [
       "          A         B\n",
       "0  1.466562 -0.827942\n",
       "1 -0.348798  1.965577\n",
       "2  1.212117  0.768392\n",
       "3 -1.030791 -1.327860\n",
       "4 -0.119483  0.742211"
      ]
     },
     "execution_count": 125,
     "metadata": {},
     "output_type": "execute_result"
    }
   ],
   "source": [
    "import os\n",
    "import random\n",
    "import pandas as pd\n",
    "\n",
    "filename = '../data/random.csv'\n",
    "\n",
    "# Generate some data and write it to a csv file if it doesn't already exist\n",
    "if not os.path.exists(filename):\n",
    "    data = {'A': [random.normalvariate(0, 1) for _ in range(1000)], 'B': [random.normalvariate(0, 1) for _ in range(1000)]}\n",
    "    df = pd.DataFrame(data)\n",
    "    df.to_csv(filename)\n",
    "\n",
    "# Read the data from the csv file\n",
    "df = pd.read_csv(filename, index_col=0)\n",
    "df.head()"
   ]
  },
  {
   "cell_type": "markdown",
   "metadata": {},
   "source": [
    "### Statsmodels\n",
    "\n",
    "Statsmodels is a Python module that provides classes and functions for the estimation of many different statistical models, as well as for conducting statistical tests, and statistical data exploration. An extensive list of result statistics are available for each estimator. The results are tested against existing statistical packages to ensure that they are correct.\n",
    "\n",
    "Statsmodels is built on top of NumPy and Pandas, so it is compatible with NumPy arrays and Pandas DataFrames. Statsmodels provides classes and functions for estimating many different statistical models, including linear regression, logistic regression, and time series models. Statsmodels also provides classes and functions for conducting statistical tests, including hypothesis tests and goodness-of-fit tests.\n",
    "\n",
    "You can use the `OLS()` function to estimate a linear regression model. You can use the `fit()` method to fit the model to the data. You can use the `summary()` method to view the results of the model. You can use the `predict()` method to make predictions with the model. You can use the `t_test()` method to conduct a t-test on the coefficients of the model. You can use the `f_test()` method to conduct an F-test on the coefficients of the model.\n",
    "\n",
    "I will not be able to cover all the functionality of Statsmodels because that would require me to cover all the different statistical models that Statsmodels provides. But for the purposes for this demonstration, I will only cover linear regression. You can read up on the documentation for Statsmodels [here](https://www.statsmodels.org/stable/index.html)."
   ]
  },
  {
   "cell_type": "code",
   "execution_count": 126,
   "metadata": {},
   "outputs": [
    {
     "data": {
      "text/html": [
       "<table class=\"simpletable\">\n",
       "<caption>OLS Regression Results</caption>\n",
       "<tr>\n",
       "  <th>Dep. Variable:</th>    <td>disease_progression</td> <th>  R-squared:         </th> <td>   0.035</td>\n",
       "</tr>\n",
       "<tr>\n",
       "  <th>Model:</th>                    <td>OLS</td>         <th>  Adj. R-squared:    </th> <td>   0.033</td>\n",
       "</tr>\n",
       "<tr>\n",
       "  <th>Method:</th>              <td>Least Squares</td>    <th>  F-statistic:       </th> <td>   16.10</td>\n",
       "</tr>\n",
       "<tr>\n",
       "  <th>Date:</th>              <td>Tue, 16 Jul 2024</td>   <th>  Prob (F-statistic):</th> <td>7.06e-05</td>\n",
       "</tr>\n",
       "<tr>\n",
       "  <th>Time:</th>                  <td>01:38:04</td>       <th>  Log-Likelihood:    </th> <td> -2539.2</td>\n",
       "</tr>\n",
       "<tr>\n",
       "  <th>No. Observations:</th>       <td>   442</td>        <th>  AIC:               </th> <td>   5082.</td>\n",
       "</tr>\n",
       "<tr>\n",
       "  <th>Df Residuals:</th>           <td>   440</td>        <th>  BIC:               </th> <td>   5091.</td>\n",
       "</tr>\n",
       "<tr>\n",
       "  <th>Df Model:</th>               <td>     1</td>        <th>                     </th>     <td> </td>   \n",
       "</tr>\n",
       "<tr>\n",
       "  <th>Covariance Type:</th>       <td>nonrobust</td>      <th>                     </th>     <td> </td>   \n",
       "</tr>\n",
       "</table>\n",
       "<table class=\"simpletable\">\n",
       "<tr>\n",
       "    <td></td>       <th>coef</th>     <th>std err</th>      <th>t</th>      <th>P>|t|</th>  <th>[0.025</th>    <th>0.975]</th>  \n",
       "</tr>\n",
       "<tr>\n",
       "  <th>const</th> <td>  152.1335</td> <td>    3.606</td> <td>   42.192</td> <td> 0.000</td> <td>  145.047</td> <td>  159.220</td>\n",
       "</tr>\n",
       "<tr>\n",
       "  <th>age</th>   <td>  304.1831</td> <td>   75.806</td> <td>    4.013</td> <td> 0.000</td> <td>  155.196</td> <td>  453.170</td>\n",
       "</tr>\n",
       "</table>\n",
       "<table class=\"simpletable\">\n",
       "<tr>\n",
       "  <th>Omnibus:</th>       <td>52.996</td> <th>  Durbin-Watson:     </th> <td>   1.921</td>\n",
       "</tr>\n",
       "<tr>\n",
       "  <th>Prob(Omnibus):</th> <td> 0.000</td> <th>  Jarque-Bera (JB):  </th> <td>  26.909</td>\n",
       "</tr>\n",
       "<tr>\n",
       "  <th>Skew:</th>          <td> 0.438</td> <th>  Prob(JB):          </th> <td>1.43e-06</td>\n",
       "</tr>\n",
       "<tr>\n",
       "  <th>Kurtosis:</th>      <td> 2.167</td> <th>  Cond. No.          </th> <td>    21.0</td>\n",
       "</tr>\n",
       "</table><br/><br/>Notes:<br/>[1] Standard Errors assume that the covariance matrix of the errors is correctly specified."
      ],
      "text/latex": [
       "\\begin{center}\n",
       "\\begin{tabular}{lclc}\n",
       "\\toprule\n",
       "\\textbf{Dep. Variable:}    & disease\\_progression & \\textbf{  R-squared:         } &     0.035   \\\\\n",
       "\\textbf{Model:}            &         OLS          & \\textbf{  Adj. R-squared:    } &     0.033   \\\\\n",
       "\\textbf{Method:}           &    Least Squares     & \\textbf{  F-statistic:       } &     16.10   \\\\\n",
       "\\textbf{Date:}             &   Tue, 16 Jul 2024   & \\textbf{  Prob (F-statistic):} &  7.06e-05   \\\\\n",
       "\\textbf{Time:}             &       01:38:04       & \\textbf{  Log-Likelihood:    } &   -2539.2   \\\\\n",
       "\\textbf{No. Observations:} &           442        & \\textbf{  AIC:               } &     5082.   \\\\\n",
       "\\textbf{Df Residuals:}     &           440        & \\textbf{  BIC:               } &     5091.   \\\\\n",
       "\\textbf{Df Model:}         &             1        & \\textbf{                     } &             \\\\\n",
       "\\textbf{Covariance Type:}  &      nonrobust       & \\textbf{                     } &             \\\\\n",
       "\\bottomrule\n",
       "\\end{tabular}\n",
       "\\begin{tabular}{lcccccc}\n",
       "               & \\textbf{coef} & \\textbf{std err} & \\textbf{t} & \\textbf{P$> |$t$|$} & \\textbf{[0.025} & \\textbf{0.975]}  \\\\\n",
       "\\midrule\n",
       "\\textbf{const} &     152.1335  &        3.606     &    42.192  &         0.000        &      145.047    &      159.220     \\\\\n",
       "\\textbf{age}   &     304.1831  &       75.806     &     4.013  &         0.000        &      155.196    &      453.170     \\\\\n",
       "\\bottomrule\n",
       "\\end{tabular}\n",
       "\\begin{tabular}{lclc}\n",
       "\\textbf{Omnibus:}       & 52.996 & \\textbf{  Durbin-Watson:     } &    1.921  \\\\\n",
       "\\textbf{Prob(Omnibus):} &  0.000 & \\textbf{  Jarque-Bera (JB):  } &   26.909  \\\\\n",
       "\\textbf{Skew:}          &  0.438 & \\textbf{  Prob(JB):          } & 1.43e-06  \\\\\n",
       "\\textbf{Kurtosis:}      &  2.167 & \\textbf{  Cond. No.          } &     21.0  \\\\\n",
       "\\bottomrule\n",
       "\\end{tabular}\n",
       "%\\caption{OLS Regression Results}\n",
       "\\end{center}\n",
       "\n",
       "Notes: \\newline\n",
       " [1] Standard Errors assume that the covariance matrix of the errors is correctly specified."
      ],
      "text/plain": [
       "<class 'statsmodels.iolib.summary.Summary'>\n",
       "\"\"\"\n",
       "                             OLS Regression Results                            \n",
       "===============================================================================\n",
       "Dep. Variable:     disease_progression   R-squared:                       0.035\n",
       "Model:                             OLS   Adj. R-squared:                  0.033\n",
       "Method:                  Least Squares   F-statistic:                     16.10\n",
       "Date:                 Tue, 16 Jul 2024   Prob (F-statistic):           7.06e-05\n",
       "Time:                         01:38:04   Log-Likelihood:                -2539.2\n",
       "No. Observations:                  442   AIC:                             5082.\n",
       "Df Residuals:                      440   BIC:                             5091.\n",
       "Df Model:                            1                                         \n",
       "Covariance Type:             nonrobust                                         \n",
       "==============================================================================\n",
       "                 coef    std err          t      P>|t|      [0.025      0.975]\n",
       "------------------------------------------------------------------------------\n",
       "const        152.1335      3.606     42.192      0.000     145.047     159.220\n",
       "age          304.1831     75.806      4.013      0.000     155.196     453.170\n",
       "==============================================================================\n",
       "Omnibus:                       52.996   Durbin-Watson:                   1.921\n",
       "Prob(Omnibus):                  0.000   Jarque-Bera (JB):               26.909\n",
       "Skew:                           0.438   Prob(JB):                     1.43e-06\n",
       "Kurtosis:                       2.167   Cond. No.                         21.0\n",
       "==============================================================================\n",
       "\n",
       "Notes:\n",
       "[1] Standard Errors assume that the covariance matrix of the errors is correctly specified.\n",
       "\"\"\""
      ]
     },
     "execution_count": 126,
     "metadata": {},
     "output_type": "execute_result"
    }
   ],
   "source": [
    "from sklearn.datasets import load_diabetes\n",
    "import pandas as pd\n",
    "import statsmodels.api as sm\n",
    "\n",
    "# Load the 'diabetes' dataset\n",
    "diabetes = load_diabetes()\n",
    "\n",
    "# Create a DataFrame with the feature data\n",
    "df = pd.DataFrame(diabetes.data, columns=diabetes.feature_names)\n",
    "\n",
    "# Add the target variable to the DataFrame\n",
    "df['disease_progression'] = diabetes.target\n",
    "\n",
    "# Print the first few rows of the DataFrame\n",
    "df.head()\n",
    "\n",
    "# Perform ols for age on disease progression\n",
    "X = df['age']\n",
    "y = df['disease_progression']\n",
    "\n",
    "X = sm.add_constant(X)\n",
    "model = sm.OLS(y, X).fit()\n",
    "model.summary()\n"
   ]
  },
  {
   "cell_type": "markdown",
   "metadata": {},
   "source": [
    "## Application Programming Interface (API)\n",
    "\n",
    "An application programming interface (API) is a set of rules and protocols that allows one software application to interact with another. APIs are widely used in modern software development to enable communication between different applications, services, or components. In web development, APIs allow different web services to exchange data and perform actions on behalf of a user or another system.\n",
    "\n",
    "In Python, we can use libraries such as **Flask** and **Django** to create APIs. We can also use libraries such as **requests** and **urllib** to interact with APIs provided by others. In fact, major Python packages like **statsmodels** and **scikit-learn** are built on top of robust APIs.\n",
    "\n",
    "---\n",
    "\n",
    "### Flask\n",
    "\n",
    "**Flask** is a micro web framework written in Python. It is classified as a microframework because it does not require particular tools or libraries. Flask does not provide a database abstraction layer or form validation by default, instead relying on extensions to add these features as needed. This lightweight and modular design makes Flask easy to learn and use, especially for small to medium-sized web applications and APIs.\n",
    "\n",
    "Flask provides classes and functions for:\n",
    "- Creating web applications, including routes, views, and templates\n",
    "- Handling HTTP requests and responses, such as request objects, response objects, and error handlers\n",
    "\n",
    "For those interested in web development, Flask is a popular entry point for building web applications, APIs, and microservices. Flask is easy to learn and well-documented. You can read the documentation for Flask [here](https://flask.palletsprojects.com/en/2.0.x/).\n",
    "\n",
    "If you’re not focusing on web development, you will likely only deal with objects returned by APIs, using Python libraries for data access.\n",
    "\n",
    "---\n",
    "\n",
    "### Working with APIs in Python\n",
    "\n",
    "You can use the **requests** library to interact with APIs from Python. Some common HTTP request methods are:\n",
    "- `get()`: Send a GET request to retrieve data from an API.\n",
    "- `post()`: Send a POST request to submit data to an API.\n",
    "- `put()`: Send a PUT request to update data in an API.\n",
    "- `delete()`: Send a DELETE request to remove data from an API.\n",
    "- `patch()`: Send a PATCH request to partially update data.\n",
    "\n",
    "Example usage:\n"
   ]
  },
  {
   "cell_type": "code",
   "execution_count": 1,
   "metadata": {},
   "outputs": [
    {
     "name": "stdout",
     "output_type": "stream",
     "text": [
      "{'userId': 1, 'id': 1, 'title': 'sunt aut facere repellat provident occaecati excepturi optio reprehenderit', 'body': 'quia et suscipit\\nsuscipit recusandae consequuntur expedita et cum\\nreprehenderit molestiae ut ut quas totam\\nnostrum rerum est autem sunt rem eveniet architecto'}\n"
     ]
    }
   ],
   "source": [
    "import requests\n",
    "\n",
    "# Make a GET request to the JSONPlaceholder API\n",
    "response = requests.get('https://jsonplaceholder.typicode.com/posts/1')\n",
    "\n",
    "# Parse the JSON response\n",
    "data = response.json()\n",
    "\n",
    "# Print the data\n",
    "print(data)"
   ]
  },
  {
   "cell_type": "markdown",
   "metadata": {},
   "source": [
    "APIs are a great way to access data from the web. You can use APIs to access data from social media platforms, weather services, financial services, and many other sources. You can use APIs to access data in real-time, and you can use APIs to access data in bulk. You can use APIs to access data in a structured format, and you can use APIs to access data in a raw format.\n",
    "\n",
    "Rather than having to manually download data from the web, you can use APIs to automate the process. This can save you time and effort, and it can also help you access data that is not available through other means. APIs are a powerful tool for data scientists, and they are an essential part of the data science toolkit.\n",
    "\n",
    "When calling an API from a service, you will typically need to provide an API key. An API key is a unique identifier that is used to authenticate your requests to the API. You can obtain an API key by signing up for an account with the service that provides the API. You can then use the API key to authenticate your requests to the API.\n",
    "\n",
    "Want to implement ChatGPT in your application? There's an API you can use for that. Fair warning though, it can get pretty expensive."
   ]
  },
  {
   "cell_type": "markdown",
   "metadata": {},
   "source": [
    "### JSON (JavaScript Object Notation)\n",
    "\n",
    "**JSON (JavaScript Object Notation)** is a lightweight data-interchange format that is easy for humans to read and write, and easy for machines to parse and generate. JSON is language-independent and widely used as a standard for exchanging data between web services and applications.\n",
    "\n",
    "In Python, you can use the built-in `json` module to work with JSON data:\n",
    "\n",
    "- `json.loads()`: Parse JSON strings into Python objects.\n",
    "- `json.dumps()`: Convert Python objects into JSON strings.\n",
    "- `json.load()`: Read JSON data from a file.\n",
    "- `json.dump()`: Write JSON data to a file.\n",
    "\n",
    "**Example:**\n"
   ]
  },
  {
   "cell_type": "code",
   "execution_count": 2,
   "metadata": {},
   "outputs": [],
   "source": [
    "import json\n",
    "\n",
    "# Parse JSON string\n",
    "obj = json.loads('{\"name\": \"Alice\", \"age\": 30}')\n",
    "\n",
    "# Convert Python object to JSON string\n",
    "json_str = json.dumps(obj)"
   ]
  },
  {
   "cell_type": "markdown",
   "metadata": {},
   "source": [
    "## Python Environments\n",
    "\n",
    "A Python environment is a context in which you run Python code and includes the Python interpreter, the standard library, and any other modules or packages that you have installed. There are many different Python environments that you can use, including the system Python environment, virtual environments, and containerized environments.\n",
    "\n",
    "---\n",
    "\n",
    "### Virtual Environments\n",
    "\n",
    "A **virtual environment** is an isolated environment that contains its own Python interpreter, standard library, and any additional modules or packages you install. Virtual environments are useful for managing dependencies and isolating projects from each other.\n",
    "\n",
    "You can create a virtual environment using the built-in `venv` module, the third-party `virtualenv` module, or the `conda` package manager.\n",
    "\n",
    "- **On Unix-like systems (macOS, Linux):** Activate with the `source` command.\n",
    "- **On Windows systems:** Activate with the `activate` command.\n",
    "- **Deactivate on any system:** Use the `deactivate` command.\n",
    "\n",
    "You can install packages in a virtual environment using the `pip` package manager and list installed packages with `pip list`.\n",
    "\n",
    "---\n",
    "\n",
    "### Managing Environments with Conda\n",
    "\n",
    "You can also use the **conda** package manager (Anaconda or Miniconda) to create and manage environments.\n",
    "\n",
    "- Create an environment: `conda create --name myenv`\n",
    "- Activate the environment: `conda activate myenv`\n",
    "- Deactivate: `conda deactivate`\n",
    "- Install packages: `conda install package_name`\n",
    "- List packages: `conda list`\n",
    "\n",
    "If you encounter an error installing a package, it may not be available in the current channel. You can:\n",
    "- Try using a different package index or installing from source\n",
    "- Add channels with `conda config --add channels channel_name`\n",
    "- View channels: `conda config --show channels`\n",
    "- Remove channels: `conda config --remove channels channel_name`\n",
    "\n",
    "---\n",
    "\n",
    "### Python Interpreter in Visual Studio Code\n",
    "\n",
    "To easily switch between Python interpreters in VS Code:\n",
    "- Use the **`Python: Select Interpreter`** command to select the interpreter for your project.\n",
    "- Use **`Python: Create Terminal`** to open a new terminal with the selected interpreter.\n",
    "\n",
    "---\n",
    "\n",
    "### Example: Creating and Managing a Conda Environment\n",
    "\n",
    "```bash\n",
    "# Create a virtual environment\n",
    "conda create --name myenv\n",
    "conda activate myenv\n",
    "\n",
    "# Install packages\n",
    "conda install numpy pandas matplotlib\n",
    "\n",
    "# List packages\n",
    "conda list\n",
    "\n",
    "# Deactivate the virtual environment\n",
    "conda deactivate\n",
    "```\n",
    "\n",
    "\n",
    "### Package Requirements \n",
    "\n",
    "When sharing your code with others, you may want to include a `requirements.txt` file that lists all the packages that are required to run your code. You can create a `requirements.txt` file by running the `pip freeze` command. You can install the packages listed in a `requirements.txt` file by running the `pip install -r requirements.txt` command.\n",
    "\n",
    "```bash\n",
    "# Create a requirements.txt file\n",
    "pip freeze > requirements.txt\n",
    "\n",
    "# Install packages from a requirements.txt file\n",
    "pip install -r requirements.txt\n",
    "```\n"
   ]
  },
  {
   "cell_type": "markdown",
   "metadata": {},
   "source": [
    "### Docker\n",
    "\n",
    "Docker is a platform for developing, shipping, and running applications in containers. A **container** is a lightweight, standalone, executable package of software that includes everything needed to run an application: code, runtime, system tools, system libraries, and settings. Containers isolate software from their environment, ensuring that applications work uniformly regardless of where they are deployed.\n",
    "\n",
    "You can create a Docker container using a **Dockerfile**, which is a text file containing the instructions for building the container image.  \n",
    "- Build a container image with the `docker build` command.\n",
    "- Run a container using the `docker run` command.\n",
    "- List running containers with `docker ps`.\n",
    "- Stop a running container using the `docker stop` command.\n",
    "\n",
    "For more complex applications involving multiple containers, you can use the **docker-compose** tool.  \n",
    "- Define a multi-container application with a `docker-compose.yml` file (YAML format).\n",
    "- Start all defined containers with `docker-compose up`.\n",
    "- Stop all containers with `docker-compose down`.\n",
    "\n",
    "**Common Docker Commands:**\n",
    "```bash\n",
    "# Build a Docker container image\n",
    "docker build -t mycontainer .\n",
    "\n",
    "# Run a Docker container\n",
    "docker run mycontainer\n",
    "\n",
    "# List running Docker containers\n",
    "docker ps\n",
    "\n",
    "# Stop a running Docker container\n",
    "docker stop mycontainer\n"
   ]
  },
  {
   "cell_type": "markdown",
   "metadata": {},
   "source": [
    "### Common Unix Commands\n",
    "\n",
    "Here are some common Unix commands that you may find useful when working with Python environments:\n",
    "\n",
    "1. `ls`  \n",
    "    List the files and directories in the current directory.\n",
    "\n",
    "2. `cd`  \n",
    "    Change the current directory.\n",
    "\n",
    "3. `pwd`  \n",
    "    Print the current working directory.\n",
    "\n",
    "4. `mkdir`  \n",
    "    Create a new directory.\n",
    "\n",
    "5. `rm`  \n",
    "    Remove a file or directory.\n",
    "\n",
    "For a more comprehensive list of Unix commands, you can refer to the following resources:\n",
    "\n",
    "- [Unix Tutorial](https://www.tutorialspoint.com/unix/index.htm)\n",
    "- [Unix Commands](https://www.geeksforgeeks.org/unix-commands/)\n",
    "- [Unix Commands Cheat Sheet](https://www.linuxtrainingacademy.com/linux-commands-cheat-sheet/)\n",
    "- [Unix Commands Reference](https://www.lifewire.com/unix-commands-4094200)\n"
   ]
  },
  {
   "cell_type": "markdown",
   "metadata": {},
   "source": [
    "## Code Segmentation\n",
    "\n",
    "In Python, you can use code segmentation to break up your code into smaller, more manageable pieces. This makes your code easier to read, understand, and maintain. In a `.py` or `.ipynb` file, you can import functions from other files using the `import` statement or the `from ... import ...` statement. You can also use the `as` keyword to give an imported module or function an alias. To import all functions from a module, you can use the `*` wildcard.\n",
    "\n",
    "Code segmentation is especially useful when working with a large codebase, as it allows you to organize your code into different files (modules). You can create a separate file for each module, and then import only the functions or classes that you need. This approach makes your code more modular and reusable, and also simplifies testing and debugging.\n",
    "\n",
    "A typical workflow is to write and test code in a Jupyter notebook, then copy the finalized code into a Python file, and run that Python file in the terminal. This process allows you to iteratively develop and test code in the notebook environment, and then verify its correctness when run as a standalone script.\n",
    "\n",
    "**Note:** If you're importing a function from a subfolder (package), make sure to include an `__init__.py` file in that subfolder. This file can be empty, but it is required to tell Python that the subfolder is a package and enables imports from that directory.\n",
    "\n",
    "**Example:**\n",
    "```python\n",
    "# Import an entire module\n",
    "import mymodule\n",
    "\n",
    "# Import a specific function\n",
    "from mymodule import myfunction\n",
    "\n",
    "# Import with an alias\n",
    "import mymodule as mm\n",
    "\n",
    "# Import all functions (not recommended for large modules)\n",
    "from mymodule import *\n"
   ]
  },
  {
   "cell_type": "markdown",
   "metadata": {},
   "source": [
    "You would also usually include a `requirements.txt` file in the root directory of your project. This file contains a list of all the packages that your project depends on. You can use the `pip install -r requirements.txt` command to install all the packages listed in the `requirements.txt` file.\n",
    "\n",
    "Be sure to keep this file up to date as you add or remove packages from your project. This can help you keep track of the packages that your project depends on, and it can also help you ensure that your project runs on different systems. You can use the `pip freeze` command to generate a `requirements.txt` file from the packages that are installed in your environment."
   ]
  },
  {
   "cell_type": "markdown",
   "metadata": {},
   "source": [
    "## Useful Plugins\n",
    "\n",
    "I mainly use Visual Studio Code for my Python development, so here are some useful plugins that can enhance your Python development experience:\n",
    "\n",
    "1. **Python**\n",
    "    - The official Python extension for Visual Studio Code. It provides features such as IntelliSense (code completion), linting, debugging, code navigation, code formatting, and unit testing.\n",
    "\n",
    "2. **Jupyter**\n",
    "    - An extension for working with Jupyter notebooks directly in Visual Studio Code. It supports interactive notebooks with features like IntelliSense, code formatting, debugging, and visualization.\n",
    "\n",
    "3. **Rainbow Indent**\n",
    "    - This extension colorizes code indentation levels, making it easier to see code structure and improving readability—especially in deeply nested code.\n",
    "\n",
    "4. **Data Wrangler**\n",
    "    - A powerful extension for working with data. It supports data visualization, data exploration, data cleaning, and transformation—all within Visual Studio Code.\n",
    "\n",
    "---\n",
    "\n",
    "You can install these plugins by searching for them in the Visual Studio Code Marketplace.  \n",
    "Alternatively, use the terminal with the `code` command:\n",
    "\n",
    "```bash\n",
    "# Install by name from the Marketplace\n",
    "code --install-extension ms-python.python\n",
    "code --install-extension ms-toolsai.jupyter\n",
    "code --install-extension oderwat.indent-rainbow\n",
    "code --install-extension microsoft.data-wrangler\n",
    "\n",
    "# Install from a .vsix file\n",
    "code --install-extension path/to/extension.vsix\n"
   ]
  },
  {
   "cell_type": "markdown",
   "metadata": {},
   "source": [
    "## Markdown\n",
    "\n",
    "Markdown is a lightweight markup language with plain-text-formatting syntax. Its design allows it to be converted to many output formats, but the original tool by the same name only supports HTML. Markdown is often used to format README files, write messages in online discussion forums, and create rich text using a plain text editor.\n",
    "\n",
    "You can use Markdown to format text, add images, create lists, and add links. Markdown supports creating headings, paragraphs, blockquotes, code blocks, tables, lists, and task lists. It also allows for footnotes, definition lists, and abbreviations (with some implementations).\n",
    "\n",
    "Markdown is built directly into Jupyter notebooks, so you can use it to format your text, create headings, paragraphs, lists, and links, and also to add tables, images, and code blocks—all within your notebook cells.\n",
    "\n",
    "You can also add LaTeX equations to your Jupyter notebooks using Markdown. LaTeX can be used to create mathematical equations, symbols, fractions, integrals, matrices, Greek letters, arrows, and other advanced mathematical expressions.\n",
    "\n",
    "**Here's an example:**\n",
    "\n",
    "```markdown\n",
    "# Heading 1\n",
    "## Heading 2\n",
    "### Heading 3\n",
    "\n",
    "- List item\n",
    "\n",
    "1. Numbered item\n",
    "\n",
    "[Link](https://www.example.com)\n",
    "\n",
    "![Heatmap](graphs/heatmap.png)\n",
    "\n",
    "<br>\n",
    "<br>\n",
    "\n",
    "$$\n",
    "\\int_{a}^{b} x^2 dx\n",
    "$$\n"
   ]
  },
  {
   "cell_type": "code",
   "execution_count": null,
   "metadata": {},
   "outputs": [],
   "source": []
  }
 ],
 "metadata": {
  "kernelspec": {
   "display_name": "Python 3 (ipykernel)",
   "language": "python",
   "name": "python3"
  },
  "language_info": {
   "codemirror_mode": {
    "name": "ipython",
    "version": 3
   },
   "file_extension": ".py",
   "mimetype": "text/x-python",
   "name": "python",
   "nbconvert_exporter": "python",
   "pygments_lexer": "ipython3",
   "version": "3.10.18"
  }
 },
 "nbformat": 4,
 "nbformat_minor": 4
}
