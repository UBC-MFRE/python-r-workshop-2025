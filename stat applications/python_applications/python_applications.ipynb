{
 "cells": [
  {
   "cell_type": "markdown",
   "metadata": {},
   "source": [
    "# Math/Stats Application Workshop: Python\n",
    "\n",
    "Sections:\n",
    "\n",
    "1. Data Import\n",
    "2. Data checks and cleaning\n",
    "3. 1-Tail Hypothesis Test: Is everyone signing onto all 3 agreements?\n",
    "4. 2-Tail Hypothesis Test: Are Canada's emissions average?\n",
    "5. Proportion Comparison Test: Are high-income countries more likely to make emission reduction pledges?\n",
    "6. 2-Tail Means Comparison: Do high-income countries make higher or lower emission reductions?\n",
    "7. Group Comparisons: Are average emission levels different by continent?\n",
    "8. Regression: Is there evidence of an Environmental Kuznets Curve?\n"
   ]
  },
  {
   "cell_type": "markdown",
   "metadata": {},
   "source": [
    "Resources:\n",
    "\n",
    "- [One-Sample t-test](https://docs.scipy.org/doc/scipy/reference/generated/scipy.stats.ttest_ind.html)\n",
    "- [Proportion Comparison Test](https://www.statsmodels.org/stable/generated/statsmodels.stats.proportion.proportions_ztest.html)\n",
    "- [Means Comparison Test](https://docs.scipy.org/doc/scipy/reference/generated/scipy.stats.ttest_ind.html)\n",
    "- [Group Comparison Test](https://docs.scipy.org/doc/scipy/reference/generated/scipy.stats.f_oneway.html)\n",
    "- [Statsmodels OLS](https://www.statsmodels.org/stable/generated/statsmodels.regression.linear_model.OLS.html)"
   ]
  },
  {
   "cell_type": "code",
   "execution_count": 41,
   "metadata": {},
   "outputs": [],
   "source": [
    "#!pip install statsmodels"
   ]
  },
  {
   "cell_type": "code",
   "execution_count": 42,
   "metadata": {},
   "outputs": [],
   "source": [
    "import pandas as pd\n",
    "import numpy as np\n",
    "import matplotlib.pyplot as plt\n",
    "from scipy import stats\n",
    "import statsmodels.api as sm\n",
    "import seaborn as sns\n",
    "\n",
    "\n",
    "import warnings \n",
    "warnings.filterwarnings('ignore')"
   ]
  },
  {
   "cell_type": "markdown",
   "metadata": {},
   "source": [
    "# 1. Data Import"
   ]
  },
  {
   "cell_type": "code",
   "execution_count": 43,
   "metadata": {},
   "outputs": [
    {
     "data": {
      "text/html": [
       "<div>\n",
       "<style scoped>\n",
       "    .dataframe tbody tr th:only-of-type {\n",
       "        vertical-align: middle;\n",
       "    }\n",
       "\n",
       "    .dataframe tbody tr th {\n",
       "        vertical-align: top;\n",
       "    }\n",
       "\n",
       "    .dataframe thead th {\n",
       "        text-align: right;\n",
       "    }\n",
       "</style>\n",
       "<table border=\"1\" class=\"dataframe\">\n",
       "  <thead>\n",
       "    <tr style=\"text-align: right;\">\n",
       "      <th></th>\n",
       "      <th>cntry</th>\n",
       "      <th>country</th>\n",
       "      <th>CountryCode</th>\n",
       "      <th>year</th>\n",
       "      <th>wbregion</th>\n",
       "      <th>Incomegroup</th>\n",
       "      <th>total_fossil_co2_percapita</th>\n",
       "      <th>total_fossil_co2_emissions</th>\n",
       "      <th>cum_policies</th>\n",
       "      <th>cum_laws</th>\n",
       "      <th>...</th>\n",
       "      <th>GHG_percapita</th>\n",
       "      <th>GHG_total</th>\n",
       "      <th>GHG_incLULUCF</th>\n",
       "      <th>GDP</th>\n",
       "      <th>GDP_growth</th>\n",
       "      <th>GDP_percapita</th>\n",
       "      <th>population</th>\n",
       "      <th>urban_pop</th>\n",
       "      <th>oil_rents</th>\n",
       "      <th>cpi_inflation</th>\n",
       "    </tr>\n",
       "  </thead>\n",
       "  <tbody>\n",
       "    <tr>\n",
       "      <th>0</th>\n",
       "      <td>Afghanistan</td>\n",
       "      <td>Afghanistan</td>\n",
       "      <td>AFG</td>\n",
       "      <td>1970</td>\n",
       "      <td>South Asia</td>\n",
       "      <td>Low income</td>\n",
       "      <td>0.131777</td>\n",
       "      <td>1.466159</td>\n",
       "      <td>0</td>\n",
       "      <td>0</td>\n",
       "      <td>...</td>\n",
       "      <td>1.526567</td>\n",
       "      <td>16.984737</td>\n",
       "      <td>0.0</td>\n",
       "      <td>NaN</td>\n",
       "      <td>NaN</td>\n",
       "      <td>NaN</td>\n",
       "      <td>11.173642</td>\n",
       "      <td>11.643</td>\n",
       "      <td>0.017789</td>\n",
       "      <td>NaN</td>\n",
       "    </tr>\n",
       "    <tr>\n",
       "      <th>1</th>\n",
       "      <td>Afghanistan</td>\n",
       "      <td>Afghanistan</td>\n",
       "      <td>AFG</td>\n",
       "      <td>1971</td>\n",
       "      <td>South Asia</td>\n",
       "      <td>Low income</td>\n",
       "      <td>0.128334</td>\n",
       "      <td>1.465293</td>\n",
       "      <td>0</td>\n",
       "      <td>0</td>\n",
       "      <td>...</td>\n",
       "      <td>1.485187</td>\n",
       "      <td>16.957572</td>\n",
       "      <td>0.0</td>\n",
       "      <td>NaN</td>\n",
       "      <td>NaN</td>\n",
       "      <td>NaN</td>\n",
       "      <td>11.475445</td>\n",
       "      <td>12.021</td>\n",
       "      <td>0.029425</td>\n",
       "      <td>NaN</td>\n",
       "    </tr>\n",
       "    <tr>\n",
       "      <th>2</th>\n",
       "      <td>Afghanistan</td>\n",
       "      <td>Afghanistan</td>\n",
       "      <td>AFG</td>\n",
       "      <td>1972</td>\n",
       "      <td>South Asia</td>\n",
       "      <td>Low income</td>\n",
       "      <td>0.128894</td>\n",
       "      <td>1.510878</td>\n",
       "      <td>0</td>\n",
       "      <td>0</td>\n",
       "      <td>...</td>\n",
       "      <td>1.313449</td>\n",
       "      <td>15.396115</td>\n",
       "      <td>0.0</td>\n",
       "      <td>NaN</td>\n",
       "      <td>NaN</td>\n",
       "      <td>NaN</td>\n",
       "      <td>11.791215</td>\n",
       "      <td>12.410</td>\n",
       "      <td>0.033101</td>\n",
       "      <td>NaN</td>\n",
       "    </tr>\n",
       "    <tr>\n",
       "      <th>3</th>\n",
       "      <td>Afghanistan</td>\n",
       "      <td>Afghanistan</td>\n",
       "      <td>AFG</td>\n",
       "      <td>1973</td>\n",
       "      <td>South Asia</td>\n",
       "      <td>Low income</td>\n",
       "      <td>0.122525</td>\n",
       "      <td>1.473702</td>\n",
       "      <td>0</td>\n",
       "      <td>0</td>\n",
       "      <td>...</td>\n",
       "      <td>1.269763</td>\n",
       "      <td>15.272453</td>\n",
       "      <td>0.0</td>\n",
       "      <td>NaN</td>\n",
       "      <td>NaN</td>\n",
       "      <td>NaN</td>\n",
       "      <td>12.108963</td>\n",
       "      <td>12.809</td>\n",
       "      <td>0.055438</td>\n",
       "      <td>NaN</td>\n",
       "    </tr>\n",
       "    <tr>\n",
       "      <th>4</th>\n",
       "      <td>Afghanistan</td>\n",
       "      <td>Afghanistan</td>\n",
       "      <td>AFG</td>\n",
       "      <td>1974</td>\n",
       "      <td>South Asia</td>\n",
       "      <td>Low income</td>\n",
       "      <td>0.153876</td>\n",
       "      <td>1.895983</td>\n",
       "      <td>0</td>\n",
       "      <td>0</td>\n",
       "      <td>...</td>\n",
       "      <td>1.391304</td>\n",
       "      <td>17.142954</td>\n",
       "      <td>0.0</td>\n",
       "      <td>NaN</td>\n",
       "      <td>NaN</td>\n",
       "      <td>NaN</td>\n",
       "      <td>12.412950</td>\n",
       "      <td>13.219</td>\n",
       "      <td>0.182464</td>\n",
       "      <td>NaN</td>\n",
       "    </tr>\n",
       "  </tbody>\n",
       "</table>\n",
       "<p>5 rows × 47 columns</p>\n",
       "</div>"
      ],
      "text/plain": [
       "         cntry      country CountryCode  year    wbregion Incomegroup  \\\n",
       "0  Afghanistan  Afghanistan         AFG  1970  South Asia  Low income   \n",
       "1  Afghanistan  Afghanistan         AFG  1971  South Asia  Low income   \n",
       "2  Afghanistan  Afghanistan         AFG  1972  South Asia  Low income   \n",
       "3  Afghanistan  Afghanistan         AFG  1973  South Asia  Low income   \n",
       "4  Afghanistan  Afghanistan         AFG  1974  South Asia  Low income   \n",
       "\n",
       "   total_fossil_co2_percapita  total_fossil_co2_emissions  cum_policies  \\\n",
       "0                    0.131777                    1.466159             0   \n",
       "1                    0.128334                    1.465293             0   \n",
       "2                    0.128894                    1.510878             0   \n",
       "3                    0.122525                    1.473702             0   \n",
       "4                    0.153876                    1.895983             0   \n",
       "\n",
       "   cum_laws  ...  GHG_percapita  GHG_total  GHG_incLULUCF  GDP  GDP_growth  \\\n",
       "0         0  ...       1.526567  16.984737            0.0  NaN         NaN   \n",
       "1         0  ...       1.485187  16.957572            0.0  NaN         NaN   \n",
       "2         0  ...       1.313449  15.396115            0.0  NaN         NaN   \n",
       "3         0  ...       1.269763  15.272453            0.0  NaN         NaN   \n",
       "4         0  ...       1.391304  17.142954            0.0  NaN         NaN   \n",
       "\n",
       "   GDP_percapita  population  urban_pop  oil_rents  cpi_inflation  \n",
       "0            NaN   11.173642     11.643   0.017789            NaN  \n",
       "1            NaN   11.475445     12.021   0.029425            NaN  \n",
       "2            NaN   11.791215     12.410   0.033101            NaN  \n",
       "3            NaN   12.108963     12.809   0.055438            NaN  \n",
       "4            NaN   12.412950     13.219   0.182464            NaN  \n",
       "\n",
       "[5 rows x 47 columns]"
      ]
     },
     "execution_count": 43,
     "metadata": {},
     "output_type": "execute_result"
    }
   ],
   "source": [
    "# regional_emissions.csv Google Drive method\n",
    "\n",
    "url = \"https://drive.google.com/file/d/1uq7hHEgFmxUb1xhEK7tvpM_KZ2HhiNvS/view?usp=sharing\"\n",
    "path = \"https://drive.google.com/uc?export=download&id=\"+url.split('/')[-2]\n",
    "policy_df = pd.read_csv(path)\n",
    "\n",
    "policy_df.head()"
   ]
  },
  {
   "cell_type": "markdown",
   "metadata": {},
   "source": [
    "# 2. Data Checks and Cleaning Approach\n",
    "\n",
    "We want to check through our dataset before we start analyzing it, or else we're going to waste a lot of time later diverting back and fixing it. \n",
    "\n",
    "What do we need to look at?\n",
    "\n",
    "1. Checking column data types. Are numerics in float/int format?\n",
    "2. Checking for missing values. Which columns and rows have them? How do we handle this? "
   ]
  },
  {
   "cell_type": "markdown",
   "metadata": {},
   "source": [
    "### 1. Column Data Type Checks"
   ]
  },
  {
   "cell_type": "code",
   "execution_count": 44,
   "metadata": {},
   "outputs": [
    {
     "data": {
      "text/plain": [
       "cntry                          object\n",
       "country                        object\n",
       "CountryCode                    object\n",
       "year                            int64\n",
       "wbregion                       object\n",
       "Incomegroup                    object\n",
       "total_fossil_co2_percapita    float64\n",
       "total_fossil_co2_emissions    float64\n",
       "cum_policies                    int64\n",
       "cum_laws                        int64\n",
       "cum_adaptation_policies         int64\n",
       "cum_demand_policies             int64\n",
       "cum_supply_policies             int64\n",
       "cum_institution_policies        int64\n",
       "cum_transport_policies          int64\n",
       "cum_lulucf_policies             int64\n",
       "cum_randd_policies              int64\n",
       "cum_CP_policies                 int64\n",
       "cum_ETS                         int64\n",
       "cum_CT                          int64\n",
       "cum_ETS_sn                      int64\n",
       "cum_CT_sn                       int64\n",
       "upperbound1                   float64\n",
       "GHG_total_start1              float64\n",
       "rel_reduction_high1           float64\n",
       "dtype: object"
      ]
     },
     "execution_count": 44,
     "metadata": {},
     "output_type": "execute_result"
    }
   ],
   "source": [
    "policy_df[['cntry', 'country', 'CountryCode', 'year', 'wbregion', 'Incomegroup',\n",
    "       'total_fossil_co2_percapita', 'total_fossil_co2_emissions',\n",
    "       'cum_policies', 'cum_laws', 'cum_adaptation_policies',\n",
    "       'cum_demand_policies', 'cum_supply_policies',\n",
    "       'cum_institution_policies', 'cum_transport_policies',\n",
    "       'cum_lulucf_policies', 'cum_randd_policies', 'cum_CP_policies',\n",
    "       'cum_ETS', 'cum_CT', 'cum_ETS_sn', 'cum_CT_sn', 'upperbound1',\n",
    "       'GHG_total_start1', 'rel_reduction_high1']].dtypes"
   ]
  },
  {
   "cell_type": "code",
   "execution_count": 45,
   "metadata": {},
   "outputs": [
    {
     "data": {
      "text/plain": [
       "rel_reduction_low1     float64\n",
       "partytopledge1         float64\n",
       "upperbound2            float64\n",
       "GHG_total_start2       float64\n",
       "rel_reduction_high2    float64\n",
       "rel_reduction_low2     float64\n",
       "partytopledge2         float64\n",
       "upperbound3            float64\n",
       "GHG_total_start3       float64\n",
       "rel_reduction_high3    float64\n",
       "rel_reduction_low3     float64\n",
       "partytopledge3         float64\n",
       "GHG_percapita          float64\n",
       "GHG_total              float64\n",
       "GHG_incLULUCF          float64\n",
       "GDP                    float64\n",
       "GDP_growth             float64\n",
       "GDP_percapita          float64\n",
       "population             float64\n",
       "urban_pop              float64\n",
       "oil_rents              float64\n",
       "cpi_inflation          float64\n",
       "dtype: object"
      ]
     },
     "execution_count": 45,
     "metadata": {},
     "output_type": "execute_result"
    }
   ],
   "source": [
    "policy_df[['rel_reduction_low1',\n",
    "       'partytopledge1', 'upperbound2', 'GHG_total_start2',\n",
    "       'rel_reduction_high2', 'rel_reduction_low2', 'partytopledge2',\n",
    "       'upperbound3', 'GHG_total_start3', 'rel_reduction_high3',\n",
    "       'rel_reduction_low3', 'partytopledge3', 'GHG_percapita', 'GHG_total',\n",
    "       'GHG_incLULUCF', 'GDP', 'GDP_growth', 'GDP_percapita', 'population',\n",
    "       'urban_pop', 'oil_rents', 'cpi_inflation']].dtypes"
   ]
  },
  {
   "cell_type": "markdown",
   "metadata": {},
   "source": [
    "So, looks like the data came through well. The majority are `float64` and `int64`, with a few `object` variables for categories. "
   ]
  },
  {
   "cell_type": "markdown",
   "metadata": {},
   "source": [
    "### 2. Mising Value Checks"
   ]
  },
  {
   "cell_type": "code",
   "execution_count": 46,
   "metadata": {},
   "outputs": [
    {
     "data": {
      "text/html": [
       "<div>\n",
       "<style scoped>\n",
       "    .dataframe tbody tr th:only-of-type {\n",
       "        vertical-align: middle;\n",
       "    }\n",
       "\n",
       "    .dataframe tbody tr th {\n",
       "        vertical-align: top;\n",
       "    }\n",
       "\n",
       "    .dataframe thead th {\n",
       "        text-align: right;\n",
       "    }\n",
       "</style>\n",
       "<table border=\"1\" class=\"dataframe\">\n",
       "  <thead>\n",
       "    <tr style=\"text-align: right;\">\n",
       "      <th></th>\n",
       "      <th>cntry</th>\n",
       "      <th>country</th>\n",
       "      <th>CountryCode</th>\n",
       "      <th>year</th>\n",
       "      <th>wbregion</th>\n",
       "      <th>Incomegroup</th>\n",
       "      <th>total_fossil_co2_percapita</th>\n",
       "      <th>total_fossil_co2_emissions</th>\n",
       "      <th>cum_policies</th>\n",
       "      <th>cum_laws</th>\n",
       "      <th>...</th>\n",
       "      <th>GHG_percapita</th>\n",
       "      <th>GHG_total</th>\n",
       "      <th>GHG_incLULUCF</th>\n",
       "      <th>GDP</th>\n",
       "      <th>GDP_growth</th>\n",
       "      <th>GDP_percapita</th>\n",
       "      <th>population</th>\n",
       "      <th>urban_pop</th>\n",
       "      <th>oil_rents</th>\n",
       "      <th>cpi_inflation</th>\n",
       "    </tr>\n",
       "  </thead>\n",
       "  <tbody>\n",
       "    <tr>\n",
       "      <th>0</th>\n",
       "      <td>False</td>\n",
       "      <td>False</td>\n",
       "      <td>False</td>\n",
       "      <td>False</td>\n",
       "      <td>False</td>\n",
       "      <td>False</td>\n",
       "      <td>False</td>\n",
       "      <td>False</td>\n",
       "      <td>False</td>\n",
       "      <td>False</td>\n",
       "      <td>...</td>\n",
       "      <td>False</td>\n",
       "      <td>False</td>\n",
       "      <td>False</td>\n",
       "      <td>True</td>\n",
       "      <td>True</td>\n",
       "      <td>True</td>\n",
       "      <td>False</td>\n",
       "      <td>False</td>\n",
       "      <td>False</td>\n",
       "      <td>True</td>\n",
       "    </tr>\n",
       "    <tr>\n",
       "      <th>1</th>\n",
       "      <td>False</td>\n",
       "      <td>False</td>\n",
       "      <td>False</td>\n",
       "      <td>False</td>\n",
       "      <td>False</td>\n",
       "      <td>False</td>\n",
       "      <td>False</td>\n",
       "      <td>False</td>\n",
       "      <td>False</td>\n",
       "      <td>False</td>\n",
       "      <td>...</td>\n",
       "      <td>False</td>\n",
       "      <td>False</td>\n",
       "      <td>False</td>\n",
       "      <td>True</td>\n",
       "      <td>True</td>\n",
       "      <td>True</td>\n",
       "      <td>False</td>\n",
       "      <td>False</td>\n",
       "      <td>False</td>\n",
       "      <td>True</td>\n",
       "    </tr>\n",
       "    <tr>\n",
       "      <th>2</th>\n",
       "      <td>False</td>\n",
       "      <td>False</td>\n",
       "      <td>False</td>\n",
       "      <td>False</td>\n",
       "      <td>False</td>\n",
       "      <td>False</td>\n",
       "      <td>False</td>\n",
       "      <td>False</td>\n",
       "      <td>False</td>\n",
       "      <td>False</td>\n",
       "      <td>...</td>\n",
       "      <td>False</td>\n",
       "      <td>False</td>\n",
       "      <td>False</td>\n",
       "      <td>True</td>\n",
       "      <td>True</td>\n",
       "      <td>True</td>\n",
       "      <td>False</td>\n",
       "      <td>False</td>\n",
       "      <td>False</td>\n",
       "      <td>True</td>\n",
       "    </tr>\n",
       "    <tr>\n",
       "      <th>3</th>\n",
       "      <td>False</td>\n",
       "      <td>False</td>\n",
       "      <td>False</td>\n",
       "      <td>False</td>\n",
       "      <td>False</td>\n",
       "      <td>False</td>\n",
       "      <td>False</td>\n",
       "      <td>False</td>\n",
       "      <td>False</td>\n",
       "      <td>False</td>\n",
       "      <td>...</td>\n",
       "      <td>False</td>\n",
       "      <td>False</td>\n",
       "      <td>False</td>\n",
       "      <td>True</td>\n",
       "      <td>True</td>\n",
       "      <td>True</td>\n",
       "      <td>False</td>\n",
       "      <td>False</td>\n",
       "      <td>False</td>\n",
       "      <td>True</td>\n",
       "    </tr>\n",
       "    <tr>\n",
       "      <th>4</th>\n",
       "      <td>False</td>\n",
       "      <td>False</td>\n",
       "      <td>False</td>\n",
       "      <td>False</td>\n",
       "      <td>False</td>\n",
       "      <td>False</td>\n",
       "      <td>False</td>\n",
       "      <td>False</td>\n",
       "      <td>False</td>\n",
       "      <td>False</td>\n",
       "      <td>...</td>\n",
       "      <td>False</td>\n",
       "      <td>False</td>\n",
       "      <td>False</td>\n",
       "      <td>True</td>\n",
       "      <td>True</td>\n",
       "      <td>True</td>\n",
       "      <td>False</td>\n",
       "      <td>False</td>\n",
       "      <td>False</td>\n",
       "      <td>True</td>\n",
       "    </tr>\n",
       "    <tr>\n",
       "      <th>...</th>\n",
       "      <td>...</td>\n",
       "      <td>...</td>\n",
       "      <td>...</td>\n",
       "      <td>...</td>\n",
       "      <td>...</td>\n",
       "      <td>...</td>\n",
       "      <td>...</td>\n",
       "      <td>...</td>\n",
       "      <td>...</td>\n",
       "      <td>...</td>\n",
       "      <td>...</td>\n",
       "      <td>...</td>\n",
       "      <td>...</td>\n",
       "      <td>...</td>\n",
       "      <td>...</td>\n",
       "      <td>...</td>\n",
       "      <td>...</td>\n",
       "      <td>...</td>\n",
       "      <td>...</td>\n",
       "      <td>...</td>\n",
       "      <td>...</td>\n",
       "    </tr>\n",
       "    <tr>\n",
       "      <th>10383</th>\n",
       "      <td>False</td>\n",
       "      <td>False</td>\n",
       "      <td>False</td>\n",
       "      <td>False</td>\n",
       "      <td>False</td>\n",
       "      <td>False</td>\n",
       "      <td>False</td>\n",
       "      <td>False</td>\n",
       "      <td>False</td>\n",
       "      <td>False</td>\n",
       "      <td>...</td>\n",
       "      <td>False</td>\n",
       "      <td>False</td>\n",
       "      <td>False</td>\n",
       "      <td>False</td>\n",
       "      <td>False</td>\n",
       "      <td>False</td>\n",
       "      <td>False</td>\n",
       "      <td>False</td>\n",
       "      <td>False</td>\n",
       "      <td>False</td>\n",
       "    </tr>\n",
       "    <tr>\n",
       "      <th>10384</th>\n",
       "      <td>False</td>\n",
       "      <td>False</td>\n",
       "      <td>False</td>\n",
       "      <td>False</td>\n",
       "      <td>False</td>\n",
       "      <td>False</td>\n",
       "      <td>False</td>\n",
       "      <td>False</td>\n",
       "      <td>False</td>\n",
       "      <td>False</td>\n",
       "      <td>...</td>\n",
       "      <td>False</td>\n",
       "      <td>False</td>\n",
       "      <td>True</td>\n",
       "      <td>False</td>\n",
       "      <td>False</td>\n",
       "      <td>False</td>\n",
       "      <td>False</td>\n",
       "      <td>False</td>\n",
       "      <td>False</td>\n",
       "      <td>False</td>\n",
       "    </tr>\n",
       "    <tr>\n",
       "      <th>10385</th>\n",
       "      <td>False</td>\n",
       "      <td>False</td>\n",
       "      <td>False</td>\n",
       "      <td>False</td>\n",
       "      <td>False</td>\n",
       "      <td>False</td>\n",
       "      <td>False</td>\n",
       "      <td>False</td>\n",
       "      <td>False</td>\n",
       "      <td>False</td>\n",
       "      <td>...</td>\n",
       "      <td>True</td>\n",
       "      <td>True</td>\n",
       "      <td>True</td>\n",
       "      <td>False</td>\n",
       "      <td>False</td>\n",
       "      <td>False</td>\n",
       "      <td>False</td>\n",
       "      <td>False</td>\n",
       "      <td>False</td>\n",
       "      <td>False</td>\n",
       "    </tr>\n",
       "    <tr>\n",
       "      <th>10386</th>\n",
       "      <td>False</td>\n",
       "      <td>False</td>\n",
       "      <td>False</td>\n",
       "      <td>False</td>\n",
       "      <td>False</td>\n",
       "      <td>False</td>\n",
       "      <td>False</td>\n",
       "      <td>False</td>\n",
       "      <td>False</td>\n",
       "      <td>False</td>\n",
       "      <td>...</td>\n",
       "      <td>True</td>\n",
       "      <td>True</td>\n",
       "      <td>True</td>\n",
       "      <td>False</td>\n",
       "      <td>False</td>\n",
       "      <td>False</td>\n",
       "      <td>False</td>\n",
       "      <td>False</td>\n",
       "      <td>False</td>\n",
       "      <td>False</td>\n",
       "    </tr>\n",
       "    <tr>\n",
       "      <th>10387</th>\n",
       "      <td>False</td>\n",
       "      <td>False</td>\n",
       "      <td>False</td>\n",
       "      <td>False</td>\n",
       "      <td>False</td>\n",
       "      <td>False</td>\n",
       "      <td>False</td>\n",
       "      <td>False</td>\n",
       "      <td>False</td>\n",
       "      <td>False</td>\n",
       "      <td>...</td>\n",
       "      <td>True</td>\n",
       "      <td>True</td>\n",
       "      <td>True</td>\n",
       "      <td>False</td>\n",
       "      <td>False</td>\n",
       "      <td>False</td>\n",
       "      <td>False</td>\n",
       "      <td>False</td>\n",
       "      <td>True</td>\n",
       "      <td>False</td>\n",
       "    </tr>\n",
       "  </tbody>\n",
       "</table>\n",
       "<p>10388 rows × 47 columns</p>\n",
       "</div>"
      ],
      "text/plain": [
       "       cntry  country  CountryCode   year  wbregion  Incomegroup  \\\n",
       "0      False    False        False  False     False        False   \n",
       "1      False    False        False  False     False        False   \n",
       "2      False    False        False  False     False        False   \n",
       "3      False    False        False  False     False        False   \n",
       "4      False    False        False  False     False        False   \n",
       "...      ...      ...          ...    ...       ...          ...   \n",
       "10383  False    False        False  False     False        False   \n",
       "10384  False    False        False  False     False        False   \n",
       "10385  False    False        False  False     False        False   \n",
       "10386  False    False        False  False     False        False   \n",
       "10387  False    False        False  False     False        False   \n",
       "\n",
       "       total_fossil_co2_percapita  total_fossil_co2_emissions  cum_policies  \\\n",
       "0                           False                       False         False   \n",
       "1                           False                       False         False   \n",
       "2                           False                       False         False   \n",
       "3                           False                       False         False   \n",
       "4                           False                       False         False   \n",
       "...                           ...                         ...           ...   \n",
       "10383                       False                       False         False   \n",
       "10384                       False                       False         False   \n",
       "10385                       False                       False         False   \n",
       "10386                       False                       False         False   \n",
       "10387                       False                       False         False   \n",
       "\n",
       "       cum_laws  ...  GHG_percapita  GHG_total  GHG_incLULUCF    GDP  \\\n",
       "0         False  ...          False      False          False   True   \n",
       "1         False  ...          False      False          False   True   \n",
       "2         False  ...          False      False          False   True   \n",
       "3         False  ...          False      False          False   True   \n",
       "4         False  ...          False      False          False   True   \n",
       "...         ...  ...            ...        ...            ...    ...   \n",
       "10383     False  ...          False      False          False  False   \n",
       "10384     False  ...          False      False           True  False   \n",
       "10385     False  ...           True       True           True  False   \n",
       "10386     False  ...           True       True           True  False   \n",
       "10387     False  ...           True       True           True  False   \n",
       "\n",
       "       GDP_growth  GDP_percapita  population  urban_pop  oil_rents  \\\n",
       "0            True           True       False      False      False   \n",
       "1            True           True       False      False      False   \n",
       "2            True           True       False      False      False   \n",
       "3            True           True       False      False      False   \n",
       "4            True           True       False      False      False   \n",
       "...           ...            ...         ...        ...        ...   \n",
       "10383       False          False       False      False      False   \n",
       "10384       False          False       False      False      False   \n",
       "10385       False          False       False      False      False   \n",
       "10386       False          False       False      False      False   \n",
       "10387       False          False       False      False       True   \n",
       "\n",
       "       cpi_inflation  \n",
       "0               True  \n",
       "1               True  \n",
       "2               True  \n",
       "3               True  \n",
       "4               True  \n",
       "...              ...  \n",
       "10383          False  \n",
       "10384          False  \n",
       "10385          False  \n",
       "10386          False  \n",
       "10387          False  \n",
       "\n",
       "[10388 rows x 47 columns]"
      ]
     },
     "execution_count": 46,
     "metadata": {},
     "output_type": "execute_result"
    }
   ],
   "source": [
    "policy_df.isna()"
   ]
  },
  {
   "cell_type": "markdown",
   "metadata": {},
   "source": [
    "This is useful. Sort of.\n",
    "\n",
    "If we wanted to go through a 10,388 row dataset and see where the missing values are, we could've eyeballed it in Excel. When we combine `.isna()` with `.sum()`, however, we add up all the `NaN` values in each column. This tells us which columns might be problematic!"
   ]
  },
  {
   "cell_type": "code",
   "execution_count": 47,
   "metadata": {},
   "outputs": [
    {
     "data": {
      "text/plain": [
       "wbregion                       196\n",
       "Incomegroup                    686\n",
       "total_fossil_co2_percapita      98\n",
       "upperbound1                   7595\n",
       "GHG_total_start1              1568\n",
       "rel_reduction_high1           1519\n",
       "rel_reduction_low1            1519\n",
       "partytopledge1                1372\n",
       "upperbound2                   8624\n",
       "GHG_total_start2              1568\n",
       "rel_reduction_high2           1617\n",
       "rel_reduction_low2            1617\n",
       "partytopledge2                1372\n",
       "upperbound3                   3479\n",
       "GHG_total_start3              1568\n",
       "rel_reduction_high3           2891\n",
       "rel_reduction_low3            2891\n",
       "partytopledge3                1372\n",
       "GHG_percapita                  728\n",
       "GHG_total                      636\n",
       "GHG_incLULUCF                 2108\n",
       "GDP                           2394\n",
       "GDP_growth                    2352\n",
       "GDP_percapita                 2397\n",
       "population                     765\n",
       "urban_pop                      762\n",
       "oil_rents                     2950\n",
       "cpi_inflation                 3610\n",
       "dtype: int64"
      ]
     },
     "execution_count": 47,
     "metadata": {},
     "output_type": "execute_result"
    }
   ],
   "source": [
    "# first sum up `NaN` values by column\n",
    "missing_values  = policy_df.isna().sum()\n",
    "\n",
    "# problem - too many columns to print out all. We'll limit the output to just columns with missing values\n",
    "columns_with_missing = missing_values[missing_values > 0]\n",
    "\n",
    "# return these\n",
    "columns_with_missing"
   ]
  },
  {
   "cell_type": "markdown",
   "metadata": {},
   "source": [
    "Our takeaway is that we've got plenty of missing values, in plenty of columns!"
   ]
  },
  {
   "cell_type": "markdown",
   "metadata": {},
   "source": [
    "### Data Cleaning Plan\n",
    "\n",
    "We could come up with a general criteria for which rows stay and which we get rid of, to keep a common and standard dataframe. This may involve removing all countries with missing data (a strict approach), or just removing years with missing data, or a combined approach.\n",
    "\n",
    "However, our focus today is on Hypothesis Testing, with a side of Data Cleaning. So, our process will be to keep all data in the base `policy_df` DataFrame. When we're working on each specific exercise, we'll limit it just to the columns we need to use, and then remove all rows with missing data. This lets us test Hypotheses with the maximum range of available data, and try out data cleaning along the way."
   ]
  },
  {
   "cell_type": "markdown",
   "metadata": {},
   "source": [
    "# 3. 1-Tail Hypothesis Test: Are all countries signing onto all 3 agreements?\n",
    "\n",
    "We'll use this question to see whether there is a high degree of consensus among the agreements being desireable. With a one-sided test, we'll see if most countries sign up onto all 3, or if there is significant non-acceptance.\n",
    "\n",
    "Using each country's latest year in the data, we'll sum the pledges they've made and compare with 3. In this case, a one-sided hypothesis test makes sense, as there are only these three agreements!\n",
    "\n",
    "### Our Hypotheses\n",
    "\n",
    "- H0: Effectively all countries sign up to all 3 agreements (Kyoto, Copenhagen, Paris)\n",
    "- H1: Not all countries sign up to all 3 agreements\n"
   ]
  },
  {
   "cell_type": "code",
   "execution_count": 48,
   "metadata": {},
   "outputs": [
    {
     "data": {
      "text/html": [
       "<div>\n",
       "<style scoped>\n",
       "    .dataframe tbody tr th:only-of-type {\n",
       "        vertical-align: middle;\n",
       "    }\n",
       "\n",
       "    .dataframe tbody tr th {\n",
       "        vertical-align: top;\n",
       "    }\n",
       "\n",
       "    .dataframe thead th {\n",
       "        text-align: right;\n",
       "    }\n",
       "</style>\n",
       "<table border=\"1\" class=\"dataframe\">\n",
       "  <thead>\n",
       "    <tr style=\"text-align: right;\">\n",
       "      <th></th>\n",
       "      <th>country</th>\n",
       "      <th>year</th>\n",
       "      <th>partytopledge1</th>\n",
       "      <th>partytopledge2</th>\n",
       "      <th>partytopledge3</th>\n",
       "    </tr>\n",
       "  </thead>\n",
       "  <tbody>\n",
       "    <tr>\n",
       "      <th>0</th>\n",
       "      <td>Afghanistan</td>\n",
       "      <td>1970</td>\n",
       "      <td>1.0</td>\n",
       "      <td>0.0</td>\n",
       "      <td>1.0</td>\n",
       "    </tr>\n",
       "    <tr>\n",
       "      <th>1</th>\n",
       "      <td>Afghanistan</td>\n",
       "      <td>1971</td>\n",
       "      <td>1.0</td>\n",
       "      <td>0.0</td>\n",
       "      <td>1.0</td>\n",
       "    </tr>\n",
       "    <tr>\n",
       "      <th>2</th>\n",
       "      <td>Afghanistan</td>\n",
       "      <td>1972</td>\n",
       "      <td>1.0</td>\n",
       "      <td>0.0</td>\n",
       "      <td>1.0</td>\n",
       "    </tr>\n",
       "    <tr>\n",
       "      <th>3</th>\n",
       "      <td>Afghanistan</td>\n",
       "      <td>1973</td>\n",
       "      <td>1.0</td>\n",
       "      <td>0.0</td>\n",
       "      <td>1.0</td>\n",
       "    </tr>\n",
       "    <tr>\n",
       "      <th>4</th>\n",
       "      <td>Afghanistan</td>\n",
       "      <td>1974</td>\n",
       "      <td>1.0</td>\n",
       "      <td>0.0</td>\n",
       "      <td>1.0</td>\n",
       "    </tr>\n",
       "  </tbody>\n",
       "</table>\n",
       "</div>"
      ],
      "text/plain": [
       "       country  year  partytopledge1  partytopledge2  partytopledge3\n",
       "0  Afghanistan  1970             1.0             0.0             1.0\n",
       "1  Afghanistan  1971             1.0             0.0             1.0\n",
       "2  Afghanistan  1972             1.0             0.0             1.0\n",
       "3  Afghanistan  1973             1.0             0.0             1.0\n",
       "4  Afghanistan  1974             1.0             0.0             1.0"
      ]
     },
     "execution_count": 48,
     "metadata": {},
     "output_type": "execute_result"
    }
   ],
   "source": [
    "# dataframe creation\n",
    "\n",
    "hypothesis_1_df = policy_df[[\"country\", \"year\", \"partytopledge1\", \"partytopledge2\", \"partytopledge3\"]]\n",
    "hypothesis_1_df.head()"
   ]
  },
  {
   "cell_type": "code",
   "execution_count": 49,
   "metadata": {},
   "outputs": [
    {
     "name": "stdout",
     "output_type": "stream",
     "text": [
      "country              0\n",
      "year                 0\n",
      "partytopledge1    1372\n",
      "partytopledge2    1372\n",
      "partytopledge3    1372\n",
      "dtype: int64\n"
     ]
    },
    {
     "data": {
      "text/html": [
       "<div>\n",
       "<style scoped>\n",
       "    .dataframe tbody tr th:only-of-type {\n",
       "        vertical-align: middle;\n",
       "    }\n",
       "\n",
       "    .dataframe tbody tr th {\n",
       "        vertical-align: top;\n",
       "    }\n",
       "\n",
       "    .dataframe thead th {\n",
       "        text-align: right;\n",
       "    }\n",
       "</style>\n",
       "<table border=\"1\" class=\"dataframe\">\n",
       "  <thead>\n",
       "    <tr style=\"text-align: right;\">\n",
       "      <th></th>\n",
       "      <th>country</th>\n",
       "      <th>year</th>\n",
       "      <th>partytopledge1</th>\n",
       "      <th>partytopledge2</th>\n",
       "      <th>partytopledge3</th>\n",
       "    </tr>\n",
       "  </thead>\n",
       "  <tbody>\n",
       "    <tr>\n",
       "      <th>0</th>\n",
       "      <td>Afghanistan</td>\n",
       "      <td>1970</td>\n",
       "      <td>1.0</td>\n",
       "      <td>0.0</td>\n",
       "      <td>1.0</td>\n",
       "    </tr>\n",
       "    <tr>\n",
       "      <th>1</th>\n",
       "      <td>Afghanistan</td>\n",
       "      <td>1971</td>\n",
       "      <td>1.0</td>\n",
       "      <td>0.0</td>\n",
       "      <td>1.0</td>\n",
       "    </tr>\n",
       "    <tr>\n",
       "      <th>2</th>\n",
       "      <td>Afghanistan</td>\n",
       "      <td>1972</td>\n",
       "      <td>1.0</td>\n",
       "      <td>0.0</td>\n",
       "      <td>1.0</td>\n",
       "    </tr>\n",
       "    <tr>\n",
       "      <th>3</th>\n",
       "      <td>Afghanistan</td>\n",
       "      <td>1973</td>\n",
       "      <td>1.0</td>\n",
       "      <td>0.0</td>\n",
       "      <td>1.0</td>\n",
       "    </tr>\n",
       "    <tr>\n",
       "      <th>4</th>\n",
       "      <td>Afghanistan</td>\n",
       "      <td>1974</td>\n",
       "      <td>1.0</td>\n",
       "      <td>0.0</td>\n",
       "      <td>1.0</td>\n",
       "    </tr>\n",
       "    <tr>\n",
       "      <th>...</th>\n",
       "      <td>...</td>\n",
       "      <td>...</td>\n",
       "      <td>...</td>\n",
       "      <td>...</td>\n",
       "      <td>...</td>\n",
       "    </tr>\n",
       "    <tr>\n",
       "      <th>10383</th>\n",
       "      <td>Zimbabwe</td>\n",
       "      <td>2014</td>\n",
       "      <td>0.0</td>\n",
       "      <td>0.0</td>\n",
       "      <td>1.0</td>\n",
       "    </tr>\n",
       "    <tr>\n",
       "      <th>10384</th>\n",
       "      <td>Zimbabwe</td>\n",
       "      <td>2015</td>\n",
       "      <td>0.0</td>\n",
       "      <td>0.0</td>\n",
       "      <td>1.0</td>\n",
       "    </tr>\n",
       "    <tr>\n",
       "      <th>10385</th>\n",
       "      <td>Zimbabwe</td>\n",
       "      <td>2016</td>\n",
       "      <td>0.0</td>\n",
       "      <td>0.0</td>\n",
       "      <td>1.0</td>\n",
       "    </tr>\n",
       "    <tr>\n",
       "      <th>10386</th>\n",
       "      <td>Zimbabwe</td>\n",
       "      <td>2017</td>\n",
       "      <td>0.0</td>\n",
       "      <td>0.0</td>\n",
       "      <td>1.0</td>\n",
       "    </tr>\n",
       "    <tr>\n",
       "      <th>10387</th>\n",
       "      <td>Zimbabwe</td>\n",
       "      <td>2018</td>\n",
       "      <td>0.0</td>\n",
       "      <td>0.0</td>\n",
       "      <td>1.0</td>\n",
       "    </tr>\n",
       "  </tbody>\n",
       "</table>\n",
       "<p>9016 rows × 5 columns</p>\n",
       "</div>"
      ],
      "text/plain": [
       "           country  year  partytopledge1  partytopledge2  partytopledge3\n",
       "0      Afghanistan  1970             1.0             0.0             1.0\n",
       "1      Afghanistan  1971             1.0             0.0             1.0\n",
       "2      Afghanistan  1972             1.0             0.0             1.0\n",
       "3      Afghanistan  1973             1.0             0.0             1.0\n",
       "4      Afghanistan  1974             1.0             0.0             1.0\n",
       "...            ...   ...             ...             ...             ...\n",
       "10383     Zimbabwe  2014             0.0             0.0             1.0\n",
       "10384     Zimbabwe  2015             0.0             0.0             1.0\n",
       "10385     Zimbabwe  2016             0.0             0.0             1.0\n",
       "10386     Zimbabwe  2017             0.0             0.0             1.0\n",
       "10387     Zimbabwe  2018             0.0             0.0             1.0\n",
       "\n",
       "[9016 rows x 5 columns]"
      ]
     },
     "execution_count": 49,
     "metadata": {},
     "output_type": "execute_result"
    }
   ],
   "source": [
    "# NaN check\n",
    "\n",
    "print(hypothesis_1_df.isna().sum())\n",
    "\n",
    "# NaN removal\n",
    "\n",
    "hypothesis_1_df = hypothesis_1_df.dropna()\n",
    "hypothesis_1_df"
   ]
  },
  {
   "cell_type": "markdown",
   "metadata": {},
   "source": [
    "There were three different rounds of environmental pledges involved in this dataset:\n",
    "\n",
    "1. The Kyoto Protocol (signed 1997)\n",
    "2. The Copenhagen Accord (signed 2009)\n",
    "3. The Paris Agreement (signed 2016)\n",
    "\n",
    "We'll combine all three variables in `total_pledges`, equal to the number of active agreements the country has signed onto."
   ]
  },
  {
   "cell_type": "code",
   "execution_count": 50,
   "metadata": {},
   "outputs": [
    {
     "data": {
      "text/html": [
       "<div>\n",
       "<style scoped>\n",
       "    .dataframe tbody tr th:only-of-type {\n",
       "        vertical-align: middle;\n",
       "    }\n",
       "\n",
       "    .dataframe tbody tr th {\n",
       "        vertical-align: top;\n",
       "    }\n",
       "\n",
       "    .dataframe thead th {\n",
       "        text-align: right;\n",
       "    }\n",
       "</style>\n",
       "<table border=\"1\" class=\"dataframe\">\n",
       "  <thead>\n",
       "    <tr style=\"text-align: right;\">\n",
       "      <th></th>\n",
       "      <th>country</th>\n",
       "      <th>year</th>\n",
       "      <th>partytopledge1</th>\n",
       "      <th>partytopledge2</th>\n",
       "      <th>partytopledge3</th>\n",
       "      <th>total_pledges</th>\n",
       "    </tr>\n",
       "  </thead>\n",
       "  <tbody>\n",
       "    <tr>\n",
       "      <th>0</th>\n",
       "      <td>Afghanistan</td>\n",
       "      <td>1970</td>\n",
       "      <td>1.0</td>\n",
       "      <td>0.0</td>\n",
       "      <td>1.0</td>\n",
       "      <td>2.0</td>\n",
       "    </tr>\n",
       "    <tr>\n",
       "      <th>1</th>\n",
       "      <td>Afghanistan</td>\n",
       "      <td>1971</td>\n",
       "      <td>1.0</td>\n",
       "      <td>0.0</td>\n",
       "      <td>1.0</td>\n",
       "      <td>2.0</td>\n",
       "    </tr>\n",
       "    <tr>\n",
       "      <th>2</th>\n",
       "      <td>Afghanistan</td>\n",
       "      <td>1972</td>\n",
       "      <td>1.0</td>\n",
       "      <td>0.0</td>\n",
       "      <td>1.0</td>\n",
       "      <td>2.0</td>\n",
       "    </tr>\n",
       "    <tr>\n",
       "      <th>3</th>\n",
       "      <td>Afghanistan</td>\n",
       "      <td>1973</td>\n",
       "      <td>1.0</td>\n",
       "      <td>0.0</td>\n",
       "      <td>1.0</td>\n",
       "      <td>2.0</td>\n",
       "    </tr>\n",
       "    <tr>\n",
       "      <th>4</th>\n",
       "      <td>Afghanistan</td>\n",
       "      <td>1974</td>\n",
       "      <td>1.0</td>\n",
       "      <td>0.0</td>\n",
       "      <td>1.0</td>\n",
       "      <td>2.0</td>\n",
       "    </tr>\n",
       "    <tr>\n",
       "      <th>...</th>\n",
       "      <td>...</td>\n",
       "      <td>...</td>\n",
       "      <td>...</td>\n",
       "      <td>...</td>\n",
       "      <td>...</td>\n",
       "      <td>...</td>\n",
       "    </tr>\n",
       "    <tr>\n",
       "      <th>10383</th>\n",
       "      <td>Zimbabwe</td>\n",
       "      <td>2014</td>\n",
       "      <td>0.0</td>\n",
       "      <td>0.0</td>\n",
       "      <td>1.0</td>\n",
       "      <td>1.0</td>\n",
       "    </tr>\n",
       "    <tr>\n",
       "      <th>10384</th>\n",
       "      <td>Zimbabwe</td>\n",
       "      <td>2015</td>\n",
       "      <td>0.0</td>\n",
       "      <td>0.0</td>\n",
       "      <td>1.0</td>\n",
       "      <td>1.0</td>\n",
       "    </tr>\n",
       "    <tr>\n",
       "      <th>10385</th>\n",
       "      <td>Zimbabwe</td>\n",
       "      <td>2016</td>\n",
       "      <td>0.0</td>\n",
       "      <td>0.0</td>\n",
       "      <td>1.0</td>\n",
       "      <td>1.0</td>\n",
       "    </tr>\n",
       "    <tr>\n",
       "      <th>10386</th>\n",
       "      <td>Zimbabwe</td>\n",
       "      <td>2017</td>\n",
       "      <td>0.0</td>\n",
       "      <td>0.0</td>\n",
       "      <td>1.0</td>\n",
       "      <td>1.0</td>\n",
       "    </tr>\n",
       "    <tr>\n",
       "      <th>10387</th>\n",
       "      <td>Zimbabwe</td>\n",
       "      <td>2018</td>\n",
       "      <td>0.0</td>\n",
       "      <td>0.0</td>\n",
       "      <td>1.0</td>\n",
       "      <td>1.0</td>\n",
       "    </tr>\n",
       "  </tbody>\n",
       "</table>\n",
       "<p>9016 rows × 6 columns</p>\n",
       "</div>"
      ],
      "text/plain": [
       "           country  year  partytopledge1  partytopledge2  partytopledge3  \\\n",
       "0      Afghanistan  1970             1.0             0.0             1.0   \n",
       "1      Afghanistan  1971             1.0             0.0             1.0   \n",
       "2      Afghanistan  1972             1.0             0.0             1.0   \n",
       "3      Afghanistan  1973             1.0             0.0             1.0   \n",
       "4      Afghanistan  1974             1.0             0.0             1.0   \n",
       "...            ...   ...             ...             ...             ...   \n",
       "10383     Zimbabwe  2014             0.0             0.0             1.0   \n",
       "10384     Zimbabwe  2015             0.0             0.0             1.0   \n",
       "10385     Zimbabwe  2016             0.0             0.0             1.0   \n",
       "10386     Zimbabwe  2017             0.0             0.0             1.0   \n",
       "10387     Zimbabwe  2018             0.0             0.0             1.0   \n",
       "\n",
       "       total_pledges  \n",
       "0                2.0  \n",
       "1                2.0  \n",
       "2                2.0  \n",
       "3                2.0  \n",
       "4                2.0  \n",
       "...              ...  \n",
       "10383            1.0  \n",
       "10384            1.0  \n",
       "10385            1.0  \n",
       "10386            1.0  \n",
       "10387            1.0  \n",
       "\n",
       "[9016 rows x 6 columns]"
      ]
     },
     "execution_count": 50,
     "metadata": {},
     "output_type": "execute_result"
    }
   ],
   "source": [
    "hypothesis_1_df[\"total_pledges\"] = hypothesis_1_df[\"partytopledge1\"] + hypothesis_1_df['partytopledge2'] + hypothesis_1_df['partytopledge3']\n",
    "\n",
    "hypothesis_1_df"
   ]
  },
  {
   "cell_type": "code",
   "execution_count": 51,
   "metadata": {},
   "outputs": [],
   "source": [
    "# this groups by Country, and takes the first value found for each country\n",
    "\n",
    "# all of a country's `total_pledges` values will be the same, so we only need one as representative \n",
    "\n",
    "hypothesis_1_sample_df = hypothesis_1_df[[\"country\", \"total_pledges\"]].groupby(\"country\").first()"
   ]
  },
  {
   "cell_type": "code",
   "execution_count": 52,
   "metadata": {},
   "outputs": [
    {
     "data": {
      "text/plain": [
       "country\n",
       "Afghanistan            2.0\n",
       "Albania                1.0\n",
       "Algeria                2.0\n",
       "Angola                 1.0\n",
       "Antigua and Barbuda    2.0\n",
       "                      ... \n",
       "Vietnam                1.0\n",
       "Western Sahara         0.0\n",
       "Yemen, Rep.            1.0\n",
       "Zambia                 1.0\n",
       "Zimbabwe               1.0\n",
       "Name: total_pledges, Length: 184, dtype: float64"
      ]
     },
     "execution_count": 52,
     "metadata": {},
     "output_type": "execute_result"
    }
   ],
   "source": [
    "hypothesis_1_sample_df[\"total_pledges\"]"
   ]
  },
  {
   "cell_type": "markdown",
   "metadata": {},
   "source": [
    "What this gets us is, for each country, how many total agreements they signed onto. \n",
    "\n",
    "You might guess it's not looking good for our null hypothesis..."
   ]
  },
  {
   "cell_type": "markdown",
   "metadata": {},
   "source": [
    "# Q1 Hypothesis Testing \n",
    "\n",
    "The `stats.ttest_1samp()` function is a T-test for the mean of one group of values. It takes the following arguments:\n",
    "\n",
    "arguments:\n",
    "\n",
    "- `a`: a list, array, dataframe column, etc, of numeric values\n",
    "\n",
    "- `popmean`: the null hypothesis value. Often but not always 0, and it must be specified\n",
    "\n",
    "- `alternative`: {\"two-sided\", \"less\", \"greater\"} specifies the alternate hypothesis, defaulting to \"two-sided``\n",
    "\n",
    "\n",
    "It outputs a test statistic (i.e. t-value here) and an associated p-value."
   ]
  },
  {
   "cell_type": "code",
   "execution_count": 53,
   "metadata": {},
   "outputs": [
    {
     "name": "stdout",
     "output_type": "stream",
     "text": [
      "Test Statistic:  -21.591061460842845\n",
      "P-value:  1.6723124752314074e-52\n"
     ]
    }
   ],
   "source": [
    "test_statistic, p_value = stats.ttest_1samp(hypothesis_1_sample_df[\"total_pledges\"], popmean = 3, alternative = \"less\")\n",
    "\n",
    "print(\"Test Statistic: \", test_statistic)\n",
    "print(\"P-value: \", p_value)"
   ]
  },
  {
   "cell_type": "markdown",
   "metadata": {},
   "source": [
    "### Q1: Interpretation\n",
    "\n",
    "Discuss what the test-statistic and P-value tell us with the person next to you, or the people at your table. Then, we'll talk as a class.\n",
    "\n"
   ]
  },
  {
   "cell_type": "markdown",
   "metadata": {},
   "source": [
    "# 4. 2-Tail Hypothesis Test: Are Canada's emissions average?\n",
    "\n",
    "\n",
    "Now we'll be doing a two-sided hypothesis test, where we compare a series of data points to a given value and test if the sample has a statistically significant difference. This time, it can be greater or less than the given value.\n",
    "\n",
    "For our question, we are going to take Canada's average per capita carbon emissions and compare them to all other countries. Are other countries significantly greater or lower than us?\n",
    "\n",
    "### Our Hypotheses\n",
    "\n",
    "- H0: Most countries' average per-capita carbon emissions are equal to Canadian values\n",
    "- H1: Most countries' average per-capita carbon emissions are not equal to Canadian values "
   ]
  },
  {
   "cell_type": "code",
   "execution_count": 54,
   "metadata": {},
   "outputs": [],
   "source": [
    "# creating hypothesis 2 dataframe\n",
    "hypothesis_2_df = policy_df[[\"country\", \"GHG_percapita\"]]\n",
    "\n",
    "# grouping by country to get average emissions\n",
    "hypothesis_2_df = hypothesis_2_df.dropna().groupby(\"country\").mean()\n",
    "\n",
    "hypothesis_2_df.reset_index(inplace = True)\n",
    "\n",
    "# splitting into Canada, not Canada versions\n",
    "hypothesis_2_canada = hypothesis_2_df[hypothesis_2_df[\"country\"] == \"Canada\"]\n",
    "\n",
    "hypothesis_2_df = hypothesis_2_df[hypothesis_2_df[\"country\"] != \"Canada\"]"
   ]
  },
  {
   "cell_type": "code",
   "execution_count": 55,
   "metadata": {},
   "outputs": [
    {
     "data": {
      "text/plain": [
       "34    22.917172\n",
       "Name: GHG_percapita, dtype: float64"
      ]
     },
     "execution_count": 55,
     "metadata": {},
     "output_type": "execute_result"
    }
   ],
   "source": [
    "hypothesis_2_canada[\"GHG_percapita\"]"
   ]
  },
  {
   "cell_type": "code",
   "execution_count": 56,
   "metadata": {},
   "outputs": [
    {
     "data": {
      "text/plain": [
       "0      1.035752\n",
       "1      3.031959\n",
       "2      6.833055\n",
       "3      4.963808\n",
       "4      1.287038\n",
       "         ...   \n",
       "205    3.137882\n",
       "206    6.340505\n",
       "207    1.397705\n",
       "208    1.980941\n",
       "209    2.810555\n",
       "Name: GHG_percapita, Length: 209, dtype: float64"
      ]
     },
     "execution_count": 56,
     "metadata": {},
     "output_type": "execute_result"
    }
   ],
   "source": [
    "hypothesis_2_df[\"GHG_percapita\"]"
   ]
  },
  {
   "cell_type": "markdown",
   "metadata": {},
   "source": [
    "### Q2 Hypothesis Testing\n",
    "\n",
    "We repeat `stats.ttest_1samp()`, this time leaving the alternate value argument defaulted to \"two-sided\""
   ]
  },
  {
   "cell_type": "code",
   "execution_count": 57,
   "metadata": {},
   "outputs": [
    {
     "name": "stdout",
     "output_type": "stream",
     "text": [
      "Test Statistic:  -10.053823258082348\n",
      "P-value:  1.2366280565482495e-19\n"
     ]
    }
   ],
   "source": [
    "test_statistic, p_value = stats.ttest_1samp(hypothesis_2_df[\"GHG_percapita\"], popmean = hypothesis_2_canada[\"GHG_percapita\"])\n",
    "\n",
    "print(\"Test Statistic: \", test_statistic)\n",
    "print(\"P-value: \", p_value)"
   ]
  },
  {
   "cell_type": "markdown",
   "metadata": {},
   "source": [
    "### Q2: Interpretation\n",
    "\n",
    "Discuss what the test-statistic and P-value tell us with the person next to you, or the people at your table. Then, we'll talk as a class."
   ]
  },
  {
   "cell_type": "markdown",
   "metadata": {},
   "source": [
    "# 5. Proportion Comparison Test: Are high-income countries more likely to make emission reduction pledges?\n",
    "\n",
    "The environmental Kuznets Curve suggests we might see an inverted-U relationship of carbon emissions with national wealth. \n",
    "\n",
    "- at low wealth levels, countries don't produce enough to cause high carbon emissions\n",
    "\n",
    "- at medium wealth levels, countries are focused on production over environmental concerns, leading to high per-capita emissions\n",
    "\n",
    "- at high wealth levels, environmental concerns become emphasized and countries spend to reduce their emissions\n",
    "\n",
    "\n",
    "We will investigate this effect by seeing whether High Income countries have signed onto greater proportions of the climate agreements than other countries.\n",
    "\n",
    "### Our Hypotheses\n",
    "\n",
    "- H0: There is no difference in proportion signing the Agreement.\n",
    "- H1: The proportion of High Income countries signing is different from non-High Income countries\n",
    "\n",
    "### Steps:\n",
    "\n",
    "1. Get each country's proportion of agreements signed onto (out of 3)\n",
    "2. Subset out the High Income countries\n",
    "3. Compute average for High Income, and not-High Income countries\n",
    "4. Compare using statistical test"
   ]
  },
  {
   "cell_type": "code",
   "execution_count": 58,
   "metadata": {},
   "outputs": [
    {
     "data": {
      "text/html": [
       "<div>\n",
       "<style scoped>\n",
       "    .dataframe tbody tr th:only-of-type {\n",
       "        vertical-align: middle;\n",
       "    }\n",
       "\n",
       "    .dataframe tbody tr th {\n",
       "        vertical-align: top;\n",
       "    }\n",
       "\n",
       "    .dataframe thead th {\n",
       "        text-align: right;\n",
       "    }\n",
       "</style>\n",
       "<table border=\"1\" class=\"dataframe\">\n",
       "  <thead>\n",
       "    <tr style=\"text-align: right;\">\n",
       "      <th></th>\n",
       "      <th>country</th>\n",
       "      <th>Incomegroup</th>\n",
       "      <th>partytopledge3</th>\n",
       "    </tr>\n",
       "  </thead>\n",
       "  <tbody>\n",
       "    <tr>\n",
       "      <th>0</th>\n",
       "      <td>Afghanistan</td>\n",
       "      <td>Low income</td>\n",
       "      <td>1.0</td>\n",
       "    </tr>\n",
       "    <tr>\n",
       "      <th>1</th>\n",
       "      <td>Afghanistan</td>\n",
       "      <td>Low income</td>\n",
       "      <td>1.0</td>\n",
       "    </tr>\n",
       "    <tr>\n",
       "      <th>2</th>\n",
       "      <td>Afghanistan</td>\n",
       "      <td>Low income</td>\n",
       "      <td>1.0</td>\n",
       "    </tr>\n",
       "    <tr>\n",
       "      <th>3</th>\n",
       "      <td>Afghanistan</td>\n",
       "      <td>Low income</td>\n",
       "      <td>1.0</td>\n",
       "    </tr>\n",
       "    <tr>\n",
       "      <th>4</th>\n",
       "      <td>Afghanistan</td>\n",
       "      <td>Low income</td>\n",
       "      <td>1.0</td>\n",
       "    </tr>\n",
       "    <tr>\n",
       "      <th>...</th>\n",
       "      <td>...</td>\n",
       "      <td>...</td>\n",
       "      <td>...</td>\n",
       "    </tr>\n",
       "    <tr>\n",
       "      <th>10383</th>\n",
       "      <td>Zimbabwe</td>\n",
       "      <td>Lower middle income</td>\n",
       "      <td>1.0</td>\n",
       "    </tr>\n",
       "    <tr>\n",
       "      <th>10384</th>\n",
       "      <td>Zimbabwe</td>\n",
       "      <td>Lower middle income</td>\n",
       "      <td>1.0</td>\n",
       "    </tr>\n",
       "    <tr>\n",
       "      <th>10385</th>\n",
       "      <td>Zimbabwe</td>\n",
       "      <td>Lower middle income</td>\n",
       "      <td>1.0</td>\n",
       "    </tr>\n",
       "    <tr>\n",
       "      <th>10386</th>\n",
       "      <td>Zimbabwe</td>\n",
       "      <td>Lower middle income</td>\n",
       "      <td>1.0</td>\n",
       "    </tr>\n",
       "    <tr>\n",
       "      <th>10387</th>\n",
       "      <td>Zimbabwe</td>\n",
       "      <td>Lower middle income</td>\n",
       "      <td>1.0</td>\n",
       "    </tr>\n",
       "  </tbody>\n",
       "</table>\n",
       "<p>10388 rows × 3 columns</p>\n",
       "</div>"
      ],
      "text/plain": [
       "           country          Incomegroup  partytopledge3\n",
       "0      Afghanistan           Low income             1.0\n",
       "1      Afghanistan           Low income             1.0\n",
       "2      Afghanistan           Low income             1.0\n",
       "3      Afghanistan           Low income             1.0\n",
       "4      Afghanistan           Low income             1.0\n",
       "...            ...                  ...             ...\n",
       "10383     Zimbabwe  Lower middle income             1.0\n",
       "10384     Zimbabwe  Lower middle income             1.0\n",
       "10385     Zimbabwe  Lower middle income             1.0\n",
       "10386     Zimbabwe  Lower middle income             1.0\n",
       "10387     Zimbabwe  Lower middle income             1.0\n",
       "\n",
       "[10388 rows x 3 columns]"
      ]
     },
     "execution_count": 58,
     "metadata": {},
     "output_type": "execute_result"
    }
   ],
   "source": [
    "# create hypothesis 3 dataframe\n",
    "hypothesis_3_df = policy_df[[\"country\", \"Incomegroup\", \"partytopledge3\"]]\n",
    "\n",
    "hypothesis_3_df"
   ]
  },
  {
   "cell_type": "code",
   "execution_count": 59,
   "metadata": {},
   "outputs": [
    {
     "data": {
      "text/html": [
       "<div>\n",
       "<style scoped>\n",
       "    .dataframe tbody tr th:only-of-type {\n",
       "        vertical-align: middle;\n",
       "    }\n",
       "\n",
       "    .dataframe tbody tr th {\n",
       "        vertical-align: top;\n",
       "    }\n",
       "\n",
       "    .dataframe thead th {\n",
       "        text-align: right;\n",
       "    }\n",
       "</style>\n",
       "<table border=\"1\" class=\"dataframe\">\n",
       "  <thead>\n",
       "    <tr style=\"text-align: right;\">\n",
       "      <th></th>\n",
       "      <th>Incomegroup</th>\n",
       "      <th>partytopledge3</th>\n",
       "    </tr>\n",
       "    <tr>\n",
       "      <th>country</th>\n",
       "      <th></th>\n",
       "      <th></th>\n",
       "    </tr>\n",
       "  </thead>\n",
       "  <tbody>\n",
       "    <tr>\n",
       "      <th>Antigua and Barbuda</th>\n",
       "      <td>High income</td>\n",
       "      <td>1.0</td>\n",
       "    </tr>\n",
       "    <tr>\n",
       "      <th>Australia</th>\n",
       "      <td>High income</td>\n",
       "      <td>1.0</td>\n",
       "    </tr>\n",
       "    <tr>\n",
       "      <th>Austria</th>\n",
       "      <td>High income</td>\n",
       "      <td>1.0</td>\n",
       "    </tr>\n",
       "    <tr>\n",
       "      <th>Bahamas, The</th>\n",
       "      <td>High income</td>\n",
       "      <td>1.0</td>\n",
       "    </tr>\n",
       "    <tr>\n",
       "      <th>Bahrain</th>\n",
       "      <td>High income</td>\n",
       "      <td>1.0</td>\n",
       "    </tr>\n",
       "  </tbody>\n",
       "</table>\n",
       "</div>"
      ],
      "text/plain": [
       "                     Incomegroup  partytopledge3\n",
       "country                                         \n",
       "Antigua and Barbuda  High income             1.0\n",
       "Australia            High income             1.0\n",
       "Austria              High income             1.0\n",
       "Bahamas, The         High income             1.0\n",
       "Bahrain              High income             1.0"
      ]
     },
     "execution_count": 59,
     "metadata": {},
     "output_type": "execute_result"
    }
   ],
   "source": [
    "# making high income dataframe\n",
    "hypothesis_3_hi = hypothesis_3_df[hypothesis_3_df[\"Incomegroup\"] == \"High income\"]\n",
    "\n",
    "# grouping by country and taking first value\n",
    "hypothesis_3_hi_group = hypothesis_3_hi.groupby(\"country\").first()\n",
    "\n",
    "# removing NaNs\n",
    "hypothesis_3_hi_group = hypothesis_3_hi_group.dropna()\n",
    "\n",
    "# returning dataframe\n",
    "hypothesis_3_hi_group.head()"
   ]
  },
  {
   "cell_type": "code",
   "execution_count": 60,
   "metadata": {},
   "outputs": [
    {
     "data": {
      "text/html": [
       "<div>\n",
       "<style scoped>\n",
       "    .dataframe tbody tr th:only-of-type {\n",
       "        vertical-align: middle;\n",
       "    }\n",
       "\n",
       "    .dataframe tbody tr th {\n",
       "        vertical-align: top;\n",
       "    }\n",
       "\n",
       "    .dataframe thead th {\n",
       "        text-align: right;\n",
       "    }\n",
       "</style>\n",
       "<table border=\"1\" class=\"dataframe\">\n",
       "  <thead>\n",
       "    <tr style=\"text-align: right;\">\n",
       "      <th></th>\n",
       "      <th>Incomegroup</th>\n",
       "      <th>partytopledge3</th>\n",
       "    </tr>\n",
       "    <tr>\n",
       "      <th>country</th>\n",
       "      <th></th>\n",
       "      <th></th>\n",
       "    </tr>\n",
       "  </thead>\n",
       "  <tbody>\n",
       "    <tr>\n",
       "      <th>Afghanistan</th>\n",
       "      <td>Low income</td>\n",
       "      <td>1.0</td>\n",
       "    </tr>\n",
       "    <tr>\n",
       "      <th>Albania</th>\n",
       "      <td>Upper middle income</td>\n",
       "      <td>1.0</td>\n",
       "    </tr>\n",
       "    <tr>\n",
       "      <th>Algeria</th>\n",
       "      <td>Upper middle income</td>\n",
       "      <td>1.0</td>\n",
       "    </tr>\n",
       "    <tr>\n",
       "      <th>Angola</th>\n",
       "      <td>Lower middle income</td>\n",
       "      <td>1.0</td>\n",
       "    </tr>\n",
       "    <tr>\n",
       "      <th>Argentina</th>\n",
       "      <td>Upper middle income</td>\n",
       "      <td>1.0</td>\n",
       "    </tr>\n",
       "    <tr>\n",
       "      <th>...</th>\n",
       "      <td>...</td>\n",
       "      <td>...</td>\n",
       "    </tr>\n",
       "    <tr>\n",
       "      <th>Venezuela, RB</th>\n",
       "      <td>Upper middle income</td>\n",
       "      <td>1.0</td>\n",
       "    </tr>\n",
       "    <tr>\n",
       "      <th>Vietnam</th>\n",
       "      <td>Lower middle income</td>\n",
       "      <td>1.0</td>\n",
       "    </tr>\n",
       "    <tr>\n",
       "      <th>Yemen, Rep.</th>\n",
       "      <td>Low income</td>\n",
       "      <td>1.0</td>\n",
       "    </tr>\n",
       "    <tr>\n",
       "      <th>Zambia</th>\n",
       "      <td>Lower middle income</td>\n",
       "      <td>1.0</td>\n",
       "    </tr>\n",
       "    <tr>\n",
       "      <th>Zimbabwe</th>\n",
       "      <td>Lower middle income</td>\n",
       "      <td>1.0</td>\n",
       "    </tr>\n",
       "  </tbody>\n",
       "</table>\n",
       "<p>126 rows × 2 columns</p>\n",
       "</div>"
      ],
      "text/plain": [
       "                       Incomegroup  partytopledge3\n",
       "country                                           \n",
       "Afghanistan             Low income             1.0\n",
       "Albania        Upper middle income             1.0\n",
       "Algeria        Upper middle income             1.0\n",
       "Angola         Lower middle income             1.0\n",
       "Argentina      Upper middle income             1.0\n",
       "...                            ...             ...\n",
       "Venezuela, RB  Upper middle income             1.0\n",
       "Vietnam        Lower middle income             1.0\n",
       "Yemen, Rep.             Low income             1.0\n",
       "Zambia         Lower middle income             1.0\n",
       "Zimbabwe       Lower middle income             1.0\n",
       "\n",
       "[126 rows x 2 columns]"
      ]
     },
     "execution_count": 60,
     "metadata": {},
     "output_type": "execute_result"
    }
   ],
   "source": [
    "# making NOT high income dataframe\n",
    "hypothesis_3_not_hi = hypothesis_3_df[hypothesis_3_df[\"Incomegroup\"] != \"High income\"]\n",
    "\n",
    "# grouping by country and taking first value\n",
    "hypothesis_3_not_hi_group = hypothesis_3_not_hi.groupby(\"country\").first()\n",
    "\n",
    "# removing NaNs\n",
    "hypothesis_3_not_hi_group = hypothesis_3_not_hi_group.dropna()\n",
    "\n",
    "# returning dataframe\n",
    "hypothesis_3_not_hi_group"
   ]
  },
  {
   "cell_type": "markdown",
   "metadata": {},
   "source": [
    "### Q3 Hypothesis Testing\n",
    "\n",
    "This time, we're comparing two proportions.\n",
    "\n",
    "`statsmodels.stats.proportions_ztest()` is our hypothesis testing function. Its arguments are:\n",
    "\n",
    "- `count`: a list of the different groups' numbers of successes. \n",
    "- `nobs`: a list of the different groups' numbers of total observations\n",
    "- `alternative`: one of {\"two-sided\", \"smaller\", \"larger\"} for two-sided or one-sided test\n",
    "\n",
    "`count` and `nobs` must be inputted in the same order, so if we have:\n",
    "\n",
    "- group 1, with 10 successes and 20 observations\n",
    "- group 2, with 15 successes and 18 observations\n",
    "\n",
    "We would input these as [10, 15] and [20, 18]."
   ]
  },
  {
   "cell_type": "code",
   "execution_count": 61,
   "metadata": {},
   "outputs": [
    {
     "name": "stdout",
     "output_type": "stream",
     "text": [
      "Proportion of High Income countries signing Paris Agreement: 0.9636363636363636\n",
      "Number of high income countries: 55\n"
     ]
    }
   ],
   "source": [
    "print(\"Proportion of High Income countries signing Paris Agreement: \" + str(hypothesis_3_hi_group[\"partytopledge3\"].mean()))\n",
    "print(\"Number of high income countries: \" + str(len(hypothesis_3_hi_group)))"
   ]
  },
  {
   "cell_type": "code",
   "execution_count": 62,
   "metadata": {},
   "outputs": [
    {
     "name": "stdout",
     "output_type": "stream",
     "text": [
      "Proportion of non-High Income countries signing Paris Agreement: 0.9603174603174603\n",
      "Number of non-high income countries: 126\n"
     ]
    }
   ],
   "source": [
    "print(\"Proportion of non-High Income countries signing Paris Agreement: \" + str(hypothesis_3_not_hi_group[\"partytopledge3\"].mean()))\n",
    "print(\"Number of non-high income countries: \" + str(len(hypothesis_3_not_hi_group)))"
   ]
  },
  {
   "cell_type": "markdown",
   "metadata": {},
   "source": [
    "These are notably similar, so we likely shouldn't have high expectations for disproving the null hypothesis."
   ]
  },
  {
   "cell_type": "code",
   "execution_count": 63,
   "metadata": {},
   "outputs": [
    {
     "name": "stdout",
     "output_type": "stream",
     "text": [
      "Z-score:  0.10650668363508603\n",
      "P-value:  0.9151803527995432\n"
     ]
    }
   ],
   "source": [
    "p_hi = hypothesis_3_hi_group[\"partytopledge3\"].mean()\n",
    "n_hi = len(hypothesis_3_hi_group)\n",
    "\n",
    "p_not_hi = hypothesis_3_not_hi_group[\"partytopledge3\"].mean()\n",
    "n_not_hi = len(hypothesis_3_not_hi_group)\n",
    "\n",
    "\n",
    "z_score, p_value = sm.stats.proportions_ztest(count = [p_hi*n_hi, p_not_hi*n_not_hi], nobs = [n_hi, n_not_hi], alternative = \"two-sided\")\n",
    "\n",
    "print(\"Z-score: \", z_score)\n",
    "print(\"P-value: \", p_value)"
   ]
  },
  {
   "cell_type": "markdown",
   "metadata": {},
   "source": [
    "### Q3: Interpretation\n",
    "\n",
    "Discuss what the test-statistic and P-value tell us with the person next to you, or the people at your table. Then, we'll talk as a class.\n"
   ]
  },
  {
   "cell_type": "markdown",
   "metadata": {},
   "source": [
    "# 6. 2-Tail Means Comparison: Do high-income countries make higher or lower absolute emission reductions?\n",
    "\n",
    "So if High Income countries are more likely to sign onto climate agreements than Mid/Low-Income countries, how do they behave after signing?\n",
    "\n",
    "We're going to analyze this question by taking the mean emission reduction done by High Income countries and compare it with that of other countries. Since we don't have a strong reason to assume it will be one or the other, we will use a two-tailed test. \n",
    "\n",
    "Our reductions will come from the `rel_reduction____` variables. The \"rel\" part marks these as \"relative\" emissions. This actually means two things!\n",
    "\n",
    "1. The reductions are *relative* to their levels at the start of the agreement coming into force. 1 is Kyoto, 2 is Copenhagen, 3 is Paris. \n",
    "\n",
    "2. The reductions are proportional: pledging `23.4` emissions reductions means to promise to decrease by 23.4%."
   ]
  },
  {
   "cell_type": "markdown",
   "metadata": {},
   "source": [
    "### Many ways to skin a cat\n",
    "\n",
    "When we ask, \"Do high-income countries make higher or lower absolute emission reductions?\", what exactly do we mean?\n",
    "\n",
    "There are *many* ways to turn that question into a series of commands in Python. Each of the 3 climate agreements has 2 reduction pledges; a high and a low value. This gives us 6 variables we can come up with a test on:\n",
    "\n",
    "- we might average all of them\n",
    "- we might average the high, or low, ones\n",
    "- we might take just the most recent Paris Agreeement value\n",
    "\n",
    "Any of these *could* be reasonable. We could even transform the data into proportional or absolute values. Now, what if we had an agenda to push?\n",
    "\n",
    "- we might want to say rich countries aren't pulling their share in emissions reductions!\n",
    "- we might want to say they **are** pulling their weight and everyone else should stop complaining!\n",
    "\n",
    "If you're somehow committed to a specific result, you may be tempted to run a number of these, and report the result most favorable to your views. Or, run just the one you think will give the most convenient result and not explore any others.\n",
    "\n",
    "\"Researcher degrees of freedom\" refers to this flexibility in how statistical analyses are designed and reported, and plays a major role in the Replication Crisis affecting much of academic social science. Economics is less badly affected than the worst offenders (psychology, sociology), but it's still a serious concern. \n",
    "\n",
    "### Our specification and why\n",
    "\n",
    "We will be taking the most recent pledge round, the Paris Agreement, and using the low versions. Why?\n",
    "\n",
    "1. This uses pledges currently in place. We will suggest that climate change is being taken more seriously as of late, due to the rise in heat waves and changing weather patterns resulting from it.\n",
    "\n",
    "2. We will use the `low` value to be cynical about countries' pledges. If rich countries really are shirking, we'd see it in their lower-bound pledges.\n",
    "\n",
    "### Our Hypotheses\n",
    "\n",
    "- H0: High and non-High Income countries are not making different reduction pledges in the Paris Agreement.\n",
    "- H1: High countries are making significantly greater or smaller reduction pledges in the Paris Agreement."
   ]
  },
  {
   "cell_type": "code",
   "execution_count": 64,
   "metadata": {},
   "outputs": [
    {
     "data": {
      "text/html": [
       "<div>\n",
       "<style scoped>\n",
       "    .dataframe tbody tr th:only-of-type {\n",
       "        vertical-align: middle;\n",
       "    }\n",
       "\n",
       "    .dataframe tbody tr th {\n",
       "        vertical-align: top;\n",
       "    }\n",
       "\n",
       "    .dataframe thead th {\n",
       "        text-align: right;\n",
       "    }\n",
       "</style>\n",
       "<table border=\"1\" class=\"dataframe\">\n",
       "  <thead>\n",
       "    <tr style=\"text-align: right;\">\n",
       "      <th></th>\n",
       "      <th>country</th>\n",
       "      <th>Incomegroup</th>\n",
       "      <th>rel_reduction_low3</th>\n",
       "    </tr>\n",
       "  </thead>\n",
       "  <tbody>\n",
       "    <tr>\n",
       "      <th>0</th>\n",
       "      <td>Afghanistan</td>\n",
       "      <td>Low income</td>\n",
       "      <td>-27.857044</td>\n",
       "    </tr>\n",
       "    <tr>\n",
       "      <th>1</th>\n",
       "      <td>Afghanistan</td>\n",
       "      <td>Low income</td>\n",
       "      <td>-27.857044</td>\n",
       "    </tr>\n",
       "    <tr>\n",
       "      <th>2</th>\n",
       "      <td>Afghanistan</td>\n",
       "      <td>Low income</td>\n",
       "      <td>-27.857044</td>\n",
       "    </tr>\n",
       "    <tr>\n",
       "      <th>3</th>\n",
       "      <td>Afghanistan</td>\n",
       "      <td>Low income</td>\n",
       "      <td>-27.857044</td>\n",
       "    </tr>\n",
       "    <tr>\n",
       "      <th>4</th>\n",
       "      <td>Afghanistan</td>\n",
       "      <td>Low income</td>\n",
       "      <td>-27.857044</td>\n",
       "    </tr>\n",
       "    <tr>\n",
       "      <th>...</th>\n",
       "      <td>...</td>\n",
       "      <td>...</td>\n",
       "      <td>...</td>\n",
       "    </tr>\n",
       "    <tr>\n",
       "      <th>10383</th>\n",
       "      <td>Zimbabwe</td>\n",
       "      <td>Lower middle income</td>\n",
       "      <td>NaN</td>\n",
       "    </tr>\n",
       "    <tr>\n",
       "      <th>10384</th>\n",
       "      <td>Zimbabwe</td>\n",
       "      <td>Lower middle income</td>\n",
       "      <td>NaN</td>\n",
       "    </tr>\n",
       "    <tr>\n",
       "      <th>10385</th>\n",
       "      <td>Zimbabwe</td>\n",
       "      <td>Lower middle income</td>\n",
       "      <td>NaN</td>\n",
       "    </tr>\n",
       "    <tr>\n",
       "      <th>10386</th>\n",
       "      <td>Zimbabwe</td>\n",
       "      <td>Lower middle income</td>\n",
       "      <td>NaN</td>\n",
       "    </tr>\n",
       "    <tr>\n",
       "      <th>10387</th>\n",
       "      <td>Zimbabwe</td>\n",
       "      <td>Lower middle income</td>\n",
       "      <td>NaN</td>\n",
       "    </tr>\n",
       "  </tbody>\n",
       "</table>\n",
       "<p>10388 rows × 3 columns</p>\n",
       "</div>"
      ],
      "text/plain": [
       "           country          Incomegroup  rel_reduction_low3\n",
       "0      Afghanistan           Low income          -27.857044\n",
       "1      Afghanistan           Low income          -27.857044\n",
       "2      Afghanistan           Low income          -27.857044\n",
       "3      Afghanistan           Low income          -27.857044\n",
       "4      Afghanistan           Low income          -27.857044\n",
       "...            ...                  ...                 ...\n",
       "10383     Zimbabwe  Lower middle income                 NaN\n",
       "10384     Zimbabwe  Lower middle income                 NaN\n",
       "10385     Zimbabwe  Lower middle income                 NaN\n",
       "10386     Zimbabwe  Lower middle income                 NaN\n",
       "10387     Zimbabwe  Lower middle income                 NaN\n",
       "\n",
       "[10388 rows x 3 columns]"
      ]
     },
     "execution_count": 64,
     "metadata": {},
     "output_type": "execute_result"
    }
   ],
   "source": [
    "hypothesis_4_df = policy_df[[\"country\", \"Incomegroup\", \"rel_reduction_low3\"]]\n",
    "hypothesis_4_df"
   ]
  },
  {
   "cell_type": "code",
   "execution_count": 65,
   "metadata": {},
   "outputs": [],
   "source": [
    "# Drop NaN rows (avoid SettingWithCopyWarning)\n",
    "hypothesis_4_df = hypothesis_4_df.dropna()\n",
    "\n",
    "# Take the first value for each country\n",
    "hypothesis_4_df = hypothesis_4_df.groupby(\"country\").first()\n",
    "\n",
    "# Split into high-income and not high-income\n",
    "hypothesis_4_hi_df = hypothesis_4_df[hypothesis_4_df[\"Incomegroup\"] == \"High income\"].copy()\n",
    "hypothesis_4_not_hi_df = hypothesis_4_df[hypothesis_4_df[\"Incomegroup\"] != \"High income\"].copy()"
   ]
  },
  {
   "cell_type": "markdown",
   "metadata": {},
   "source": [
    "I think there's something off here."
   ]
  },
  {
   "cell_type": "code",
   "execution_count": 66,
   "metadata": {},
   "outputs": [
    {
     "data": {
      "text/plain": [
       "Text(0.5, 1.0, 'What the Hell, Latvia?')"
      ]
     },
     "execution_count": 66,
     "metadata": {},
     "output_type": "execute_result"
    },
    {
     "data": {
      "image/png": "[encoded data removed]",
      "text/plain": [
       "<Figure size 640x480 with 1 Axes>"
      ]
     },
     "metadata": {},
     "output_type": "display_data"
    }
   ],
   "source": [
    "# make latvia df\n",
    "\n",
    "latvia_df = hypothesis_4_hi_df[hypothesis_4_hi_df.index == \"Latvia\"]\n",
    "\n",
    "# make x range, get y values\n",
    "x = range(52)\n",
    "y = hypothesis_4_hi_df[\"rel_reduction_low3\"]\n",
    "\n",
    "# make scatter plot\n",
    "plt.scatter(x, y)\n",
    "\n",
    "# add Latvia scatter at point 25\n",
    "plt.scatter(x = 25, y = -472, color = \"red\", label = \"Latvia\")\n",
    "\n",
    "# add Latvia label\n",
    "plt.text(x[25], -460, \"Latvia\")\n",
    "\n",
    "    \n",
    "# axis labels\n",
    "plt.ylabel(\"Paris Agreement Emission Reduction Pledges\")\n",
    "\n",
    "# plot title\n",
    "plt.title(\"What the Hell, Latvia?\")"
   ]
  },
  {
   "cell_type": "code",
   "execution_count": 67,
   "metadata": {},
   "outputs": [
    {
     "data": {
      "application/vnd.plotly.v1+json": {
       "config": {
        "plotlyServerURL": "https://plot.ly"
       },
       "data": [
        {
         "marker": {
          "color": "blue"
         },
         "mode": "markers",
         "name": "Countries",
         "type": "scatter",
         "x": [
          0,
          1,
          2,
          3,
          4,
          5,
          6,
          7,
          8,
          9,
          10,
          11,
          12,
          13,
          14,
          15,
          16,
          17,
          18,
          19,
          20,
          21,
          22,
          23,
          24,
          25,
          26,
          27,
          28,
          29,
          30,
          31,
          32,
          33,
          34,
          35,
          36,
          37,
          38,
          39,
          40,
          41,
          42,
          43,
          44,
          45,
          46,
          47,
          48,
          49,
          50,
          51
         ],
         "y": {
          "bdata": "AAAAAAAAAAAZBFYOLVItQAAAAAAAAAAAAAAAAAAAAAA/AKlNnLwuQEUpIVhVfzZAAAAAAAAAAABoPBHEeTg1QG5MT1jiCTNA+uKcItGlAEBxbU1fdN4OwCE82jhibTJAwv3bwHihHECV2LW93cxIQKmDvB5M1jRA6sw9JHzvPkCXdf9YiG41wAd8fhghCDTAoYZvYd1sQED8q8d9q00xQHNjesISA0JAndJmQc3VE0Cg/N07atA3QEWeJF0z6UNAAAAAAAAAAADIBz2b1YV9wKsjRzoDayvAAWxAhLgyPUDhYdo391crQBO3CmKgXztA8RKc+kD+OkCXb31Ybww5QM+j4v+OIC5AY0M3+wMtLEAAAAAAAAAAAPsCeuHOpQNA7tCwGHW1L8AAAAAAAAAAAAAAAAAAAAAAv56vWS4/MMAnJlbj+KPbvx9KtOTxYDtAsSQvIdX2AsAQJO8cyohDwHZR9MDHHFVAk/yIX7HyRkAAAAAAAAAAAA9FgT6RQmDAAAAAAAAAAADzGyYapJw0QIAMHTuotDhAAAAAAAAAAAA=",
          "dtype": "f8"
         }
        },
        {
         "marker": {
          "color": "red",
          "size": 12
         },
         "mode": "markers+text",
         "name": "Latvia",
         "text": [
          "Latvia"
         ],
         "textposition": "bottom center",
         "type": "scatter",
         "x": [
          25
         ],
         "y": [
          -472
         ]
        }
       ],
       "layout": {
        "showlegend": true,
        "template": {
         "data": {
          "bar": [
           {
            "error_x": {
             "color": "#2a3f5f"
            },
            "error_y": {
             "color": "#2a3f5f"
            },
            "marker": {
             "line": {
              "color": "#E5ECF6",
              "width": 0.5
             },
             "pattern": {
              "fillmode": "overlay",
              "size": 10,
              "solidity": 0.2
             }
            },
            "type": "bar"
           }
          ],
          "barpolar": [
           {
            "marker": {
             "line": {
              "color": "#E5ECF6",
              "width": 0.5
             },
             "pattern": {
              "fillmode": "overlay",
              "size": 10,
              "solidity": 0.2
             }
            },
            "type": "barpolar"
           }
          ],
          "carpet": [
           {
            "aaxis": {
             "endlinecolor": "#2a3f5f",
             "gridcolor": "white",
             "linecolor": "white",
             "minorgridcolor": "white",
             "startlinecolor": "#2a3f5f"
            },
            "baxis": {
             "endlinecolor": "#2a3f5f",
             "gridcolor": "white",
             "linecolor": "white",
             "minorgridcolor": "white",
             "startlinecolor": "#2a3f5f"
            },
            "type": "carpet"
           }
          ],
          "choropleth": [
           {
            "colorbar": {
             "outlinewidth": 0,
             "ticks": ""
            },
            "type": "choropleth"
           }
          ],
          "contour": [
           {
            "colorbar": {
             "outlinewidth": 0,
             "ticks": ""
            },
            "colorscale": [
             [
              0,
              "#0d0887"
             ],
             [
              0.1111111111111111,
              "#46039f"
             ],
             [
              0.2222222222222222,
              "#7201a8"
             ],
             [
              0.3333333333333333,
              "#9c179e"
             ],
             [
              0.4444444444444444,
              "#bd3786"
             ],
             [
              0.5555555555555556,
              "#d8576b"
             ],
             [
              0.6666666666666666,
              "#ed7953"
             ],
             [
              0.7777777777777778,
              "#fb9f3a"
             ],
             [
              0.8888888888888888,
              "#fdca26"
             ],
             [
              1,
              "#f0f921"
             ]
            ],
            "type": "contour"
           }
          ],
          "contourcarpet": [
           {
            "colorbar": {
             "outlinewidth": 0,
             "ticks": ""
            },
            "type": "contourcarpet"
           }
          ],
          "heatmap": [
           {
            "colorbar": {
             "outlinewidth": 0,
             "ticks": ""
            },
            "colorscale": [
             [
              0,
              "#0d0887"
             ],
             [
              0.1111111111111111,
              "#46039f"
             ],
             [
              0.2222222222222222,
              "#7201a8"
             ],
             [
              0.3333333333333333,
              "#9c179e"
             ],
             [
              0.4444444444444444,
              "#bd3786"
             ],
             [
              0.5555555555555556,
              "#d8576b"
             ],
             [
              0.6666666666666666,
              "#ed7953"
             ],
             [
              0.7777777777777778,
              "#fb9f3a"
             ],
             [
              0.8888888888888888,
              "#fdca26"
             ],
             [
              1,
              "#f0f921"
             ]
            ],
            "type": "heatmap"
           }
          ],
          "histogram": [
           {
            "marker": {
             "pattern": {
              "fillmode": "overlay",
              "size": 10,
              "solidity": 0.2
             }
            },
            "type": "histogram"
           }
          ],
          "histogram2d": [
           {
            "colorbar": {
             "outlinewidth": 0,
             "ticks": ""
            },
            "colorscale": [
             [
              0,
              "#0d0887"
             ],
             [
              0.1111111111111111,
              "#46039f"
             ],
             [
              0.2222222222222222,
              "#7201a8"
             ],
             [
              0.3333333333333333,
              "#9c179e"
             ],
             [
              0.4444444444444444,
              "#bd3786"
             ],
             [
              0.5555555555555556,
              "#d8576b"
             ],
             [
              0.6666666666666666,
              "#ed7953"
             ],
             [
              0.7777777777777778,
              "#fb9f3a"
             ],
             [
              0.8888888888888888,
              "#fdca26"
             ],
             [
              1,
              "#f0f921"
             ]
            ],
            "type": "histogram2d"
           }
          ],
          "histogram2dcontour": [
           {
            "colorbar": {
             "outlinewidth": 0,
             "ticks": ""
            },
            "colorscale": [
             [
              0,
              "#0d0887"
             ],
             [
              0.1111111111111111,
              "#46039f"
             ],
             [
              0.2222222222222222,
              "#7201a8"
             ],
             [
              0.3333333333333333,
              "#9c179e"
             ],
             [
              0.4444444444444444,
              "#bd3786"
             ],
             [
              0.5555555555555556,
              "#d8576b"
             ],
             [
              0.6666666666666666,
              "#ed7953"
             ],
             [
              0.7777777777777778,
              "#fb9f3a"
             ],
             [
              0.8888888888888888,
              "#fdca26"
             ],
             [
              1,
              "#f0f921"
             ]
            ],
            "type": "histogram2dcontour"
           }
          ],
          "mesh3d": [
           {
            "colorbar": {
             "outlinewidth": 0,
             "ticks": ""
            },
            "type": "mesh3d"
           }
          ],
          "parcoords": [
           {
            "line": {
             "colorbar": {
              "outlinewidth": 0,
              "ticks": ""
             }
            },
            "type": "parcoords"
           }
          ],
          "pie": [
           {
            "automargin": true,
            "type": "pie"
           }
          ],
          "scatter": [
           {
            "fillpattern": {
             "fillmode": "overlay",
             "size": 10,
             "solidity": 0.2
            },
            "type": "scatter"
           }
          ],
          "scatter3d": [
           {
            "line": {
             "colorbar": {
              "outlinewidth": 0,
              "ticks": ""
             }
            },
            "marker": {
             "colorbar": {
              "outlinewidth": 0,
              "ticks": ""
             }
            },
            "type": "scatter3d"
           }
          ],
          "scattercarpet": [
           {
            "marker": {
             "colorbar": {
              "outlinewidth": 0,
              "ticks": ""
             }
            },
            "type": "scattercarpet"
           }
          ],
          "scattergeo": [
           {
            "marker": {
             "colorbar": {
              "outlinewidth": 0,
              "ticks": ""
             }
            },
            "type": "scattergeo"
           }
          ],
          "scattergl": [
           {
            "marker": {
             "colorbar": {
              "outlinewidth": 0,
              "ticks": ""
             }
            },
            "type": "scattergl"
           }
          ],
          "scattermap": [
           {
            "marker": {
             "colorbar": {
              "outlinewidth": 0,
              "ticks": ""
             }
            },
            "type": "scattermap"
           }
          ],
          "scattermapbox": [
           {
            "marker": {
             "colorbar": {
              "outlinewidth": 0,
              "ticks": ""
             }
            },
            "type": "scattermapbox"
           }
          ],
          "scatterpolar": [
           {
            "marker": {
             "colorbar": {
              "outlinewidth": 0,
              "ticks": ""
             }
            },
            "type": "scatterpolar"
           }
          ],
          "scatterpolargl": [
           {
            "marker": {
             "colorbar": {
              "outlinewidth": 0,
              "ticks": ""
             }
            },
            "type": "scatterpolargl"
           }
          ],
          "scatterternary": [
           {
            "marker": {
             "colorbar": {
              "outlinewidth": 0,
              "ticks": ""
             }
            },
            "type": "scatterternary"
           }
          ],
          "surface": [
           {
            "colorbar": {
             "outlinewidth": 0,
             "ticks": ""
            },
            "colorscale": [
             [
              0,
              "#0d0887"
             ],
             [
              0.1111111111111111,
              "#46039f"
             ],
             [
              0.2222222222222222,
              "#7201a8"
             ],
             [
              0.3333333333333333,
              "#9c179e"
             ],
             [
              0.4444444444444444,
              "#bd3786"
             ],
             [
              0.5555555555555556,
              "#d8576b"
             ],
             [
              0.6666666666666666,
              "#ed7953"
             ],
             [
              0.7777777777777778,
              "#fb9f3a"
             ],
             [
              0.8888888888888888,
              "#fdca26"
             ],
             [
              1,
              "#f0f921"
             ]
            ],
            "type": "surface"
           }
          ],
          "table": [
           {
            "cells": {
             "fill": {
              "color": "#EBF0F8"
             },
             "line": {
              "color": "white"
             }
            },
            "header": {
             "fill": {
              "color": "#C8D4E3"
             },
             "line": {
              "color": "white"
             }
            },
            "type": "table"
           }
          ]
         },
         "layout": {
          "annotationdefaults": {
           "arrowcolor": "#2a3f5f",
           "arrowhead": 0,
           "arrowwidth": 1
          },
          "autotypenumbers": "strict",
          "coloraxis": {
           "colorbar": {
            "outlinewidth": 0,
            "ticks": ""
           }
          },
          "colorscale": {
           "diverging": [
            [
             0,
             "#8e0152"
            ],
            [
             0.1,
             "#c51b7d"
            ],
            [
             0.2,
             "#de77ae"
            ],
            [
             0.3,
             "#f1b6da"
            ],
            [
             0.4,
             "#fde0ef"
            ],
            [
             0.5,
             "#f7f7f7"
            ],
            [
             0.6,
             "#e6f5d0"
            ],
            [
             0.7,
             "#b8e186"
            ],
            [
             0.8,
             "#7fbc41"
            ],
            [
             0.9,
             "#4d9221"
            ],
            [
             1,
             "#276419"
            ]
           ],
           "sequential": [
            [
             0,
             "#0d0887"
            ],
            [
             0.1111111111111111,
             "#46039f"
            ],
            [
             0.2222222222222222,
             "#7201a8"
            ],
            [
             0.3333333333333333,
             "#9c179e"
            ],
            [
             0.4444444444444444,
             "#bd3786"
            ],
            [
             0.5555555555555556,
             "#d8576b"
            ],
            [
             0.6666666666666666,
             "#ed7953"
            ],
            [
             0.7777777777777778,
             "#fb9f3a"
            ],
            [
             0.8888888888888888,
             "#fdca26"
            ],
            [
             1,
             "#f0f921"
            ]
           ],
           "sequentialminus": [
            [
             0,
             "#0d0887"
            ],
            [
             0.1111111111111111,
             "#46039f"
            ],
            [
             0.2222222222222222,
             "#7201a8"
            ],
            [
             0.3333333333333333,
             "#9c179e"
            ],
            [
             0.4444444444444444,
             "#bd3786"
            ],
            [
             0.5555555555555556,
             "#d8576b"
            ],
            [
             0.6666666666666666,
             "#ed7953"
            ],
            [
             0.7777777777777778,
             "#fb9f3a"
            ],
            [
             0.8888888888888888,
             "#fdca26"
            ],
            [
             1,
             "#f0f921"
            ]
           ]
          },
          "colorway": [
           "#636efa",
           "#EF553B",
           "#00cc96",
           "#ab63fa",
           "#FFA15A",
           "#19d3f3",
           "#FF6692",
           "#B6E880",
           "#FF97FF",
           "#FECB52"
          ],
          "font": {
           "color": "#2a3f5f"
          },
          "geo": {
           "bgcolor": "white",
           "lakecolor": "white",
           "landcolor": "#E5ECF6",
           "showlakes": true,
           "showland": true,
           "subunitcolor": "white"
          },
          "hoverlabel": {
           "align": "left"
          },
          "hovermode": "closest",
          "mapbox": {
           "style": "light"
          },
          "paper_bgcolor": "white",
          "plot_bgcolor": "#E5ECF6",
          "polar": {
           "angularaxis": {
            "gridcolor": "white",
            "linecolor": "white",
            "ticks": ""
           },
           "bgcolor": "#E5ECF6",
           "radialaxis": {
            "gridcolor": "white",
            "linecolor": "white",
            "ticks": ""
           }
          },
          "scene": {
           "xaxis": {
            "backgroundcolor": "#E5ECF6",
            "gridcolor": "white",
            "gridwidth": 2,
            "linecolor": "white",
            "showbackground": true,
            "ticks": "",
            "zerolinecolor": "white"
           },
           "yaxis": {
            "backgroundcolor": "#E5ECF6",
            "gridcolor": "white",
            "gridwidth": 2,
            "linecolor": "white",
            "showbackground": true,
            "ticks": "",
            "zerolinecolor": "white"
           },
           "zaxis": {
            "backgroundcolor": "#E5ECF6",
            "gridcolor": "white",
            "gridwidth": 2,
            "linecolor": "white",
            "showbackground": true,
            "ticks": "",
            "zerolinecolor": "white"
           }
          },
          "shapedefaults": {
           "line": {
            "color": "#2a3f5f"
           }
          },
          "ternary": {
           "aaxis": {
            "gridcolor": "white",
            "linecolor": "white",
            "ticks": ""
           },
           "baxis": {
            "gridcolor": "white",
            "linecolor": "white",
            "ticks": ""
           },
           "bgcolor": "#E5ECF6",
           "caxis": {
            "gridcolor": "white",
            "linecolor": "white",
            "ticks": ""
           }
          },
          "title": {
           "x": 0.05
          },
          "xaxis": {
           "automargin": true,
           "gridcolor": "white",
           "linecolor": "white",
           "ticks": "",
           "title": {
            "standoff": 15
           },
           "zerolinecolor": "white",
           "zerolinewidth": 2
          },
          "yaxis": {
           "automargin": true,
           "gridcolor": "white",
           "linecolor": "white",
           "ticks": "",
           "title": {
            "standoff": 15
           },
           "zerolinecolor": "white",
           "zerolinewidth": 2
          }
         }
        },
        "title": {
         "text": "What the Hell, Latvia?"
        },
        "yaxis": {
         "title": {
          "text": "Paris Agreement Emission Reduction Pledges"
         }
        }
       }
      }
     },
     "metadata": {},
     "output_type": "display_data"
    }
   ],
   "source": [
    "import plotly.graph_objects as go\n",
    "\n",
    "# x range and y values\n",
    "x = list(range(52))\n",
    "y = hypothesis_4_hi_df[\"rel_reduction_low3\"]\n",
    "\n",
    "# Latvia's index (assuming \"Latvia\" is at position 25)\n",
    "latvia_x = 25\n",
    "latvia_y = -472\n",
    "\n",
    "fig = go.Figure()\n",
    "\n",
    "# Main scatter plot\n",
    "fig.add_trace(go.Scatter(\n",
    "    x=x, y=y,\n",
    "    mode='markers',\n",
    "    name='Countries',\n",
    "    marker=dict(color='blue')\n",
    "))\n",
    "\n",
    "# Latvia point\n",
    "fig.add_trace(go.Scatter(\n",
    "    x=[latvia_x],\n",
    "    y=[latvia_y],\n",
    "    mode='markers+text',\n",
    "    name='Latvia',\n",
    "    marker=dict(color='red', size=12),\n",
    "    text=[\"Latvia\"],\n",
    "    textposition=\"bottom center\"\n",
    "))\n",
    "\n",
    "# Update layout for labels and title\n",
    "fig.update_layout(\n",
    "    yaxis_title=\"Paris Agreement Emission Reduction Pledges\",\n",
    "    title=\"What the Hell, Latvia?\",\n",
    "    showlegend=True\n",
    ")\n",
    "\n",
    "fig.show()\n"
   ]
  },
  {
   "cell_type": "markdown",
   "metadata": {},
   "source": [
    "Latvia has a bizarre outlier value at -472. A dishonorable mention goes to Trinidad and Tobago, at -130.\n",
    "\n",
    "Does the non-High Income dataset have any outliers?"
   ]
  },
  {
   "cell_type": "code",
   "execution_count": 68,
   "metadata": {},
   "outputs": [
    {
     "data": {
      "image/png": "[encoded data removed]",
      "text/plain": [
       "<Figure size 1400x800 with 1 Axes>"
      ]
     },
     "metadata": {},
     "output_type": "display_data"
    }
   ],
   "source": [
    "import matplotlib.pyplot as plt\n",
    "\n",
    "# Make x range, get y values, and country labels as lists\n",
    "x = list(range(len(hypothesis_4_not_hi_df)))\n",
    "y = hypothesis_4_not_hi_df[\"rel_reduction_low3\"].to_list()\n",
    "labels = hypothesis_4_not_hi_df.index.to_list()\n",
    "\n",
    "plt.figure(figsize=(14, 8))\n",
    "plt.scatter(x, y)\n",
    "\n",
    "# data labels\n",
    "for i, label in enumerate(labels):\n",
    "    plt.text(x[i], y[i], label, fontsize=10, ha=\"center\", va=\"bottom\")\n",
    "\n",
    "# axis labels\n",
    "plt.ylabel(\"Paris Agreement Emission Reduction Pledges\")\n",
    "plt.xlabel(\"Country (index)\")\n",
    "plt.title(\"Non-High Income Paris Pledges\")\n",
    "\n",
    "plt.tight_layout()\n",
    "plt.show()\n"
   ]
  },
  {
   "cell_type": "markdown",
   "metadata": {},
   "source": [
    "Kiribati?! You too?\n",
    "\n",
    "This is a *bizarre* outlier. In the source paper, the authors mention removing Latvia, Kiribati, and Madagascar from the sample in plots. We will run two hypothesis tests. One with the three outliers, and one without. \n"
   ]
  },
  {
   "cell_type": "markdown",
   "metadata": {},
   "source": [
    "### Two-tailed comparison of means\n",
    "\n",
    "Our function here is Scipy's `stats.ttest_ind()`, which compares if two samples have identical averages. The relevant input arguments are:\n",
    "\n",
    "- `a`, `b`: array, list, dataframe column, etc, sets of values \n",
    "- `equal_var`: True or False. If True, assumes the two sets of values have the same population variance. If False, it performs Welch's t-test, which does not rely on such assumption.\n",
    "\n",
    "**CONFUSINGLY**, `equal_var` is set to True by default, which suggests the makers of `Scipy` hate us and want to make our results bad. This is a strong assumption, which the equivalent R function *doesn't* make by default, and we will not make it. "
   ]
  },
  {
   "cell_type": "code",
   "execution_count": 69,
   "metadata": {},
   "outputs": [
    {
     "data": {
      "text/plain": [
       "np.float64(76373436.29754238)"
      ]
     },
     "execution_count": 69,
     "metadata": {},
     "output_type": "execute_result"
    }
   ],
   "source": [
    "hypothesis_4_hi_df[\"rel_reduction_low3\"].mean()\n",
    "hypothesis_4_hi_df[\"rel_reduction_low3\"].var()\n",
    "\n",
    "hypothesis_4_not_hi_df[\"rel_reduction_low3\"].mean()\n",
    "hypothesis_4_not_hi_df[\"rel_reduction_low3\"].var()"
   ]
  },
  {
   "cell_type": "code",
   "execution_count": 70,
   "metadata": {},
   "outputs": [
    {
     "name": "stdout",
     "output_type": "stream",
     "text": [
      "T-statistic:  1.0045836960314467\n",
      "P-value:  0.31759616568174026\n"
     ]
    }
   ],
   "source": [
    "# including all outliers\n",
    "\n",
    "# two-sample t-test\n",
    "t_statistic, p_value = stats.ttest_ind(a = hypothesis_4_hi_df[\"rel_reduction_low3\"], b = hypothesis_4_not_hi_df[\"rel_reduction_low3\"], equal_var = False)\n",
    "\n",
    "# output results\n",
    "print(\"T-statistic: \", t_statistic)\n",
    "print(\"P-value: \", p_value)"
   ]
  },
  {
   "cell_type": "markdown",
   "metadata": {},
   "source": [
    "We saw that Latvia and Kiribati are extreme outliers. The paper mentioned Madagascar as well. What if we remove them?"
   ]
  },
  {
   "cell_type": "code",
   "execution_count": 71,
   "metadata": {},
   "outputs": [
    {
     "name": "stdout",
     "output_type": "stream",
     "text": [
      "T-statistic:  1.4313324729377335\n",
      "P-value:  0.15450667855769346\n"
     ]
    }
   ],
   "source": [
    "# make high income df without latvia\n",
    "hypothesis_4_hi_no_latvia_df = hypothesis_4_hi_df.reset_index()\n",
    "hypothesis_4_hi_no_latvia_df = hypothesis_4_hi_no_latvia_df[hypothesis_4_hi_no_latvia_df[\"country\"] != \"Latvia\"]\n",
    "\n",
    "# make not high income df without Kiribati, Madagascar\n",
    "hypothesis_4_not_hi_no_kiri_mad_df = hypothesis_4_not_hi_df.reset_index()\n",
    "hypothesis_4_not_hi_no_kiri_mad_df = hypothesis_4_not_hi_no_kiri_mad_df[hypothesis_4_not_hi_no_kiri_mad_df[\"country\"] != \"Kiribati\"]\n",
    "hypothesis_4_not_hi_no_kiri_mad_df = hypothesis_4_not_hi_no_kiri_mad_df[hypothesis_4_not_hi_no_kiri_mad_df[\"country\"] != \"Madagascar\"]\n",
    "\n",
    "# two-sample t-test\n",
    "t_statistic, p_value = stats.ttest_ind(hypothesis_4_hi_no_latvia_df[\"rel_reduction_low3\"], \n",
    "                                       hypothesis_4_not_hi_no_kiri_mad_df[\"rel_reduction_low3\"],\n",
    "                                       equal_var = False)\n",
    "\n",
    "# output results\n",
    "print(\"T-statistic: \", t_statistic)\n",
    "print(\"P-value: \", p_value)"
   ]
  },
  {
   "cell_type": "markdown",
   "metadata": {},
   "source": [
    "### Q4: Interpretation\n",
    "\n",
    "Discuss our two results here. What do they suggest about the hypothesis?\n"
   ]
  },
  {
   "cell_type": "code",
   "execution_count": 72,
   "metadata": {},
   "outputs": [],
   "source": [
    "# Extract the data series\n",
    "#data_series1 = hypothesis_4_hi_no_latvia_df[\"rel_reduction_low3\"]\n",
    "\n",
    "#data_series2 = hypothesis_4_not_hi_no_kiri_mad_df[\"rel_reduction_low3\"]\n",
    "\n",
    "# Create a scatter plot\n",
    "#plt.scatter(y = data_series1, x = range(51), color='blue', label='High Income')\n",
    "#plt.scatter(y = data_series2, x = range(96), color='red', label='Not High Income')\n",
    "\n",
    "# Add labels and legend\n",
    "#plt.ylabel(\"Paris Agreement Reduction Pledges\")\n",
    "#plt.legend()\n",
    "\n",
    "# Add a title\n",
    "#plt.title(\"Scatter Plot of rel_reduction_low3, Outliers Removed\")\n",
    "\n",
    "# Show the plot\n",
    "#plt.show()"
   ]
  },
  {
   "cell_type": "markdown",
   "metadata": {},
   "source": [
    "We can get an intuitive feeling for this result with the above scatter plot. Ignore the horizontal variance - it's just to separate out the plot points. \n",
    "\n",
    "\n",
    "\n",
    "\n"
   ]
  },
  {
   "cell_type": "markdown",
   "metadata": {},
   "source": [
    "# 7. Group Comparisons: Are average emission levels different by region?\n",
    "\n",
    "So, if High Income countries aren't making bigger or smaller reductions than others, what does overall emission variability look like?\n",
    "\n",
    "We'll look at actual emissions, on a per-capita basis, this time. Groups will be made by overall world region. Because these vary over time, we can't just take any entry in a country's data. Instead, we'll remove all NaN values and then take the most recent value. \n",
    "\n",
    "### Hypotheses\n",
    "\n",
    "- H0: Mean per-capita emissions are equal across world regions\n",
    "- H1: Mean per-capita emissions are not equal across world regions\n",
    "\n",
    "### Steps\n",
    "\n",
    "We'll get a dataframe with the `country`, `year`, `wbregion` and `GHG_percapita` variables, remove NaN values and grab the most recent year. Then, we'll compare the average `GHG_percapita` values by region."
   ]
  },
  {
   "cell_type": "code",
   "execution_count": 73,
   "metadata": {},
   "outputs": [
    {
     "data": {
      "text/html": [
       "<div>\n",
       "<style scoped>\n",
       "    .dataframe tbody tr th:only-of-type {\n",
       "        vertical-align: middle;\n",
       "    }\n",
       "\n",
       "    .dataframe tbody tr th {\n",
       "        vertical-align: top;\n",
       "    }\n",
       "\n",
       "    .dataframe thead th {\n",
       "        text-align: right;\n",
       "    }\n",
       "</style>\n",
       "<table border=\"1\" class=\"dataframe\">\n",
       "  <thead>\n",
       "    <tr style=\"text-align: right;\">\n",
       "      <th></th>\n",
       "      <th>country</th>\n",
       "      <th>year</th>\n",
       "      <th>wbregion</th>\n",
       "      <th>GHG_percapita</th>\n",
       "    </tr>\n",
       "  </thead>\n",
       "  <tbody>\n",
       "    <tr>\n",
       "      <th>45</th>\n",
       "      <td>Afghanistan</td>\n",
       "      <td>2015</td>\n",
       "      <td>South Asia</td>\n",
       "      <td>0.923207</td>\n",
       "    </tr>\n",
       "    <tr>\n",
       "      <th>94</th>\n",
       "      <td>Albania</td>\n",
       "      <td>2015</td>\n",
       "      <td>Europe &amp; Central Asia</td>\n",
       "      <td>3.033559</td>\n",
       "    </tr>\n",
       "    <tr>\n",
       "      <th>143</th>\n",
       "      <td>Algeria</td>\n",
       "      <td>2015</td>\n",
       "      <td>Middle East &amp; North Africa</td>\n",
       "      <td>6.004847</td>\n",
       "    </tr>\n",
       "    <tr>\n",
       "      <th>192</th>\n",
       "      <td>Angola</td>\n",
       "      <td>2015</td>\n",
       "      <td>Sub-Saharan Africa</td>\n",
       "      <td>2.908655</td>\n",
       "    </tr>\n",
       "    <tr>\n",
       "      <th>241</th>\n",
       "      <td>Anguilla</td>\n",
       "      <td>2015</td>\n",
       "      <td>Latin America &amp; Caribbean</td>\n",
       "      <td>2.207837</td>\n",
       "    </tr>\n",
       "    <tr>\n",
       "      <th>...</th>\n",
       "      <td>...</td>\n",
       "      <td>...</td>\n",
       "      <td>...</td>\n",
       "      <td>...</td>\n",
       "    </tr>\n",
       "    <tr>\n",
       "      <th>10139</th>\n",
       "      <td>Vietnam</td>\n",
       "      <td>2015</td>\n",
       "      <td>East Asia &amp; Pacific</td>\n",
       "      <td>3.586052</td>\n",
       "    </tr>\n",
       "    <tr>\n",
       "      <th>10188</th>\n",
       "      <td>Western Sahara</td>\n",
       "      <td>2015</td>\n",
       "      <td>Sub-Saharan Africa</td>\n",
       "      <td>1.579486</td>\n",
       "    </tr>\n",
       "    <tr>\n",
       "      <th>10286</th>\n",
       "      <td>Yemen, Rep.</td>\n",
       "      <td>2015</td>\n",
       "      <td>Middle East &amp; North Africa</td>\n",
       "      <td>1.203430</td>\n",
       "    </tr>\n",
       "    <tr>\n",
       "      <th>10335</th>\n",
       "      <td>Zambia</td>\n",
       "      <td>2015</td>\n",
       "      <td>Sub-Saharan Africa</td>\n",
       "      <td>1.465929</td>\n",
       "    </tr>\n",
       "    <tr>\n",
       "      <th>10384</th>\n",
       "      <td>Zimbabwe</td>\n",
       "      <td>2015</td>\n",
       "      <td>Sub-Saharan Africa</td>\n",
       "      <td>1.856919</td>\n",
       "    </tr>\n",
       "  </tbody>\n",
       "</table>\n",
       "<p>208 rows × 4 columns</p>\n",
       "</div>"
      ],
      "text/plain": [
       "              country  year                    wbregion  GHG_percapita\n",
       "45        Afghanistan  2015                  South Asia       0.923207\n",
       "94            Albania  2015       Europe & Central Asia       3.033559\n",
       "143           Algeria  2015  Middle East & North Africa       6.004847\n",
       "192            Angola  2015          Sub-Saharan Africa       2.908655\n",
       "241          Anguilla  2015   Latin America & Caribbean       2.207837\n",
       "...               ...   ...                         ...            ...\n",
       "10139         Vietnam  2015         East Asia & Pacific       3.586052\n",
       "10188  Western Sahara  2015          Sub-Saharan Africa       1.579486\n",
       "10286     Yemen, Rep.  2015  Middle East & North Africa       1.203430\n",
       "10335          Zambia  2015          Sub-Saharan Africa       1.465929\n",
       "10384        Zimbabwe  2015          Sub-Saharan Africa       1.856919\n",
       "\n",
       "[208 rows x 4 columns]"
      ]
     },
     "execution_count": 73,
     "metadata": {},
     "output_type": "execute_result"
    }
   ],
   "source": [
    "# assign hypothesis 5 dataframe\n",
    "hypothesis_5_df = policy_df[[\"country\", \"year\", \"wbregion\", \"GHG_percapita\"]]\n",
    "\n",
    "# drop NaN values\n",
    "hypothesis_5_df.dropna(inplace=True)\n",
    "\n",
    "# find most recent year by country\n",
    "most_recent_indices = hypothesis_5_df.groupby('country')['year'].idxmax()\n",
    "\n",
    "# Subset the DataFrame to include only the most recent year for each country\n",
    "hypothesis_5_df = hypothesis_5_df.loc[most_recent_indices]\n",
    "\n",
    "hypothesis_5_df"
   ]
  },
  {
   "cell_type": "code",
   "execution_count": 74,
   "metadata": {},
   "outputs": [
    {
     "data": {
      "text/plain": [
       "array(['South Asia', 'Europe & Central Asia',\n",
       "       'Middle East & North Africa', 'Sub-Saharan Africa',\n",
       "       'Latin America & Caribbean', 'East Asia & Pacific',\n",
       "       'North America'], dtype=object)"
      ]
     },
     "execution_count": 74,
     "metadata": {},
     "output_type": "execute_result"
    }
   ],
   "source": [
    "# what are the regions?\n",
    "hypothesis_5_df[\"wbregion\"].unique()"
   ]
  },
  {
   "cell_type": "markdown",
   "metadata": {},
   "source": [
    "### Testing Hypothesis\n",
    "\n",
    "Scipy's `stats.f_oneway()` performs a one-way ANOVA test: the null hypothesis holds that two or more groups have the same population mean. The different groups inpuuted can have differing sizes.\n",
    "\n",
    "Arguments include:\n",
    "\n",
    "- `sample1`, `sample2`, etc: array/list/columns of numeric values\n",
    "\n",
    "These don't need to be named as `sample#`, and we won't bother below. \n",
    "\n",
    "The function returns an F-statistic and a p-value."
   ]
  },
  {
   "cell_type": "code",
   "execution_count": 75,
   "metadata": {},
   "outputs": [
    {
     "name": "stdout",
     "output_type": "stream",
     "text": [
      "F-statistic:  4.546858263925497\n",
      "P-value:  0.00023917782457569077\n"
     ]
    }
   ],
   "source": [
    "# Perform ANOVA test\n",
    "f_statistic, p_value = stats.f_oneway(hypothesis_5_df[hypothesis_5_df[\"wbregion\"] == \"South Asia\"][\"GHG_percapita\"],\n",
    "                                      hypothesis_5_df[hypothesis_5_df[\"wbregion\"] == \"Europe & Central Asia\"][\"GHG_percapita\"],\n",
    "                                      hypothesis_5_df[hypothesis_5_df[\"wbregion\"] == \"Middle East & North Africa\"][\"GHG_percapita\"],\n",
    "                                      hypothesis_5_df[hypothesis_5_df[\"wbregion\"] == \"Sub-Saharan Africa\"][\"GHG_percapita\"],\n",
    "                                      hypothesis_5_df[hypothesis_5_df[\"wbregion\"] == \"Latin America & Caribbean\"][\"GHG_percapita\"],\n",
    "                                      hypothesis_5_df[hypothesis_5_df[\"wbregion\"] == \"East Asia & Pacific\"][\"GHG_percapita\"],\n",
    "                                      hypothesis_5_df[hypothesis_5_df[\"wbregion\"] == \"North America\"][\"GHG_percapita\"])\n",
    "\n",
    "# Output the results\n",
    "print(\"F-statistic: \", f_statistic)\n",
    "print(\"P-value: \", p_value)"
   ]
  },
  {
   "cell_type": "markdown",
   "metadata": {},
   "source": [
    "### Q5: Interpretation\n",
    "\n",
    "You know the drill."
   ]
  },
  {
   "cell_type": "markdown",
   "metadata": {},
   "source": [
    "# 8. Regression: Is there evidence for an Environmental Kuznets Curve?\n",
    "\n",
    "Much of our analysis has related to the relationship of emissions, or emission pledges, to national wealth. The following model will finish off our investigation.\n",
    "\n",
    "The \"Environmental Kuznets Curve\" relates environmental quality with economic growth. It suggests that as a country becomes wealthier, it will first see degraded environmental quality, likely as a result of growing energy and land use in manufacturing industries. However, beyond a certain point, further increases to per-capita income will cause the environment to improve again. From here on, marginal willingness to pay for environmental quality exceeds the marginal damage caused by economic growth (or said economic growth becomes more energy efficient, or the services sector comes to dominate manufacturing). \n",
    "\n",
    "We will model this by regressing per-capita greenhouse gas emissions against GDP/capita, and (GDP/capita)^2. The first GDP/Capita term provides the initial environmental degradation as industry grows. The quadratic term, if theory holds, will be negative and eventually dominate the linear term.\n",
    "\n",
    "### Hypotheses\n",
    "H0: There is no evidence of per-capita emissions falling with increasing wealth levels\n",
    "H1: A negative coefficient on the (GDP/capita)^2 term provides evidence of falling per-capita emissions with high wealth level"
   ]
  },
  {
   "cell_type": "code",
   "execution_count": 76,
   "metadata": {},
   "outputs": [
    {
     "data": {
      "text/html": [
       "<div>\n",
       "<style scoped>\n",
       "    .dataframe tbody tr th:only-of-type {\n",
       "        vertical-align: middle;\n",
       "    }\n",
       "\n",
       "    .dataframe tbody tr th {\n",
       "        vertical-align: top;\n",
       "    }\n",
       "\n",
       "    .dataframe thead th {\n",
       "        text-align: right;\n",
       "    }\n",
       "</style>\n",
       "<table border=\"1\" class=\"dataframe\">\n",
       "  <thead>\n",
       "    <tr style=\"text-align: right;\">\n",
       "      <th></th>\n",
       "      <th>country</th>\n",
       "      <th>year</th>\n",
       "      <th>GHG_percapita</th>\n",
       "      <th>GDP_percapita</th>\n",
       "      <th>GDP_percapita_square</th>\n",
       "    </tr>\n",
       "  </thead>\n",
       "  <tbody>\n",
       "    <tr>\n",
       "      <th>32</th>\n",
       "      <td>Afghanistan</td>\n",
       "      <td>2002</td>\n",
       "      <td>0.702079</td>\n",
       "      <td>330.303553</td>\n",
       "      <td>109100.437064</td>\n",
       "    </tr>\n",
       "    <tr>\n",
       "      <th>33</th>\n",
       "      <td>Afghanistan</td>\n",
       "      <td>2003</td>\n",
       "      <td>0.683639</td>\n",
       "      <td>343.080890</td>\n",
       "      <td>117704.496887</td>\n",
       "    </tr>\n",
       "    <tr>\n",
       "      <th>34</th>\n",
       "      <td>Afghanistan</td>\n",
       "      <td>2004</td>\n",
       "      <td>0.663115</td>\n",
       "      <td>333.216684</td>\n",
       "      <td>111033.358820</td>\n",
       "    </tr>\n",
       "    <tr>\n",
       "      <th>35</th>\n",
       "      <td>Afghanistan</td>\n",
       "      <td>2005</td>\n",
       "      <td>0.650085</td>\n",
       "      <td>357.234720</td>\n",
       "      <td>127616.645108</td>\n",
       "    </tr>\n",
       "    <tr>\n",
       "      <th>36</th>\n",
       "      <td>Afghanistan</td>\n",
       "      <td>2006</td>\n",
       "      <td>0.641430</td>\n",
       "      <td>365.284495</td>\n",
       "      <td>133432.762252</td>\n",
       "    </tr>\n",
       "  </tbody>\n",
       "</table>\n",
       "</div>"
      ],
      "text/plain": [
       "        country  year  GHG_percapita  GDP_percapita  GDP_percapita_square\n",
       "32  Afghanistan  2002       0.702079     330.303553         109100.437064\n",
       "33  Afghanistan  2003       0.683639     343.080890         117704.496887\n",
       "34  Afghanistan  2004       0.663115     333.216684         111033.358820\n",
       "35  Afghanistan  2005       0.650085     357.234720         127616.645108\n",
       "36  Afghanistan  2006       0.641430     365.284495         133432.762252"
      ]
     },
     "execution_count": 76,
     "metadata": {},
     "output_type": "execute_result"
    }
   ],
   "source": [
    "# initialize regression dataframe\n",
    "regression_df = policy_df[[\"country\", \"year\", \"GHG_percapita\", \"GDP_percapita\"]]\n",
    "\n",
    "# drop missing values\n",
    "regression_df.dropna(inplace=True)\n",
    "\n",
    "# calculate GDP_percapita_square\n",
    "regression_df[\"GDP_percapita_square\"] = regression_df[\"GDP_percapita\"]**2\n",
    "\n",
    "regression_df.head()"
   ]
  },
  {
   "cell_type": "markdown",
   "metadata": {},
   "source": [
    "First, it's never a bad idea to visualize our data. As we saw a few hypotheses back, it helps you catch outliers, and see any abnormal patterns in your data."
   ]
  },
  {
   "cell_type": "code",
   "execution_count": 77,
   "metadata": {},
   "outputs": [
    {
     "data": {
      "text/plain": [
       "<Axes: title={'center': 'Scatter Plot of GDP per Capita vs. GHG per Capita'}, xlabel='GDP_percapita', ylabel='GHG_percapita'>"
      ]
     },
     "execution_count": 77,
     "metadata": {},
     "output_type": "execute_result"
    },
    {
     "data": {
      "image/png": "[encoded data removed]",
      "text/plain": [
       "<Figure size 640x480 with 1 Axes>"
      ]
     },
     "metadata": {},
     "output_type": "display_data"
    }
   ],
   "source": [
    "# visualize log GHG per capita versus log GDP per capita\n",
    "\n",
    "# create logged variables\n",
    "\n",
    "log_gdppc = np.log(regression_df[\"GDP_percapita\"])\n",
    "log_ghgpc = np.log(regression_df[\"GHG_percapita\"])\n",
    "\n",
    "#plt.plot(x = regression_df[\"GDP_percapita\"], y = regression_df[\"GHG_percapita\"])\n",
    "\n",
    "plt.scatter(x = log_gdppc, y = log_ghgpc, alpha=0.4, s = 8)\n",
    "plt.xlabel(\"GDP per Capita\")\n",
    "plt.ylabel(\"GHG per Capita\")\n",
    "plt.title(\"Scatter Plot of GDP per Capita vs. GHG per Capita\")\n",
    "\n",
    "# add regression line\n",
    "sns.regplot(x = log_gdppc, y = log_ghgpc, scatter=False, color='red')"
   ]
  },
  {
   "cell_type": "markdown",
   "metadata": {},
   "source": [
    "Working with logarithm values, the relationship is... iffy. However, the logarithms make this already a nonlinear relationship, compressing in the very high values. What if we use raw data? "
   ]
  },
  {
   "cell_type": "code",
   "execution_count": 78,
   "metadata": {},
   "outputs": [
    {
     "data": {
      "text/plain": [
       "<Axes: title={'center': 'Scatter Plot of GDP per Capita vs. GHG per Capita'}, xlabel='GDP_percapita', ylabel='GHG_percapita'>"
      ]
     },
     "execution_count": 78,
     "metadata": {},
     "output_type": "execute_result"
    },
    {
     "data": {
      "image/png": "[encoded data removed]",
      "text/plain": [
       "<Figure size 640x480 with 1 Axes>"
      ]
     },
     "metadata": {},
     "output_type": "display_data"
    }
   ],
   "source": [
    "# visualize GHG per capita versus GDP per capita\n",
    "\n",
    "# create variables\n",
    "\n",
    "gdppc = regression_df[\"GDP_percapita\"]\n",
    "ghgpc = regression_df[\"GHG_percapita\"]\n",
    "\n",
    "#plt.plot(x = regression_df[\"GDP_percapita\"], y = regression_df[\"GHG_percapita\"])\n",
    "\n",
    "plt.scatter(x = gdppc, y = ghgpc, alpha=0.4, s = 8)\n",
    "plt.xlabel(\"GDP per Capita\")\n",
    "plt.ylabel(\"GHG per Capita\")\n",
    "plt.title(\"Scatter Plot of GDP per Capita vs. GHG per Capita\")\n",
    "\n",
    "# add regression line\n",
    "sns.regplot(x = gdppc, y = ghgpc, order = 2, scatter=False, color='red')"
   ]
  },
  {
   "cell_type": "markdown",
   "metadata": {},
   "source": [
    "Using non-logged, raw values, is rough. The data is blown way, way up by the extreme outliers on `GHG_percapita`. \n",
    "\n",
    "*However*, the greenhouse gas emissions per capita flattens out remarkably past ~25, with even some of the richest countries being only marginally higher than the poorest. The outliers may be problematic for our regression, but we can give it a try, in `reg_1`, using non-logged values."
   ]
  },
  {
   "cell_type": "code",
   "execution_count": 79,
   "metadata": {},
   "outputs": [
    {
     "data": {
      "text/html": [
       "<div>\n",
       "<style scoped>\n",
       "    .dataframe tbody tr th:only-of-type {\n",
       "        vertical-align: middle;\n",
       "    }\n",
       "\n",
       "    .dataframe tbody tr th {\n",
       "        vertical-align: top;\n",
       "    }\n",
       "\n",
       "    .dataframe thead th {\n",
       "        text-align: right;\n",
       "    }\n",
       "</style>\n",
       "<table border=\"1\" class=\"dataframe\">\n",
       "  <thead>\n",
       "    <tr style=\"text-align: right;\">\n",
       "      <th></th>\n",
       "      <th>const</th>\n",
       "      <th>country</th>\n",
       "      <th>year</th>\n",
       "      <th>GHG_percapita</th>\n",
       "      <th>GDP_percapita</th>\n",
       "      <th>GDP_percapita_square</th>\n",
       "    </tr>\n",
       "  </thead>\n",
       "  <tbody>\n",
       "    <tr>\n",
       "      <th>32</th>\n",
       "      <td>1.0</td>\n",
       "      <td>Afghanistan</td>\n",
       "      <td>2002</td>\n",
       "      <td>0.702079</td>\n",
       "      <td>330.303553</td>\n",
       "      <td>1.091004e+05</td>\n",
       "    </tr>\n",
       "    <tr>\n",
       "      <th>33</th>\n",
       "      <td>1.0</td>\n",
       "      <td>Afghanistan</td>\n",
       "      <td>2003</td>\n",
       "      <td>0.683639</td>\n",
       "      <td>343.080890</td>\n",
       "      <td>1.177045e+05</td>\n",
       "    </tr>\n",
       "    <tr>\n",
       "      <th>34</th>\n",
       "      <td>1.0</td>\n",
       "      <td>Afghanistan</td>\n",
       "      <td>2004</td>\n",
       "      <td>0.663115</td>\n",
       "      <td>333.216684</td>\n",
       "      <td>1.110334e+05</td>\n",
       "    </tr>\n",
       "    <tr>\n",
       "      <th>35</th>\n",
       "      <td>1.0</td>\n",
       "      <td>Afghanistan</td>\n",
       "      <td>2005</td>\n",
       "      <td>0.650085</td>\n",
       "      <td>357.234720</td>\n",
       "      <td>1.276166e+05</td>\n",
       "    </tr>\n",
       "    <tr>\n",
       "      <th>36</th>\n",
       "      <td>1.0</td>\n",
       "      <td>Afghanistan</td>\n",
       "      <td>2006</td>\n",
       "      <td>0.641430</td>\n",
       "      <td>365.284495</td>\n",
       "      <td>1.334328e+05</td>\n",
       "    </tr>\n",
       "    <tr>\n",
       "      <th>...</th>\n",
       "      <td>...</td>\n",
       "      <td>...</td>\n",
       "      <td>...</td>\n",
       "      <td>...</td>\n",
       "      <td>...</td>\n",
       "      <td>...</td>\n",
       "    </tr>\n",
       "    <tr>\n",
       "      <th>10380</th>\n",
       "      <td>1.0</td>\n",
       "      <td>Zimbabwe</td>\n",
       "      <td>2011</td>\n",
       "      <td>2.101805</td>\n",
       "      <td>1066.426265</td>\n",
       "      <td>1.137265e+06</td>\n",
       "    </tr>\n",
       "    <tr>\n",
       "      <th>10381</th>\n",
       "      <td>1.0</td>\n",
       "      <td>Zimbabwe</td>\n",
       "      <td>2012</td>\n",
       "      <td>2.108019</td>\n",
       "      <td>1223.203432</td>\n",
       "      <td>1.496227e+06</td>\n",
       "    </tr>\n",
       "    <tr>\n",
       "      <th>10382</th>\n",
       "      <td>1.0</td>\n",
       "      <td>Zimbabwe</td>\n",
       "      <td>2013</td>\n",
       "      <td>2.086966</td>\n",
       "      <td>1225.558112</td>\n",
       "      <td>1.501993e+06</td>\n",
       "    </tr>\n",
       "    <tr>\n",
       "      <th>10383</th>\n",
       "      <td>1.0</td>\n",
       "      <td>Zimbabwe</td>\n",
       "      <td>2014</td>\n",
       "      <td>1.898352</td>\n",
       "      <td>1232.864865</td>\n",
       "      <td>1.519956e+06</td>\n",
       "    </tr>\n",
       "    <tr>\n",
       "      <th>10384</th>\n",
       "      <td>1.0</td>\n",
       "      <td>Zimbabwe</td>\n",
       "      <td>2015</td>\n",
       "      <td>1.856919</td>\n",
       "      <td>1234.103352</td>\n",
       "      <td>1.523011e+06</td>\n",
       "    </tr>\n",
       "  </tbody>\n",
       "</table>\n",
       "<p>7436 rows × 6 columns</p>\n",
       "</div>"
      ],
      "text/plain": [
       "       const      country  year  GHG_percapita  GDP_percapita  \\\n",
       "32       1.0  Afghanistan  2002       0.702079     330.303553   \n",
       "33       1.0  Afghanistan  2003       0.683639     343.080890   \n",
       "34       1.0  Afghanistan  2004       0.663115     333.216684   \n",
       "35       1.0  Afghanistan  2005       0.650085     357.234720   \n",
       "36       1.0  Afghanistan  2006       0.641430     365.284495   \n",
       "...      ...          ...   ...            ...            ...   \n",
       "10380    1.0     Zimbabwe  2011       2.101805    1066.426265   \n",
       "10381    1.0     Zimbabwe  2012       2.108019    1223.203432   \n",
       "10382    1.0     Zimbabwe  2013       2.086966    1225.558112   \n",
       "10383    1.0     Zimbabwe  2014       1.898352    1232.864865   \n",
       "10384    1.0     Zimbabwe  2015       1.856919    1234.103352   \n",
       "\n",
       "       GDP_percapita_square  \n",
       "32             1.091004e+05  \n",
       "33             1.177045e+05  \n",
       "34             1.110334e+05  \n",
       "35             1.276166e+05  \n",
       "36             1.334328e+05  \n",
       "...                     ...  \n",
       "10380          1.137265e+06  \n",
       "10381          1.496227e+06  \n",
       "10382          1.501993e+06  \n",
       "10383          1.519956e+06  \n",
       "10384          1.523011e+06  \n",
       "\n",
       "[7436 rows x 6 columns]"
      ]
     },
     "execution_count": 79,
     "metadata": {},
     "output_type": "execute_result"
    }
   ],
   "source": [
    "# add constant term\n",
    "X = sm.add_constant(regression_df)\n",
    "\n",
    "X"
   ]
  },
  {
   "cell_type": "markdown",
   "metadata": {},
   "source": [
    "### Running Regression\n",
    "\n",
    "We use Statsmodels' regression function, `sm.OLS()`\n",
    "\n",
    "- `endog`: an array/list/dataframe column of our outcome variable's samples\n",
    "- `exog`: a dataframe containing our explanatory variables\n",
    "\n",
    "`endog` and `exog` must be the same length: the easiest way to ensure this is to keep them all in one dataframe, and then just name them as done below.\n",
    "\n",
    "This just sets up our regression. We must also run the model with the `.fit()` method.\n",
    "\n",
    "- `cov_type` sets our standard errors, with several options. We use the heteroskedasticity-robust \"HC3\" type.\n",
    "\n",
    "Finally, we call our regression with the `.summary()` method to output the results. "
   ]
  },
  {
   "cell_type": "code",
   "execution_count": 80,
   "metadata": {},
   "outputs": [
    {
     "name": "stdout",
     "output_type": "stream",
     "text": [
      "                            OLS Regression Results                            \n",
      "==============================================================================\n",
      "Dep. Variable:          GHG_percapita   R-squared:                       0.225\n",
      "Model:                            OLS   Adj. R-squared:                  0.224\n",
      "Method:                 Least Squares   F-statistic:                     427.9\n",
      "Date:                Thu, 07 Aug 2025   Prob (F-statistic):          1.31e-176\n",
      "Time:                        00:04:24   Log-Likelihood:                -29031.\n",
      "No. Observations:                7436   AIC:                         5.807e+04\n",
      "Df Residuals:                    7433   BIC:                         5.809e+04\n",
      "Df Model:                           2                                         \n",
      "Covariance Type:                  HC3                                         \n",
      "========================================================================================\n",
      "                           coef    std err          z      P>|z|      [0.025      0.975]\n",
      "----------------------------------------------------------------------------------------\n",
      "const                    2.9919      0.273     10.969      0.000       2.457       3.526\n",
      "GDP_percapita            0.0004    7.3e-05      5.840      0.000       0.000       0.001\n",
      "GDP_percapita_square -6.068e-10   1.56e-09     -0.390      0.697   -3.66e-09    2.45e-09\n",
      "==============================================================================\n",
      "Omnibus:                    11865.791   Durbin-Watson:                   0.234\n",
      "Prob(Omnibus):                  0.000   Jarque-Bera (JB):          9364591.001\n",
      "Skew:                          10.269   Prob(JB):                         0.00\n",
      "Kurtosis:                     175.635   Cond. No.                     1.64e+09\n",
      "==============================================================================\n",
      "\n",
      "Notes:\n",
      "[1] Standard Errors are heteroscedasticity robust (HC3)\n",
      "[2] The condition number is large, 1.64e+09. This might indicate that there are\n",
      "strong multicollinearity or other numerical problems.\n"
     ]
    }
   ],
   "source": [
    "# then test model\n",
    "\n",
    "# create model\n",
    "reg_1 = sm.OLS(X[\"GHG_percapita\"], X[[\"const\", \"GDP_percapita\", \"GDP_percapita_square\"]]).fit(cov_type = \"HC3\")\n",
    "\n",
    "# print summary\n",
    "print(reg_1.summary())"
   ]
  },
  {
   "cell_type": "markdown",
   "metadata": {},
   "source": [
    "### Q6: Interpretation\n",
    "\n",
    "Discuss the regression results - focus on the `coef`, `std err`, `z` and `P>|z|` values.\n",
    "\n",
    "\n",
    "\n"
   ]
  }
 ],
 "metadata": {
  "kernelspec": {
   "display_name": "Python 3 (ipykernel)",
   "language": "python",
   "name": "python3"
  },
  "language_info": {
   "codemirror_mode": {
    "name": "ipython",
    "version": 3
   },
   "file_extension": ".py",
   "mimetype": "text/x-python",
   "name": "python",
   "nbconvert_exporter": "python",
   "pygments_lexer": "ipython3",
   "version": "3.10.18"
  }
 },
 "nbformat": 4,
 "nbformat_minor": 4
}
